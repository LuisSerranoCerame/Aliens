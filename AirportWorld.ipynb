{
 "cells": [
  {
   "cell_type": "code",
   "execution_count": 1,
   "id": "f01d6255",
   "metadata": {},
   "outputs": [],
   "source": [
    "import pandas as pd\n",
    "import numpy as np\n",
    "import plotly.express as px\n",
    "import seaborn as sns\n",
    "import pandas as pd\n",
    "import plotly.graph_objects as go\n",
    "import matplotlib.pyplot as plt\n",
    "\n",
    "sns.set_context(\"poster\")\n",
    "sns.set(rc={\"figure.figsize\": (12.,6.)})\n",
    "sns.set_style(\"whitegrid\")"
   ]
  },
  {
   "cell_type": "code",
   "execution_count": 5,
   "id": "65a5036b",
   "metadata": {},
   "outputs": [
    {
     "data": {
      "text/plain": [
       "(67312, 18)"
      ]
     },
     "execution_count": 5,
     "metadata": {},
     "output_type": "execute_result"
    }
   ],
   "source": [
    "data = pd.read_csv(\"airports.csv\")\n",
    "data.shape"
   ]
  },
  {
   "cell_type": "code",
   "execution_count": 8,
   "id": "75df2569",
   "metadata": {},
   "outputs": [
    {
     "data": {
      "text/html": [
       "<div>\n",
       "<style scoped>\n",
       "    .dataframe tbody tr th:only-of-type {\n",
       "        vertical-align: middle;\n",
       "    }\n",
       "\n",
       "    .dataframe tbody tr th {\n",
       "        vertical-align: top;\n",
       "    }\n",
       "\n",
       "    .dataframe thead th {\n",
       "        text-align: right;\n",
       "    }\n",
       "</style>\n",
       "<table border=\"1\" class=\"dataframe\">\n",
       "  <thead>\n",
       "    <tr style=\"text-align: right;\">\n",
       "      <th></th>\n",
       "      <th>id</th>\n",
       "      <th>ident</th>\n",
       "      <th>type</th>\n",
       "      <th>name</th>\n",
       "      <th>latitude_deg</th>\n",
       "      <th>longitude_deg</th>\n",
       "      <th>elevation_ft</th>\n",
       "      <th>continent</th>\n",
       "      <th>iso_country</th>\n",
       "      <th>iso_region</th>\n",
       "      <th>municipality</th>\n",
       "      <th>scheduled_service</th>\n",
       "      <th>gps_code</th>\n",
       "      <th>iata_code</th>\n",
       "      <th>local_code</th>\n",
       "      <th>home_link</th>\n",
       "      <th>wikipedia_link</th>\n",
       "      <th>keywords</th>\n",
       "    </tr>\n",
       "  </thead>\n",
       "  <tbody>\n",
       "    <tr>\n",
       "      <th>46518</th>\n",
       "      <td>5560</td>\n",
       "      <td>RJER</td>\n",
       "      <td>medium_airport</td>\n",
       "      <td>Rishiri Airport</td>\n",
       "      <td>45.242001</td>\n",
       "      <td>141.186005</td>\n",
       "      <td>112.0</td>\n",
       "      <td>AS</td>\n",
       "      <td>JP</td>\n",
       "      <td>JP-01</td>\n",
       "      <td>Rishiri</td>\n",
       "      <td>yes</td>\n",
       "      <td>RJER</td>\n",
       "      <td>RIS</td>\n",
       "      <td>NaN</td>\n",
       "      <td>NaN</td>\n",
       "      <td>https://en.wikipedia.org/wiki/Rishiri_Airport</td>\n",
       "      <td>NaN</td>\n",
       "    </tr>\n",
       "    <tr>\n",
       "      <th>56270</th>\n",
       "      <td>318785</td>\n",
       "      <td>TZ-0127</td>\n",
       "      <td>small_airport</td>\n",
       "      <td>Lwafi Airport</td>\n",
       "      <td>-6.982929</td>\n",
       "      <td>30.894894</td>\n",
       "      <td>3600.0</td>\n",
       "      <td>AF</td>\n",
       "      <td>TZ</td>\n",
       "      <td>TZ-20</td>\n",
       "      <td>Lwafi</td>\n",
       "      <td>no</td>\n",
       "      <td>NaN</td>\n",
       "      <td>NaN</td>\n",
       "      <td>NaN</td>\n",
       "      <td>NaN</td>\n",
       "      <td>NaN</td>\n",
       "      <td>NaN</td>\n",
       "    </tr>\n",
       "    <tr>\n",
       "      <th>42191</th>\n",
       "      <td>22702</td>\n",
       "      <td>NA07</td>\n",
       "      <td>small_airport</td>\n",
       "      <td>Kornkven Airstrip</td>\n",
       "      <td>48.886398</td>\n",
       "      <td>-100.695000</td>\n",
       "      <td>1505.0</td>\n",
       "      <td>NaN</td>\n",
       "      <td>US</td>\n",
       "      <td>US-ND</td>\n",
       "      <td>Souris</td>\n",
       "      <td>no</td>\n",
       "      <td>NA07</td>\n",
       "      <td>NaN</td>\n",
       "      <td>NA07</td>\n",
       "      <td>NaN</td>\n",
       "      <td>NaN</td>\n",
       "      <td>NaN</td>\n",
       "    </tr>\n",
       "    <tr>\n",
       "      <th>31941</th>\n",
       "      <td>19386</td>\n",
       "      <td>KBKX</td>\n",
       "      <td>small_airport</td>\n",
       "      <td>Brookings Regional Airport</td>\n",
       "      <td>44.304798</td>\n",
       "      <td>-96.816902</td>\n",
       "      <td>1648.0</td>\n",
       "      <td>NaN</td>\n",
       "      <td>US</td>\n",
       "      <td>US-SD</td>\n",
       "      <td>Brookings</td>\n",
       "      <td>no</td>\n",
       "      <td>KBKX</td>\n",
       "      <td>BKX</td>\n",
       "      <td>BKX</td>\n",
       "      <td>NaN</td>\n",
       "      <td>https://en.wikipedia.org/wiki/Brookings_Region...</td>\n",
       "      <td>NaN</td>\n",
       "    </tr>\n",
       "    <tr>\n",
       "      <th>15805</th>\n",
       "      <td>663</td>\n",
       "      <td>CBB9</td>\n",
       "      <td>small_airport</td>\n",
       "      <td>Osoyoos Airport</td>\n",
       "      <td>49.037201</td>\n",
       "      <td>-119.488998</td>\n",
       "      <td>1100.0</td>\n",
       "      <td>NaN</td>\n",
       "      <td>CA</td>\n",
       "      <td>CA-BC</td>\n",
       "      <td>Osoyoos</td>\n",
       "      <td>no</td>\n",
       "      <td>CBB9</td>\n",
       "      <td>NaN</td>\n",
       "      <td>CBB9</td>\n",
       "      <td>http://www.sunnyosoyoos.com/webpages1/airport.htm</td>\n",
       "      <td>https://en.wikipedia.org/wiki/Osoyoos_Airport</td>\n",
       "      <td>BB9</td>\n",
       "    </tr>\n",
       "    <tr>\n",
       "      <th>26487</th>\n",
       "      <td>310480</td>\n",
       "      <td>ID-0086</td>\n",
       "      <td>small_airport</td>\n",
       "      <td>Kustera Airstrip</td>\n",
       "      <td>-2.746700</td>\n",
       "      <td>137.920000</td>\n",
       "      <td>350.0</td>\n",
       "      <td>AS</td>\n",
       "      <td>ID</td>\n",
       "      <td>ID-PA</td>\n",
       "      <td>Kustera</td>\n",
       "      <td>no</td>\n",
       "      <td>NaN</td>\n",
       "      <td>NaN</td>\n",
       "      <td>KUS</td>\n",
       "      <td>NaN</td>\n",
       "      <td>NaN</td>\n",
       "      <td>WZ57</td>\n",
       "    </tr>\n",
       "    <tr>\n",
       "      <th>41031</th>\n",
       "      <td>330144</td>\n",
       "      <td>MX-0953</td>\n",
       "      <td>heliport</td>\n",
       "      <td>Mexipuerto Ecatepec Heliport</td>\n",
       "      <td>19.534500</td>\n",
       "      <td>-99.026752</td>\n",
       "      <td>7336.0</td>\n",
       "      <td>NaN</td>\n",
       "      <td>MX</td>\n",
       "      <td>MX-MEX</td>\n",
       "      <td>Ecatepec</td>\n",
       "      <td>yes</td>\n",
       "      <td>NaN</td>\n",
       "      <td>NaN</td>\n",
       "      <td>HXE</td>\n",
       "      <td>NaN</td>\n",
       "      <td>NaN</td>\n",
       "      <td>NaN</td>\n",
       "    </tr>\n",
       "    <tr>\n",
       "      <th>2997</th>\n",
       "      <td>9237</td>\n",
       "      <td>29C</td>\n",
       "      <td>small_airport</td>\n",
       "      <td>Grindstone Air Harbor Airport</td>\n",
       "      <td>44.047798</td>\n",
       "      <td>-82.914200</td>\n",
       "      <td>640.0</td>\n",
       "      <td>NaN</td>\n",
       "      <td>US</td>\n",
       "      <td>US-MI</td>\n",
       "      <td>Port Austin</td>\n",
       "      <td>no</td>\n",
       "      <td>29C</td>\n",
       "      <td>NaN</td>\n",
       "      <td>29C</td>\n",
       "      <td>NaN</td>\n",
       "      <td>NaN</td>\n",
       "      <td>NaN</td>\n",
       "    </tr>\n",
       "    <tr>\n",
       "      <th>9161</th>\n",
       "      <td>14749</td>\n",
       "      <td>87CN</td>\n",
       "      <td>heliport</td>\n",
       "      <td>Honda of Santa Ana Heliport</td>\n",
       "      <td>33.727100</td>\n",
       "      <td>-117.835999</td>\n",
       "      <td>113.0</td>\n",
       "      <td>NaN</td>\n",
       "      <td>US</td>\n",
       "      <td>US-CA</td>\n",
       "      <td>Santa Ana</td>\n",
       "      <td>no</td>\n",
       "      <td>87CN</td>\n",
       "      <td>NaN</td>\n",
       "      <td>87CN</td>\n",
       "      <td>NaN</td>\n",
       "      <td>NaN</td>\n",
       "      <td>NaN</td>\n",
       "    </tr>\n",
       "    <tr>\n",
       "      <th>64842</th>\n",
       "      <td>26341</td>\n",
       "      <td>Y98</td>\n",
       "      <td>small_airport</td>\n",
       "      <td>Grand Marais Airport</td>\n",
       "      <td>46.620800</td>\n",
       "      <td>-85.916801</td>\n",
       "      <td>838.0</td>\n",
       "      <td>NaN</td>\n",
       "      <td>US</td>\n",
       "      <td>US-MI</td>\n",
       "      <td>Grand Marais</td>\n",
       "      <td>no</td>\n",
       "      <td>Y98</td>\n",
       "      <td>NaN</td>\n",
       "      <td>Y98</td>\n",
       "      <td>NaN</td>\n",
       "      <td>NaN</td>\n",
       "      <td>NaN</td>\n",
       "    </tr>\n",
       "  </tbody>\n",
       "</table>\n",
       "</div>"
      ],
      "text/plain": [
       "           id    ident            type                           name  \\\n",
       "46518    5560     RJER  medium_airport                Rishiri Airport   \n",
       "56270  318785  TZ-0127   small_airport                  Lwafi Airport   \n",
       "42191   22702     NA07   small_airport              Kornkven Airstrip   \n",
       "31941   19386     KBKX   small_airport     Brookings Regional Airport   \n",
       "15805     663     CBB9   small_airport                Osoyoos Airport   \n",
       "26487  310480  ID-0086   small_airport               Kustera Airstrip   \n",
       "41031  330144  MX-0953        heliport   Mexipuerto Ecatepec Heliport   \n",
       "2997     9237      29C   small_airport  Grindstone Air Harbor Airport   \n",
       "9161    14749     87CN        heliport    Honda of Santa Ana Heliport   \n",
       "64842   26341      Y98   small_airport           Grand Marais Airport   \n",
       "\n",
       "       latitude_deg  longitude_deg  elevation_ft continent iso_country  \\\n",
       "46518     45.242001     141.186005         112.0        AS          JP   \n",
       "56270     -6.982929      30.894894        3600.0        AF          TZ   \n",
       "42191     48.886398    -100.695000        1505.0       NaN          US   \n",
       "31941     44.304798     -96.816902        1648.0       NaN          US   \n",
       "15805     49.037201    -119.488998        1100.0       NaN          CA   \n",
       "26487     -2.746700     137.920000         350.0        AS          ID   \n",
       "41031     19.534500     -99.026752        7336.0       NaN          MX   \n",
       "2997      44.047798     -82.914200         640.0       NaN          US   \n",
       "9161      33.727100    -117.835999         113.0       NaN          US   \n",
       "64842     46.620800     -85.916801         838.0       NaN          US   \n",
       "\n",
       "      iso_region  municipality scheduled_service gps_code iata_code  \\\n",
       "46518      JP-01       Rishiri               yes     RJER       RIS   \n",
       "56270      TZ-20         Lwafi                no      NaN       NaN   \n",
       "42191      US-ND        Souris                no     NA07       NaN   \n",
       "31941      US-SD     Brookings                no     KBKX       BKX   \n",
       "15805      CA-BC       Osoyoos                no     CBB9       NaN   \n",
       "26487      ID-PA       Kustera                no      NaN       NaN   \n",
       "41031     MX-MEX      Ecatepec               yes      NaN       NaN   \n",
       "2997       US-MI   Port Austin                no      29C       NaN   \n",
       "9161       US-CA     Santa Ana                no     87CN       NaN   \n",
       "64842      US-MI  Grand Marais                no      Y98       NaN   \n",
       "\n",
       "      local_code                                          home_link  \\\n",
       "46518        NaN                                                NaN   \n",
       "56270        NaN                                                NaN   \n",
       "42191       NA07                                                NaN   \n",
       "31941        BKX                                                NaN   \n",
       "15805       CBB9  http://www.sunnyosoyoos.com/webpages1/airport.htm   \n",
       "26487        KUS                                                NaN   \n",
       "41031        HXE                                                NaN   \n",
       "2997         29C                                                NaN   \n",
       "9161        87CN                                                NaN   \n",
       "64842        Y98                                                NaN   \n",
       "\n",
       "                                          wikipedia_link keywords  \n",
       "46518      https://en.wikipedia.org/wiki/Rishiri_Airport      NaN  \n",
       "56270                                                NaN      NaN  \n",
       "42191                                                NaN      NaN  \n",
       "31941  https://en.wikipedia.org/wiki/Brookings_Region...      NaN  \n",
       "15805      https://en.wikipedia.org/wiki/Osoyoos_Airport      BB9  \n",
       "26487                                                NaN     WZ57  \n",
       "41031                                                NaN      NaN  \n",
       "2997                                                 NaN      NaN  \n",
       "9161                                                 NaN      NaN  \n",
       "64842                                                NaN      NaN  "
      ]
     },
     "execution_count": 8,
     "metadata": {},
     "output_type": "execute_result"
    }
   ],
   "source": [
    "data.sample(10)"
   ]
  },
  {
   "cell_type": "code",
   "execution_count": 9,
   "id": "8681a0a7",
   "metadata": {
    "collapsed": true
   },
   "outputs": [
    {
     "data": {
      "text/plain": [
       "array(['US', 'PR', 'MH', 'MP', 'GU', 'SO', 'AQ', 'GB', 'PG', 'PH', 'AD',\n",
       "       'SD', 'SA', 'AE', 'SS', 'ES', 'CN', 'AF', 'LK', 'AG', 'SB', 'CO',\n",
       "       'AU', 'MG', 'AI', 'TD', 'AL', 'XK', 'AM', 'MX', 'MZ', 'PW', 'NR',\n",
       "       'AO', 'AR', 'AS', 'AT', 'AW', 'GA', 'AZ', 'BA', 'BD', 'BE', 'BF',\n",
       "       'BG', 'GL', 'BH', 'BI', 'IS', 'BJ', 'OM', 'BM', 'KE', 'BN', 'BO',\n",
       "       'BQ', 'BR', 'BS', 'BT', 'CV', 'BW', 'FJ', 'BY', 'UA', 'LR', 'BZ',\n",
       "       'CA', 'CD', 'CF', 'CG', 'MR', 'CH', 'CI', 'CL', 'CM', 'CR', 'CU',\n",
       "       'CY', 'CZ', 'SK', 'PA', 'DZ', 'YE', 'DE', 'ID', 'GH', 'RU', 'DJ',\n",
       "       'DK', 'NG', 'DO', 'NE', 'HR', 'TN', 'TG', 'EC', 'EE', 'FI', 'EG',\n",
       "       'GG', 'JE', 'IM', 'FK', 'EH', 'NL', 'IE', 'FO', 'LU', 'GT', 'NO',\n",
       "       'PL', 'ER', 'MN', 'PT', 'SE', 'ZW', 'ET', 'LV', 'LT', 'ZA', 'SZ',\n",
       "       'GQ', 'SH', 'MU', 'IO', 'ZM', 'FM', 'KM', 'YT', 'RE', 'TF', 'MV',\n",
       "       'ST', 'FR', 'SC', 'MW', 'LS', nan, 'ML', 'GM', 'GE', 'GF', 'SL',\n",
       "       'GW', 'MA', 'GN', 'SN', 'GR', 'GS', 'TZ', 'GY', 'SR', 'HK', 'LY',\n",
       "       'HN', 'VN', 'KZ', 'RW', 'HT', 'HU', 'UG', 'TL', 'IL', 'IN', 'IQ',\n",
       "       'IR', 'JP', 'IT', 'JM', 'JO', 'KG', 'KH', 'KI', 'KP', 'KR', 'KW',\n",
       "       'KY', 'LA', 'MY', 'LB', 'PM', 'LI', 'SI', 'PS', 'MT', 'MC', 'RO',\n",
       "       'TR', 'MD', 'MK', 'GI', 'RS', 'ME', 'TC', 'GD', 'MM', 'NI', 'MO',\n",
       "       'MQ', 'SV', 'MF', 'NC', 'CK', 'TO', 'TV', 'NU', 'WF', 'NP', 'UM',\n",
       "       'WS', 'PF', 'ZZ', 'VU', 'NZ', 'PK', 'SY', 'QA', 'PE', 'TH', 'PY',\n",
       "       'TW', 'SG', 'VI', 'SM', 'UY', 'VE', 'BB', 'DM', 'GP', 'BL', 'TJ',\n",
       "       'KN', 'LC', 'TM', 'CW', 'SX', 'VG', 'MS', 'TT', 'VC', 'UZ', 'VA',\n",
       "       'CC', 'CX', 'NF'], dtype=object)"
      ]
     },
     "execution_count": 9,
     "metadata": {},
     "output_type": "execute_result"
    }
   ],
   "source": [
    "data[\"iso_country\"].unique()"
   ]
  },
  {
   "cell_type": "code",
   "execution_count": 7,
   "id": "3fee58c9",
   "metadata": {
    "scrolled": true
   },
   "outputs": [
    {
     "data": {
      "text/plain": [
       "array(['heliport', 'small_airport', 'closed', 'seaplane_base',\n",
       "       'balloonport', 'medium_airport', 'large_airport'], dtype=object)"
      ]
     },
     "execution_count": 7,
     "metadata": {},
     "output_type": "execute_result"
    }
   ],
   "source": [
    "data[\"type\"].unique()"
   ]
  },
  {
   "cell_type": "code",
   "execution_count": 13,
   "id": "109a3782",
   "metadata": {},
   "outputs": [],
   "source": [
    "dfairports = data[[\"type\",\"name\",\"latitude_deg\",\"longitude_deg\",\"elevation_ft\",\"continent\",\"iso_country\"]]"
   ]
  },
  {
   "cell_type": "code",
   "execution_count": 19,
   "id": "acab8059",
   "metadata": {},
   "outputs": [
    {
     "data": {
      "text/plain": [
       "array(['US', 'PR', 'MH', 'MP', 'GU', 'SO', 'AQ', 'GB', 'PG', 'PH', 'AD',\n",
       "       'SD', 'SA', 'AE', 'SS', 'ES', 'CN', 'AF', 'LK', 'AG', 'SB', 'CO',\n",
       "       'AU', 'MG', 'AI', 'TD', 'AL', 'XK', 'AM', 'MX', 'MZ', 'PW', 'NR',\n",
       "       'AO', 'AR', 'AS', 'AT', 'AW', 'GA', 'AZ', 'BA', 'BD', 'BE', 'BF',\n",
       "       'BG', 'GL', 'BH', 'BI', 'IS', 'BJ', 'OM', 'BM', 'KE', 'BN', 'BO',\n",
       "       'BQ', 'BR', 'BS', 'BT', 'CV', 'BW', 'FJ', 'BY', 'UA', 'LR', 'BZ',\n",
       "       'CA', 'CD', 'CF', 'CG', 'MR', 'CH', 'CI', 'CL', 'CM', 'CR', 'CU',\n",
       "       'CY', 'CZ', 'SK', 'PA', 'DZ', 'YE', 'DE', 'ID', 'GH', 'RU', 'DJ',\n",
       "       'DK', 'NG', 'DO', 'NE', 'HR', 'TN', 'TG', 'EC', 'EE', 'FI', 'EG',\n",
       "       'GG', 'JE', 'IM', 'FK', 'EH', 'NL', 'IE', 'FO', 'LU', 'GT', 'NO',\n",
       "       'PL', 'ER', 'MN', 'PT', 'SE', 'ZW', 'ET', 'LV', 'LT', 'ZA', 'SZ',\n",
       "       'GQ', 'SH', 'MU', 'IO', 'ZM', 'FM', 'KM', 'YT', 'RE', 'TF', 'MV',\n",
       "       'ST', 'FR', 'SC', 'MW', 'LS', nan, 'ML', 'GM', 'GE', 'GF', 'SL',\n",
       "       'GW', 'MA', 'GN', 'SN', 'GR', 'GS', 'TZ', 'GY', 'SR', 'HK', 'LY',\n",
       "       'HN', 'VN', 'KZ', 'RW', 'HT', 'HU', 'UG', 'TL', 'IL', 'IN', 'IQ',\n",
       "       'IR', 'JP', 'IT', 'JM', 'JO', 'KG', 'KH', 'KI', 'KP', 'KR', 'KW',\n",
       "       'KY', 'LA', 'MY', 'LB', 'PM', 'LI', 'SI', 'PS', 'MT', 'MC', 'RO',\n",
       "       'TR', 'MD', 'MK', 'GI', 'RS', 'ME', 'TC', 'GD', 'MM', 'NI', 'MO',\n",
       "       'MQ', 'SV', 'MF', 'NC', 'CK', 'TO', 'TV', 'NU', 'WF', 'NP', 'UM',\n",
       "       'WS', 'PF', 'ZZ', 'VU', 'NZ', 'PK', 'SY', 'QA', 'PE', 'TH', 'PY',\n",
       "       'TW', 'SG', 'VI', 'SM', 'UY', 'VE', 'BB', 'DM', 'GP', 'BL', 'TJ',\n",
       "       'KN', 'LC', 'TM', 'CW', 'SX', 'VG', 'MS', 'TT', 'VC', 'UZ', 'VA',\n",
       "       'CC', 'CX', 'NF'], dtype=object)"
      ]
     },
     "execution_count": 19,
     "metadata": {},
     "output_type": "execute_result"
    }
   ],
   "source": [
    "dfairports[\"iso_country\"].unique()"
   ]
  },
  {
   "cell_type": "code",
   "execution_count": 17,
   "id": "63b5c2fa",
   "metadata": {
    "scrolled": true
   },
   "outputs": [
    {
     "data": {
      "text/plain": [
       "type                 0\n",
       "name                 0\n",
       "latitude_deg         0\n",
       "longitude_deg        0\n",
       "elevation_ft     12977\n",
       "continent        32992\n",
       "iso_country        257\n",
       "dtype: int64"
      ]
     },
     "execution_count": 17,
     "metadata": {},
     "output_type": "execute_result"
    }
   ],
   "source": [
    "dfairports.isna().sum()"
   ]
  },
  {
   "cell_type": "code",
   "execution_count": 35,
   "id": "955f89e0",
   "metadata": {},
   "outputs": [
    {
     "data": {
      "text/plain": [
       "Index(['type', 'name', 'latitude_deg', 'longitude_deg', 'elevation_ft',\n",
       "       'continent', 'iso_country'],\n",
       "      dtype='object')"
      ]
     },
     "execution_count": 35,
     "metadata": {},
     "output_type": "execute_result"
    }
   ],
   "source": [
    "dfairportsus = dfairports[(dfairports.iso_country==\"US\")]\n",
    "dfairportsus.isna().sum()\n",
    "dfairportsus.columns"
   ]
  },
  {
   "cell_type": "code",
   "execution_count": 39,
   "id": "aa66bcce",
   "metadata": {},
   "outputs": [],
   "source": [
    "dfairportsus = dfairportsus.drop(\"continent\",axis=1)"
   ]
  },
  {
   "cell_type": "code",
   "execution_count": 43,
   "id": "018ef087",
   "metadata": {},
   "outputs": [
    {
     "data": {
      "text/html": [
       "<div>\n",
       "<style scoped>\n",
       "    .dataframe tbody tr th:only-of-type {\n",
       "        vertical-align: middle;\n",
       "    }\n",
       "\n",
       "    .dataframe tbody tr th {\n",
       "        vertical-align: top;\n",
       "    }\n",
       "\n",
       "    .dataframe thead th {\n",
       "        text-align: right;\n",
       "    }\n",
       "</style>\n",
       "<table border=\"1\" class=\"dataframe\">\n",
       "  <thead>\n",
       "    <tr style=\"text-align: right;\">\n",
       "      <th></th>\n",
       "      <th>type</th>\n",
       "      <th>name</th>\n",
       "      <th>latitude_deg</th>\n",
       "      <th>longitude_deg</th>\n",
       "      <th>elevation_ft</th>\n",
       "      <th>iso_country</th>\n",
       "    </tr>\n",
       "  </thead>\n",
       "  <tbody>\n",
       "    <tr>\n",
       "      <th>0</th>\n",
       "      <td>heliport</td>\n",
       "      <td>Total Rf Heliport</td>\n",
       "      <td>40.070801</td>\n",
       "      <td>-74.933601</td>\n",
       "      <td>11.0</td>\n",
       "      <td>US</td>\n",
       "    </tr>\n",
       "    <tr>\n",
       "      <th>1</th>\n",
       "      <td>small_airport</td>\n",
       "      <td>Aero B Ranch Airport</td>\n",
       "      <td>38.704022</td>\n",
       "      <td>-101.473911</td>\n",
       "      <td>3435.0</td>\n",
       "      <td>US</td>\n",
       "    </tr>\n",
       "  </tbody>\n",
       "</table>\n",
       "</div>"
      ],
      "text/plain": [
       "            type                  name  latitude_deg  longitude_deg  \\\n",
       "0       heliport     Total Rf Heliport     40.070801     -74.933601   \n",
       "1  small_airport  Aero B Ranch Airport     38.704022    -101.473911   \n",
       "\n",
       "   elevation_ft iso_country  \n",
       "0          11.0          US  \n",
       "1        3435.0          US  "
      ]
     },
     "execution_count": 43,
     "metadata": {},
     "output_type": "execute_result"
    }
   ],
   "source": [
    "dfairportsus.reset_index()\n",
    "dfairportsus.head(2)"
   ]
  },
  {
   "cell_type": "code",
   "execution_count": 47,
   "id": "fe0b2a4a",
   "metadata": {},
   "outputs": [],
   "source": [
    "dfairportsus[\"coordenadas\"] = dfairportsus[[\"longitude_deg\",\"latitude_deg\"]].values.tolist()"
   ]
  },
  {
   "cell_type": "code",
   "execution_count": 52,
   "id": "2dc1c18f",
   "metadata": {},
   "outputs": [
    {
     "data": {
      "text/html": [
       "<div>\n",
       "<style scoped>\n",
       "    .dataframe tbody tr th:only-of-type {\n",
       "        vertical-align: middle;\n",
       "    }\n",
       "\n",
       "    .dataframe tbody tr th {\n",
       "        vertical-align: top;\n",
       "    }\n",
       "\n",
       "    .dataframe thead th {\n",
       "        text-align: right;\n",
       "    }\n",
       "</style>\n",
       "<table border=\"1\" class=\"dataframe\">\n",
       "  <thead>\n",
       "    <tr style=\"text-align: right;\">\n",
       "      <th></th>\n",
       "      <th>type</th>\n",
       "      <th>name</th>\n",
       "      <th>latitude_deg</th>\n",
       "      <th>longitude_deg</th>\n",
       "      <th>elevation_ft</th>\n",
       "      <th>iso_country</th>\n",
       "      <th>coordenadas</th>\n",
       "    </tr>\n",
       "  </thead>\n",
       "  <tbody>\n",
       "    <tr>\n",
       "      <th>0</th>\n",
       "      <td>heliport</td>\n",
       "      <td>Total Rf Heliport</td>\n",
       "      <td>40.070801</td>\n",
       "      <td>-74.933601</td>\n",
       "      <td>11.0</td>\n",
       "      <td>US</td>\n",
       "      <td>[-74.93360137939453, 40.07080078125]</td>\n",
       "    </tr>\n",
       "  </tbody>\n",
       "</table>\n",
       "</div>"
      ],
      "text/plain": [
       "       type               name  latitude_deg  longitude_deg  elevation_ft  \\\n",
       "0  heliport  Total Rf Heliport     40.070801     -74.933601          11.0   \n",
       "\n",
       "  iso_country                           coordenadas  \n",
       "0          US  [-74.93360137939453, 40.07080078125]  "
      ]
     },
     "execution_count": 52,
     "metadata": {},
     "output_type": "execute_result"
    }
   ],
   "source": [
    "dfairportsus.head(1)"
   ]
  },
  {
   "cell_type": "code",
   "execution_count": 54,
   "id": "c85cf5d4",
   "metadata": {},
   "outputs": [],
   "source": [
    "from pymongo import MongoClient\n",
    "import requests\n",
    "from pymongo import GEOSPHERE\n",
    "import geopandas as gpd\n",
    "import shapely.geometry\n",
    "client = MongoClient(\"localhost:27017\")\n",
    "db = client.get_database(\"Aliens\")"
   ]
  },
  {
   "cell_type": "code",
   "execution_count": 64,
   "id": "363e5212",
   "metadata": {},
   "outputs": [],
   "source": [
    "collection = db[\"Pruebaaeropuertos\"]\n",
    "#collection.create_index([(\"geometry2\", GEOSPHERE)])"
   ]
  },
  {
   "cell_type": "code",
   "execution_count": 55,
   "id": "76bf69a7",
   "metadata": {},
   "outputs": [],
   "source": [
    "dfairportsusgpd = gpd.GeoDataFrame(dfairportsus,geometry = gpd.points_from_xy(dfairportsus.longitude_deg, dfairportsus.latitude_deg))"
   ]
  },
  {
   "cell_type": "code",
   "execution_count": 67,
   "id": "ec44860b",
   "metadata": {},
   "outputs": [],
   "source": [
    "def type_point(lista):\n",
    "    return {\"type\":\"Point\", \"coordinates\": lista}"
   ]
  },
  {
   "cell_type": "code",
   "execution_count": 68,
   "id": "c1a58856",
   "metadata": {},
   "outputs": [],
   "source": [
    "dfairportsusgpd[\"Point\"] = dfairportsusgpd[\"coordenadas\"].apply(type_point)"
   ]
  },
  {
   "cell_type": "code",
   "execution_count": 69,
   "id": "f4dfd6c3",
   "metadata": {},
   "outputs": [
    {
     "data": {
      "text/html": [
       "<div>\n",
       "<style scoped>\n",
       "    .dataframe tbody tr th:only-of-type {\n",
       "        vertical-align: middle;\n",
       "    }\n",
       "\n",
       "    .dataframe tbody tr th {\n",
       "        vertical-align: top;\n",
       "    }\n",
       "\n",
       "    .dataframe thead th {\n",
       "        text-align: right;\n",
       "    }\n",
       "</style>\n",
       "<table border=\"1\" class=\"dataframe\">\n",
       "  <thead>\n",
       "    <tr style=\"text-align: right;\">\n",
       "      <th></th>\n",
       "      <th>type</th>\n",
       "      <th>name</th>\n",
       "      <th>latitude_deg</th>\n",
       "      <th>longitude_deg</th>\n",
       "      <th>elevation_ft</th>\n",
       "      <th>iso_country</th>\n",
       "      <th>coordenadas</th>\n",
       "      <th>geometry</th>\n",
       "      <th>geometry2</th>\n",
       "      <th>Point</th>\n",
       "    </tr>\n",
       "  </thead>\n",
       "  <tbody>\n",
       "    <tr>\n",
       "      <th>0</th>\n",
       "      <td>heliport</td>\n",
       "      <td>Total Rf Heliport</td>\n",
       "      <td>40.070801</td>\n",
       "      <td>-74.933601</td>\n",
       "      <td>11.0</td>\n",
       "      <td>US</td>\n",
       "      <td>[-74.93360137939453, 40.07080078125]</td>\n",
       "      <td>POINT (-74.93360 40.07080)</td>\n",
       "      <td>{'type': 'Point', 'coordinates': (-74.93360137...</td>\n",
       "      <td>{'type': 'Point', 'coordinates': [-74.93360137...</td>\n",
       "    </tr>\n",
       "  </tbody>\n",
       "</table>\n",
       "</div>"
      ],
      "text/plain": [
       "       type               name  latitude_deg  longitude_deg  elevation_ft  \\\n",
       "0  heliport  Total Rf Heliport     40.070801     -74.933601          11.0   \n",
       "\n",
       "  iso_country                           coordenadas  \\\n",
       "0          US  [-74.93360137939453, 40.07080078125]   \n",
       "\n",
       "                     geometry  \\\n",
       "0  POINT (-74.93360 40.07080)   \n",
       "\n",
       "                                           geometry2  \\\n",
       "0  {'type': 'Point', 'coordinates': (-74.93360137...   \n",
       "\n",
       "                                               Point  \n",
       "0  {'type': 'Point', 'coordinates': [-74.93360137...  "
      ]
     },
     "execution_count": 69,
     "metadata": {},
     "output_type": "execute_result"
    }
   ],
   "source": [
    "dfairportsusgpd.head(1)"
   ]
  },
  {
   "cell_type": "code",
   "execution_count": 57,
   "id": "23880e73",
   "metadata": {},
   "outputs": [],
   "source": [
    "dfairportsusgpd['geometry2']=dfairportsusgpd['geometry'].apply(lambda x:shapely.geometry.mapping(x))"
   ]
  },
  {
   "cell_type": "code",
   "execution_count": 70,
   "id": "fb13235a",
   "metadata": {},
   "outputs": [
    {
     "data": {
      "text/html": [
       "<div>\n",
       "<style scoped>\n",
       "    .dataframe tbody tr th:only-of-type {\n",
       "        vertical-align: middle;\n",
       "    }\n",
       "\n",
       "    .dataframe tbody tr th {\n",
       "        vertical-align: top;\n",
       "    }\n",
       "\n",
       "    .dataframe thead th {\n",
       "        text-align: right;\n",
       "    }\n",
       "</style>\n",
       "<table border=\"1\" class=\"dataframe\">\n",
       "  <thead>\n",
       "    <tr style=\"text-align: right;\">\n",
       "      <th></th>\n",
       "      <th>type</th>\n",
       "      <th>name</th>\n",
       "      <th>latitude_deg</th>\n",
       "      <th>longitude_deg</th>\n",
       "      <th>elevation_ft</th>\n",
       "      <th>iso_country</th>\n",
       "      <th>coordenadas</th>\n",
       "      <th>geometry</th>\n",
       "      <th>geometry2</th>\n",
       "      <th>Point</th>\n",
       "    </tr>\n",
       "  </thead>\n",
       "  <tbody>\n",
       "    <tr>\n",
       "      <th>0</th>\n",
       "      <td>heliport</td>\n",
       "      <td>Total Rf Heliport</td>\n",
       "      <td>40.070801</td>\n",
       "      <td>-74.933601</td>\n",
       "      <td>11.0</td>\n",
       "      <td>US</td>\n",
       "      <td>[-74.93360137939453, 40.07080078125]</td>\n",
       "      <td>POINT (-74.93360 40.07080)</td>\n",
       "      <td>{'type': 'Point', 'coordinates': (-74.93360137...</td>\n",
       "      <td>{'type': 'Point', 'coordinates': [-74.93360137...</td>\n",
       "    </tr>\n",
       "  </tbody>\n",
       "</table>\n",
       "</div>"
      ],
      "text/plain": [
       "       type               name  latitude_deg  longitude_deg  elevation_ft  \\\n",
       "0  heliport  Total Rf Heliport     40.070801     -74.933601          11.0   \n",
       "\n",
       "  iso_country                           coordenadas  \\\n",
       "0          US  [-74.93360137939453, 40.07080078125]   \n",
       "\n",
       "                     geometry  \\\n",
       "0  POINT (-74.93360 40.07080)   \n",
       "\n",
       "                                           geometry2  \\\n",
       "0  {'type': 'Point', 'coordinates': (-74.93360137...   \n",
       "\n",
       "                                               Point  \n",
       "0  {'type': 'Point', 'coordinates': [-74.93360137...  "
      ]
     },
     "execution_count": 70,
     "metadata": {},
     "output_type": "execute_result"
    }
   ],
   "source": [
    "dfairportsusgpd.head(1)"
   ]
  },
  {
   "cell_type": "code",
   "execution_count": 59,
   "id": "d9b728d0",
   "metadata": {
    "collapsed": true
   },
   "outputs": [
    {
     "name": "stdout",
     "output_type": "stream",
     "text": [
      "<class 'geopandas.geodataframe.GeoDataFrame'>\n",
      "Int64Index: 27261 entries, 0 to 67309\n",
      "Data columns (total 9 columns):\n",
      " #   Column         Non-Null Count  Dtype   \n",
      "---  ------         --------------  -----   \n",
      " 0   type           27261 non-null  object  \n",
      " 1   name           27261 non-null  object  \n",
      " 2   latitude_deg   27261 non-null  float64 \n",
      " 3   longitude_deg  27261 non-null  float64 \n",
      " 4   elevation_ft   25265 non-null  float64 \n",
      " 5   iso_country    27261 non-null  object  \n",
      " 6   coordenadas    27261 non-null  object  \n",
      " 7   geometry       27261 non-null  geometry\n",
      " 8   geometry2      27261 non-null  object  \n",
      "dtypes: float64(3), geometry(1), object(5)\n",
      "memory usage: 3.1+ MB\n"
     ]
    }
   ],
   "source": [
    "dfairportsusgpd.info()"
   ]
  },
  {
   "cell_type": "code",
   "execution_count": 72,
   "id": "9e3083d8",
   "metadata": {},
   "outputs": [],
   "source": [
    "sin_geometry = dfairportsusgpd.drop([\"geometry\"],axis=1)"
   ]
  },
  {
   "cell_type": "code",
   "execution_count": 80,
   "id": "9c314efc",
   "metadata": {},
   "outputs": [],
   "source": [
    "sin_geometry.to_csv(\"airportwithpoint.csv\",index=False)"
   ]
  },
  {
   "cell_type": "code",
   "execution_count": 78,
   "id": "9f63e04d",
   "metadata": {},
   "outputs": [],
   "source": [
    "airportpoints = dfairportsusgpd[\"coordenadas\"]"
   ]
  },
  {
   "cell_type": "code",
   "execution_count": 79,
   "id": "83973cf0",
   "metadata": {},
   "outputs": [],
   "source": [
    "airportpoints.to_csv(\"Puntosaeropuertos.csv\",index=False)"
   ]
  },
  {
   "cell_type": "code",
   "execution_count": 74,
   "id": "a2c4b08f",
   "metadata": {},
   "outputs": [
    {
     "data": {
      "text/plain": [
       "<pymongo.results.InsertManyResult at 0x7ff93306ffc0>"
      ]
     },
     "execution_count": 74,
     "metadata": {},
     "output_type": "execute_result"
    }
   ],
   "source": [
    "data = sin_geometry.to_dict(orient='records')\n",
    "collection.insert_many(data)"
   ]
  },
  {
   "cell_type": "code",
   "execution_count": 49,
   "id": "25506ca6",
   "metadata": {},
   "outputs": [],
   "source": [
    "dfairportsus.to_csv(\"F_usairports.csv\",index=False)"
   ]
  }
 ],
 "metadata": {
  "kernelspec": {
   "display_name": "Python 3",
   "language": "python",
   "name": "python3"
  },
  "language_info": {
   "codemirror_mode": {
    "name": "ipython",
    "version": 3
   },
   "file_extension": ".py",
   "mimetype": "text/x-python",
   "name": "python",
   "nbconvert_exporter": "python",
   "pygments_lexer": "ipython3",
   "version": "3.8.8"
  }
 },
 "nbformat": 4,
 "nbformat_minor": 5
}
