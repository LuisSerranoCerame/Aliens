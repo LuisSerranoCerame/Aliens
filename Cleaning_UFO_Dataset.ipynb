{
 "cells": [
  {
   "cell_type": "code",
   "execution_count": 2,
   "id": "48ca8124",
   "metadata": {},
   "outputs": [],
   "source": [
    "import pandas as pd\n",
    "import numpy as np\n",
    "import plotly.express as px\n",
    "import seaborn as sns\n",
    "import pandas as pd\n",
    "import plotly.graph_objects as go\n",
    "import matplotlib.pyplot as plt\n",
    "\n",
    "sns.set_context(\"poster\")\n",
    "sns.set(rc={\"figure.figsize\": (12.,6.)})\n",
    "sns.set_style(\"whitegrid\")"
   ]
  },
  {
   "cell_type": "code",
   "execution_count": 139,
   "id": "d089beed",
   "metadata": {},
   "outputs": [
    {
     "name": "stderr",
     "output_type": "stream",
     "text": [
      "/home/luisserrano/anaconda3/lib/python3.8/site-packages/IPython/core/interactiveshell.py:3437: DtypeWarning: Columns (5,9) have mixed types.Specify dtype option on import or set low_memory=False.\n",
      "  exec(code_obj, self.user_global_ns, self.user_ns)\n"
     ]
    }
   ],
   "source": [
    "df = pd.read_csv('scrubbed.csv')"
   ]
  },
  {
   "cell_type": "code",
   "execution_count": 140,
   "id": "4a31c0d9",
   "metadata": {},
   "outputs": [],
   "source": [
    "df = pd.DataFrame(df)"
   ]
  },
  {
   "cell_type": "code",
   "execution_count": 141,
   "id": "9e94d0b1",
   "metadata": {},
   "outputs": [
    {
     "data": {
      "text/plain": [
       "(80332, 11)"
      ]
     },
     "execution_count": 141,
     "metadata": {},
     "output_type": "execute_result"
    }
   ],
   "source": [
    "df.shape"
   ]
  },
  {
   "cell_type": "code",
   "execution_count": 142,
   "id": "68f1c49c",
   "metadata": {},
   "outputs": [
    {
     "data": {
      "text/plain": [
       "us    65114\n",
       "ca     3000\n",
       "gb     1905\n",
       "au      538\n",
       "de      105\n",
       "Name: country, dtype: int64"
      ]
     },
     "execution_count": 142,
     "metadata": {},
     "output_type": "execute_result"
    }
   ],
   "source": [
    "df.sample(5)\n",
    "df[\"country\"].value_counts()"
   ]
  },
  {
   "cell_type": "code",
   "execution_count": 143,
   "id": "57a1f391",
   "metadata": {},
   "outputs": [
    {
     "name": "stderr",
     "output_type": "stream",
     "text": [
      "<ipython-input-143-db94b219f577>:1: FutureWarning: The default value of regex will change from True to False in a future version.\n",
      "  df['latitude'] = df['latitude'].str.replace('33q.200088', \"33.200088\")\n"
     ]
    }
   ],
   "source": [
    "df['latitude'] = df['latitude'].str.replace('33q.200088', \"33.200088\")"
   ]
  },
  {
   "cell_type": "code",
   "execution_count": 144,
   "id": "f5ebb3c9",
   "metadata": {},
   "outputs": [],
   "source": [
    "df['latitude']=df['latitude'].astype('float64')"
   ]
  },
  {
   "cell_type": "code",
   "execution_count": 145,
   "id": "572997c2",
   "metadata": {},
   "outputs": [
    {
     "data": {
      "text/plain": [
       "datetime                 object\n",
       "city                     object\n",
       "state                    object\n",
       "country                  object\n",
       "shape                    object\n",
       "duration (seconds)       object\n",
       "duration (hours/min)     object\n",
       "comments                 object\n",
       "date posted              object\n",
       "latitude                float64\n",
       "longitude               float64\n",
       "dtype: object"
      ]
     },
     "execution_count": 145,
     "metadata": {},
     "output_type": "execute_result"
    }
   ],
   "source": [
    "df.dtypes"
   ]
  },
  {
   "cell_type": "code",
   "execution_count": 146,
   "id": "2f5547ce",
   "metadata": {},
   "outputs": [],
   "source": [
    "#Corrijo el nombre de la columna\n",
    "df.rename(columns={\"longitude \":\"longitude\"},inplace=True)"
   ]
  },
  {
   "cell_type": "code",
   "execution_count": 147,
   "id": "add04d4f",
   "metadata": {},
   "outputs": [],
   "source": [
    "df['datetime'] = df['datetime'].str.split(' ').str[0]"
   ]
  },
  {
   "cell_type": "code",
   "execution_count": 148,
   "id": "24293c9f",
   "metadata": {},
   "outputs": [
    {
     "data": {
      "text/html": [
       "<div>\n",
       "<style scoped>\n",
       "    .dataframe tbody tr th:only-of-type {\n",
       "        vertical-align: middle;\n",
       "    }\n",
       "\n",
       "    .dataframe tbody tr th {\n",
       "        vertical-align: top;\n",
       "    }\n",
       "\n",
       "    .dataframe thead th {\n",
       "        text-align: right;\n",
       "    }\n",
       "</style>\n",
       "<table border=\"1\" class=\"dataframe\">\n",
       "  <thead>\n",
       "    <tr style=\"text-align: right;\">\n",
       "      <th></th>\n",
       "      <th>datetime</th>\n",
       "      <th>city</th>\n",
       "      <th>state</th>\n",
       "      <th>country</th>\n",
       "      <th>shape</th>\n",
       "      <th>duration (seconds)</th>\n",
       "      <th>duration (hours/min)</th>\n",
       "      <th>comments</th>\n",
       "      <th>date posted</th>\n",
       "      <th>latitude</th>\n",
       "      <th>longitude</th>\n",
       "    </tr>\n",
       "  </thead>\n",
       "  <tbody>\n",
       "    <tr>\n",
       "      <th>0</th>\n",
       "      <td>10/10/1949</td>\n",
       "      <td>san marcos</td>\n",
       "      <td>tx</td>\n",
       "      <td>us</td>\n",
       "      <td>cylinder</td>\n",
       "      <td>2700</td>\n",
       "      <td>45 minutes</td>\n",
       "      <td>This event took place in early fall around 194...</td>\n",
       "      <td>4/27/2004</td>\n",
       "      <td>29.883056</td>\n",
       "      <td>-97.941111</td>\n",
       "    </tr>\n",
       "    <tr>\n",
       "      <th>1</th>\n",
       "      <td>10/10/1949</td>\n",
       "      <td>lackland afb</td>\n",
       "      <td>tx</td>\n",
       "      <td>NaN</td>\n",
       "      <td>light</td>\n",
       "      <td>7200</td>\n",
       "      <td>1-2 hrs</td>\n",
       "      <td>1949 Lackland AFB&amp;#44 TX.  Lights racing acros...</td>\n",
       "      <td>12/16/2005</td>\n",
       "      <td>29.384210</td>\n",
       "      <td>-98.581082</td>\n",
       "    </tr>\n",
       "    <tr>\n",
       "      <th>2</th>\n",
       "      <td>10/10/1955</td>\n",
       "      <td>chester (uk/england)</td>\n",
       "      <td>NaN</td>\n",
       "      <td>gb</td>\n",
       "      <td>circle</td>\n",
       "      <td>20</td>\n",
       "      <td>20 seconds</td>\n",
       "      <td>Green/Orange circular disc over Chester&amp;#44 En...</td>\n",
       "      <td>1/21/2008</td>\n",
       "      <td>53.200000</td>\n",
       "      <td>-2.916667</td>\n",
       "    </tr>\n",
       "    <tr>\n",
       "      <th>3</th>\n",
       "      <td>10/10/1956</td>\n",
       "      <td>edna</td>\n",
       "      <td>tx</td>\n",
       "      <td>us</td>\n",
       "      <td>circle</td>\n",
       "      <td>20</td>\n",
       "      <td>1/2 hour</td>\n",
       "      <td>My older brother and twin sister were leaving ...</td>\n",
       "      <td>1/17/2004</td>\n",
       "      <td>28.978333</td>\n",
       "      <td>-96.645833</td>\n",
       "    </tr>\n",
       "    <tr>\n",
       "      <th>4</th>\n",
       "      <td>10/10/1960</td>\n",
       "      <td>kaneohe</td>\n",
       "      <td>hi</td>\n",
       "      <td>us</td>\n",
       "      <td>light</td>\n",
       "      <td>900</td>\n",
       "      <td>15 minutes</td>\n",
       "      <td>AS a Marine 1st Lt. flying an FJ4B fighter/att...</td>\n",
       "      <td>1/22/2004</td>\n",
       "      <td>21.418056</td>\n",
       "      <td>-157.803611</td>\n",
       "    </tr>\n",
       "  </tbody>\n",
       "</table>\n",
       "</div>"
      ],
      "text/plain": [
       "     datetime                  city state country     shape  \\\n",
       "0  10/10/1949            san marcos    tx      us  cylinder   \n",
       "1  10/10/1949          lackland afb    tx     NaN     light   \n",
       "2  10/10/1955  chester (uk/england)   NaN      gb    circle   \n",
       "3  10/10/1956                  edna    tx      us    circle   \n",
       "4  10/10/1960               kaneohe    hi      us     light   \n",
       "\n",
       "  duration (seconds) duration (hours/min)  \\\n",
       "0               2700           45 minutes   \n",
       "1               7200              1-2 hrs   \n",
       "2                 20           20 seconds   \n",
       "3                 20             1/2 hour   \n",
       "4                900           15 minutes   \n",
       "\n",
       "                                            comments date posted   latitude  \\\n",
       "0  This event took place in early fall around 194...   4/27/2004  29.883056   \n",
       "1  1949 Lackland AFB&#44 TX.  Lights racing acros...  12/16/2005  29.384210   \n",
       "2  Green/Orange circular disc over Chester&#44 En...   1/21/2008  53.200000   \n",
       "3  My older brother and twin sister were leaving ...   1/17/2004  28.978333   \n",
       "4  AS a Marine 1st Lt. flying an FJ4B fighter/att...   1/22/2004  21.418056   \n",
       "\n",
       "    longitude  \n",
       "0  -97.941111  \n",
       "1  -98.581082  \n",
       "2   -2.916667  \n",
       "3  -96.645833  \n",
       "4 -157.803611  "
      ]
     },
     "execution_count": 148,
     "metadata": {},
     "output_type": "execute_result"
    }
   ],
   "source": [
    "df.head()"
   ]
  },
  {
   "cell_type": "code",
   "execution_count": 149,
   "id": "f408bd95",
   "metadata": {},
   "outputs": [],
   "source": [
    "df['datetime']=pd.to_datetime(df['datetime'],format=\"%m/%d/%Y\")"
   ]
  },
  {
   "cell_type": "code",
   "execution_count": 150,
   "id": "18991291",
   "metadata": {},
   "outputs": [
    {
     "data": {
      "text/plain": [
       "datetime                datetime64[ns]\n",
       "city                            object\n",
       "state                           object\n",
       "country                         object\n",
       "shape                           object\n",
       "duration (seconds)              object\n",
       "duration (hours/min)            object\n",
       "comments                        object\n",
       "date posted                     object\n",
       "latitude                       float64\n",
       "longitude                      float64\n",
       "dtype: object"
      ]
     },
     "execution_count": 150,
     "metadata": {},
     "output_type": "execute_result"
    }
   ],
   "source": [
    "df.dtypes"
   ]
  },
  {
   "cell_type": "code",
   "execution_count": 151,
   "id": "c1bf08f5",
   "metadata": {},
   "outputs": [
    {
     "data": {
      "text/plain": [
       "datetime                    0\n",
       "city                        0\n",
       "state                    5797\n",
       "country                  9670\n",
       "shape                    1932\n",
       "duration (seconds)          0\n",
       "duration (hours/min)        0\n",
       "comments                   15\n",
       "date posted                 0\n",
       "latitude                14796\n",
       "longitude                   0\n",
       "dtype: int64"
      ]
     },
     "execution_count": 151,
     "metadata": {},
     "output_type": "execute_result"
    }
   ],
   "source": [
    "df.isnull().sum()"
   ]
  },
  {
   "cell_type": "code",
   "execution_count": 155,
   "id": "d0e34b26",
   "metadata": {},
   "outputs": [
    {
     "data": {
      "text/html": [
       "<div>\n",
       "<style scoped>\n",
       "    .dataframe tbody tr th:only-of-type {\n",
       "        vertical-align: middle;\n",
       "    }\n",
       "\n",
       "    .dataframe tbody tr th {\n",
       "        vertical-align: top;\n",
       "    }\n",
       "\n",
       "    .dataframe thead th {\n",
       "        text-align: right;\n",
       "    }\n",
       "</style>\n",
       "<table border=\"1\" class=\"dataframe\">\n",
       "  <thead>\n",
       "    <tr style=\"text-align: right;\">\n",
       "      <th></th>\n",
       "      <th>datetime</th>\n",
       "      <th>city</th>\n",
       "      <th>state</th>\n",
       "      <th>country</th>\n",
       "      <th>shape</th>\n",
       "      <th>duration (seconds)</th>\n",
       "      <th>duration (hours/min)</th>\n",
       "      <th>comments</th>\n",
       "      <th>date posted</th>\n",
       "      <th>latitude</th>\n",
       "      <th>longitude</th>\n",
       "    </tr>\n",
       "  </thead>\n",
       "  <tbody>\n",
       "    <tr>\n",
       "      <th>0</th>\n",
       "      <td>1949-10-10</td>\n",
       "      <td>san marcos</td>\n",
       "      <td>tx</td>\n",
       "      <td>us</td>\n",
       "      <td>cylinder</td>\n",
       "      <td>2700</td>\n",
       "      <td>45 minutes</td>\n",
       "      <td>This event took place in early fall around 194...</td>\n",
       "      <td>4/27/2004</td>\n",
       "      <td>29.883056</td>\n",
       "      <td>-97.941111</td>\n",
       "    </tr>\n",
       "    <tr>\n",
       "      <th>1</th>\n",
       "      <td>1949-10-10</td>\n",
       "      <td>lackland afb</td>\n",
       "      <td>tx</td>\n",
       "      <td>NaN</td>\n",
       "      <td>light</td>\n",
       "      <td>7200</td>\n",
       "      <td>1-2 hrs</td>\n",
       "      <td>1949 Lackland AFB&amp;#44 TX.  Lights racing acros...</td>\n",
       "      <td>12/16/2005</td>\n",
       "      <td>29.384210</td>\n",
       "      <td>-98.581082</td>\n",
       "    </tr>\n",
       "    <tr>\n",
       "      <th>2</th>\n",
       "      <td>1955-10-10</td>\n",
       "      <td>chester (uk/england)</td>\n",
       "      <td>NaN</td>\n",
       "      <td>gb</td>\n",
       "      <td>circle</td>\n",
       "      <td>20</td>\n",
       "      <td>20 seconds</td>\n",
       "      <td>Green/Orange circular disc over Chester&amp;#44 En...</td>\n",
       "      <td>1/21/2008</td>\n",
       "      <td>53.200000</td>\n",
       "      <td>-2.916667</td>\n",
       "    </tr>\n",
       "    <tr>\n",
       "      <th>3</th>\n",
       "      <td>1956-10-10</td>\n",
       "      <td>edna</td>\n",
       "      <td>tx</td>\n",
       "      <td>us</td>\n",
       "      <td>circle</td>\n",
       "      <td>20</td>\n",
       "      <td>1/2 hour</td>\n",
       "      <td>My older brother and twin sister were leaving ...</td>\n",
       "      <td>1/17/2004</td>\n",
       "      <td>28.978333</td>\n",
       "      <td>-96.645833</td>\n",
       "    </tr>\n",
       "    <tr>\n",
       "      <th>4</th>\n",
       "      <td>1960-10-10</td>\n",
       "      <td>kaneohe</td>\n",
       "      <td>hi</td>\n",
       "      <td>us</td>\n",
       "      <td>light</td>\n",
       "      <td>900</td>\n",
       "      <td>15 minutes</td>\n",
       "      <td>AS a Marine 1st Lt. flying an FJ4B fighter/att...</td>\n",
       "      <td>1/22/2004</td>\n",
       "      <td>21.418056</td>\n",
       "      <td>-157.803611</td>\n",
       "    </tr>\n",
       "  </tbody>\n",
       "</table>\n",
       "</div>"
      ],
      "text/plain": [
       "    datetime                  city state country     shape duration (seconds)  \\\n",
       "0 1949-10-10            san marcos    tx      us  cylinder               2700   \n",
       "1 1949-10-10          lackland afb    tx     NaN     light               7200   \n",
       "2 1955-10-10  chester (uk/england)   NaN      gb    circle                 20   \n",
       "3 1956-10-10                  edna    tx      us    circle                 20   \n",
       "4 1960-10-10               kaneohe    hi      us     light                900   \n",
       "\n",
       "  duration (hours/min)                                           comments  \\\n",
       "0           45 minutes  This event took place in early fall around 194...   \n",
       "1              1-2 hrs  1949 Lackland AFB&#44 TX.  Lights racing acros...   \n",
       "2           20 seconds  Green/Orange circular disc over Chester&#44 En...   \n",
       "3             1/2 hour  My older brother and twin sister were leaving ...   \n",
       "4           15 minutes  AS a Marine 1st Lt. flying an FJ4B fighter/att...   \n",
       "\n",
       "  date posted   latitude   longitude  \n",
       "0   4/27/2004  29.883056  -97.941111  \n",
       "1  12/16/2005  29.384210  -98.581082  \n",
       "2   1/21/2008  53.200000   -2.916667  \n",
       "3   1/17/2004  28.978333  -96.645833  \n",
       "4   1/22/2004  21.418056 -157.803611  "
      ]
     },
     "execution_count": 155,
     "metadata": {},
     "output_type": "execute_result"
    }
   ],
   "source": [
    "df.head()"
   ]
  },
  {
   "cell_type": "code",
   "execution_count": 165,
   "id": "a5bb354b",
   "metadata": {},
   "outputs": [
    {
     "data": {
      "text/plain": [
       "(65114, 11)"
      ]
     },
     "execution_count": 165,
     "metadata": {},
     "output_type": "execute_result"
    }
   ],
   "source": [
    "ufo_usa = df[(df.country==\"us\")]\n",
    "ufo_usa.shape"
   ]
  },
  {
   "cell_type": "code",
   "execution_count": 120,
   "id": "980bbf7e",
   "metadata": {
    "collapsed": true
   },
   "outputs": [
    {
     "data": {
      "text/plain": [
       "datetime                    0\n",
       "city                        0\n",
       "state                       0\n",
       "country                     0\n",
       "shape                    1553\n",
       "duration (seconds)          0\n",
       "duration (hours/min)        0\n",
       "comments                   13\n",
       "date posted                 0\n",
       "latitude                11909\n",
       "longitude                   0\n",
       "dtype: int64"
      ]
     },
     "execution_count": 120,
     "metadata": {},
     "output_type": "execute_result"
    }
   ],
   "source": [
    "ufo_usa.isnull().sum()"
   ]
  },
  {
   "cell_type": "code",
   "execution_count": 133,
   "id": "11e665c8",
   "metadata": {},
   "outputs": [
    {
     "name": "stderr",
     "output_type": "stream",
     "text": [
      "<ipython-input-133-e0a68e576926>:1: SettingWithCopyWarning: \n",
      "A value is trying to be set on a copy of a slice from a DataFrame.\n",
      "Try using .loc[row_indexer,col_indexer] = value instead\n",
      "\n",
      "See the caveats in the documentation: https://pandas.pydata.org/pandas-docs/stable/user_guide/indexing.html#returning-a-view-versus-a-copy\n",
      "  ufo_usa[\"datetime\"] = ufo_usa['datetime'].dt.strftime('%m/%d/%Y')\n"
     ]
    }
   ],
   "source": [
    "ufo_usa[\"datetime\"] = ufo_usa['datetime'].dt.strftime('%m/%d/%Y')"
   ]
  },
  {
   "cell_type": "code",
   "execution_count": 166,
   "id": "535fad82",
   "metadata": {},
   "outputs": [
    {
     "data": {
      "text/plain": [
       "datetime                datetime64[ns]\n",
       "city                            object\n",
       "state                           object\n",
       "country                         object\n",
       "shape                           object\n",
       "duration (seconds)              object\n",
       "duration (hours/min)            object\n",
       "comments                        object\n",
       "date posted                     object\n",
       "latitude                       float64\n",
       "longitude                      float64\n",
       "dtype: object"
      ]
     },
     "execution_count": 166,
     "metadata": {},
     "output_type": "execute_result"
    }
   ],
   "source": [
    "ufo_usa.dtypes"
   ]
  },
  {
   "cell_type": "code",
   "execution_count": null,
   "id": "d5f4738e",
   "metadata": {},
   "outputs": [],
   "source": []
  },
  {
   "cell_type": "code",
   "execution_count": 159,
   "id": "306189da",
   "metadata": {},
   "outputs": [],
   "source": [
    "eventsdf = pd.read_csv('Eventsdf.csv')"
   ]
  },
  {
   "cell_type": "code",
   "execution_count": 160,
   "id": "7a1e9bb2",
   "metadata": {},
   "outputs": [
    {
     "data": {
      "text/plain": [
       "Event       object\n",
       "Summary     object\n",
       "Month        int64\n",
       "Year         int64\n",
       "Day          int64\n",
       "datetime    object\n",
       "dtype: object"
      ]
     },
     "execution_count": 160,
     "metadata": {},
     "output_type": "execute_result"
    }
   ],
   "source": [
    "eventsdf.dtypes"
   ]
  },
  {
   "cell_type": "code",
   "execution_count": 161,
   "id": "ac60932a",
   "metadata": {},
   "outputs": [],
   "source": [
    "eventsdf['datetime'] = pd.to_datetime(eventsdf['datetime'], format=\"%m/%d/%Y\")\n",
    "df['datetime']=pd.to_datetime(df['datetime'],format=\"%m/%d/%Y\")"
   ]
  },
  {
   "cell_type": "code",
   "execution_count": 162,
   "id": "b8fd0162",
   "metadata": {
    "scrolled": true
   },
   "outputs": [
    {
     "data": {
      "text/html": [
       "<div>\n",
       "<style scoped>\n",
       "    .dataframe tbody tr th:only-of-type {\n",
       "        vertical-align: middle;\n",
       "    }\n",
       "\n",
       "    .dataframe tbody tr th {\n",
       "        vertical-align: top;\n",
       "    }\n",
       "\n",
       "    .dataframe thead th {\n",
       "        text-align: right;\n",
       "    }\n",
       "</style>\n",
       "<table border=\"1\" class=\"dataframe\">\n",
       "  <thead>\n",
       "    <tr style=\"text-align: right;\">\n",
       "      <th></th>\n",
       "      <th>Event</th>\n",
       "      <th>Summary</th>\n",
       "      <th>Month</th>\n",
       "      <th>Year</th>\n",
       "      <th>Day</th>\n",
       "      <th>datetime</th>\n",
       "    </tr>\n",
       "  </thead>\n",
       "  <tbody>\n",
       "    <tr>\n",
       "      <th>0</th>\n",
       "      <td>Sputnik I</td>\n",
       "      <td>The Soviet Union began the space race by launc...</td>\n",
       "      <td>10</td>\n",
       "      <td>1957</td>\n",
       "      <td>4</td>\n",
       "      <td>1957-10-04</td>\n",
       "    </tr>\n",
       "    <tr>\n",
       "      <th>1</th>\n",
       "      <td>First creature in space</td>\n",
       "      <td>A stray husky-spitz mix named Laika was the fi...</td>\n",
       "      <td>11</td>\n",
       "      <td>1957</td>\n",
       "      <td>3</td>\n",
       "      <td>1957-11-03</td>\n",
       "    </tr>\n",
       "    <tr>\n",
       "      <th>2</th>\n",
       "      <td>US launches first satellite</td>\n",
       "      <td>The United States joined the space race when E...</td>\n",
       "      <td>1</td>\n",
       "      <td>1958</td>\n",
       "      <td>31</td>\n",
       "      <td>1958-01-31</td>\n",
       "    </tr>\n",
       "    <tr>\n",
       "      <th>3</th>\n",
       "      <td>First creatures return from space</td>\n",
       "      <td>Less than two years after Laika perished while...</td>\n",
       "      <td>5</td>\n",
       "      <td>1959</td>\n",
       "      <td>28</td>\n",
       "      <td>1959-05-28</td>\n",
       "    </tr>\n",
       "    <tr>\n",
       "      <th>4</th>\n",
       "      <td>Yuri Gagarin</td>\n",
       "      <td>Soviet cosmonaut Yuri Gagarin became the first...</td>\n",
       "      <td>4</td>\n",
       "      <td>1961</td>\n",
       "      <td>12</td>\n",
       "      <td>1961-04-12</td>\n",
       "    </tr>\n",
       "  </tbody>\n",
       "</table>\n",
       "</div>"
      ],
      "text/plain": [
       "                               Event  \\\n",
       "0                          Sputnik I   \n",
       "1            First creature in space   \n",
       "2        US launches first satellite   \n",
       "3  First creatures return from space   \n",
       "4                       Yuri Gagarin   \n",
       "\n",
       "                                             Summary  Month  Year  Day  \\\n",
       "0  The Soviet Union began the space race by launc...     10  1957    4   \n",
       "1  A stray husky-spitz mix named Laika was the fi...     11  1957    3   \n",
       "2  The United States joined the space race when E...      1  1958   31   \n",
       "3  Less than two years after Laika perished while...      5  1959   28   \n",
       "4  Soviet cosmonaut Yuri Gagarin became the first...      4  1961   12   \n",
       "\n",
       "    datetime  \n",
       "0 1957-10-04  \n",
       "1 1957-11-03  \n",
       "2 1958-01-31  \n",
       "3 1959-05-28  \n",
       "4 1961-04-12  "
      ]
     },
     "execution_count": 162,
     "metadata": {},
     "output_type": "execute_result"
    }
   ],
   "source": [
    "eventsdf.head()"
   ]
  },
  {
   "cell_type": "code",
   "execution_count": 163,
   "id": "4237296a",
   "metadata": {},
   "outputs": [
    {
     "data": {
      "text/plain": [
       "Event               object\n",
       "Summary             object\n",
       "Month                int64\n",
       "Year                 int64\n",
       "Day                  int64\n",
       "datetime    datetime64[ns]\n",
       "dtype: object"
      ]
     },
     "execution_count": 163,
     "metadata": {},
     "output_type": "execute_result"
    }
   ],
   "source": [
    "eventsdf.dtypes"
   ]
  },
  {
   "cell_type": "code",
   "execution_count": 283,
   "id": "107e75ac",
   "metadata": {},
   "outputs": [
    {
     "data": {
      "text/plain": [
       "pandas._libs.tslibs.timestamps.Timestamp"
      ]
     },
     "execution_count": 283,
     "metadata": {},
     "output_type": "execute_result"
    }
   ],
   "source": [
    "type(ufo_usa[\"datetime\"][0])"
   ]
  },
  {
   "cell_type": "code",
   "execution_count": 185,
   "id": "50edfd26",
   "metadata": {},
   "outputs": [],
   "source": [
    "cond = eventsdf['datetime'] < ufo_usa[\"datetime\"][20200]"
   ]
  },
  {
   "cell_type": "code",
   "execution_count": 186,
   "id": "c0e98de6",
   "metadata": {},
   "outputs": [
    {
     "data": {
      "text/plain": [
       "0      True\n",
       "1      True\n",
       "2      True\n",
       "3      True\n",
       "4      True\n",
       "5      True\n",
       "6      True\n",
       "7      True\n",
       "8      True\n",
       "9      True\n",
       "10     True\n",
       "11     True\n",
       "12     True\n",
       "13     True\n",
       "14     True\n",
       "15     True\n",
       "16     True\n",
       "17     True\n",
       "18     True\n",
       "19     True\n",
       "20     True\n",
       "21     True\n",
       "22     True\n",
       "23     True\n",
       "24     True\n",
       "25     True\n",
       "26     True\n",
       "27     True\n",
       "28     True\n",
       "29     True\n",
       "30     True\n",
       "31     True\n",
       "32     True\n",
       "33     True\n",
       "34     True\n",
       "35    False\n",
       "36    False\n",
       "37    False\n",
       "38    False\n",
       "39    False\n",
       "Name: datetime, dtype: bool"
      ]
     },
     "execution_count": 186,
     "metadata": {},
     "output_type": "execute_result"
    }
   ],
   "source": [
    "cond"
   ]
  },
  {
   "cell_type": "code",
   "execution_count": null,
   "id": "6075dcae",
   "metadata": {},
   "outputs": [],
   "source": [
    "    \n",
    "    x.append(dfn_past.iloc[-1][\"datetime\"])\n",
    "    datito = dfn_past[\"datetime\"][-1]\n",
    "     "
   ]
  },
  {
   "cell_type": "markdown",
   "id": "e4314e51",
   "metadata": {},
   "source": [
    "# Vamos a poner columna longitud y latitud juntas"
   ]
  },
  {
   "cell_type": "code",
   "execution_count": 339,
   "id": "c0a9b435",
   "metadata": {},
   "outputs": [],
   "source": [
    "ufo_usa[\"coordenadas\"] = ufo_usa[[\"longitude\",\"latitude\"]].values.tolist()\n",
    "\n",
    "#df['new_column'] = df[['lat', 'long']].values.tolist()\n",
    "#ufo_usa[\"coordenadas\"] = df[\"Year\"].astype(str) + df[\"quarter\"]"
   ]
  },
  {
   "cell_type": "code",
   "execution_count": 340,
   "id": "6daa4fb5",
   "metadata": {
    "collapsed": true
   },
   "outputs": [
    {
     "data": {
      "text/html": [
       "<div>\n",
       "<style scoped>\n",
       "    .dataframe tbody tr th:only-of-type {\n",
       "        vertical-align: middle;\n",
       "    }\n",
       "\n",
       "    .dataframe tbody tr th {\n",
       "        vertical-align: top;\n",
       "    }\n",
       "\n",
       "    .dataframe thead th {\n",
       "        text-align: right;\n",
       "    }\n",
       "</style>\n",
       "<table border=\"1\" class=\"dataframe\">\n",
       "  <thead>\n",
       "    <tr style=\"text-align: right;\">\n",
       "      <th></th>\n",
       "      <th>level_0</th>\n",
       "      <th>index</th>\n",
       "      <th>datetime</th>\n",
       "      <th>city</th>\n",
       "      <th>state</th>\n",
       "      <th>country</th>\n",
       "      <th>shape</th>\n",
       "      <th>duration (seconds)</th>\n",
       "      <th>duration (hours/min)</th>\n",
       "      <th>comments</th>\n",
       "      <th>date posted</th>\n",
       "      <th>latitude</th>\n",
       "      <th>longitude</th>\n",
       "      <th>coordenadas</th>\n",
       "    </tr>\n",
       "  </thead>\n",
       "  <tbody>\n",
       "    <tr>\n",
       "      <th>0</th>\n",
       "      <td>0</td>\n",
       "      <td>0</td>\n",
       "      <td>1949-10-10</td>\n",
       "      <td>san marcos</td>\n",
       "      <td>tx</td>\n",
       "      <td>us</td>\n",
       "      <td>cylinder</td>\n",
       "      <td>2700</td>\n",
       "      <td>45 minutes</td>\n",
       "      <td>This event took place in early fall around 194...</td>\n",
       "      <td>4/27/2004</td>\n",
       "      <td>29.883056</td>\n",
       "      <td>-97.941111</td>\n",
       "      <td>[-97.9411111, 29.8830556]</td>\n",
       "    </tr>\n",
       "    <tr>\n",
       "      <th>1</th>\n",
       "      <td>1</td>\n",
       "      <td>3</td>\n",
       "      <td>1956-10-10</td>\n",
       "      <td>edna</td>\n",
       "      <td>tx</td>\n",
       "      <td>us</td>\n",
       "      <td>circle</td>\n",
       "      <td>20</td>\n",
       "      <td>1/2 hour</td>\n",
       "      <td>My older brother and twin sister were leaving ...</td>\n",
       "      <td>1/17/2004</td>\n",
       "      <td>28.978333</td>\n",
       "      <td>-96.645833</td>\n",
       "      <td>[-96.6458333, 28.9783333]</td>\n",
       "    </tr>\n",
       "    <tr>\n",
       "      <th>2</th>\n",
       "      <td>2</td>\n",
       "      <td>4</td>\n",
       "      <td>1960-10-10</td>\n",
       "      <td>kaneohe</td>\n",
       "      <td>hi</td>\n",
       "      <td>us</td>\n",
       "      <td>light</td>\n",
       "      <td>900</td>\n",
       "      <td>15 minutes</td>\n",
       "      <td>AS a Marine 1st Lt. flying an FJ4B fighter/att...</td>\n",
       "      <td>1/22/2004</td>\n",
       "      <td>21.418056</td>\n",
       "      <td>-157.803611</td>\n",
       "      <td>[-157.8036111, 21.4180556]</td>\n",
       "    </tr>\n",
       "    <tr>\n",
       "      <th>3</th>\n",
       "      <td>3</td>\n",
       "      <td>5</td>\n",
       "      <td>1961-10-10</td>\n",
       "      <td>bristol</td>\n",
       "      <td>tn</td>\n",
       "      <td>us</td>\n",
       "      <td>sphere</td>\n",
       "      <td>300</td>\n",
       "      <td>5 minutes</td>\n",
       "      <td>My father is now 89 my brother 52 the girl wit...</td>\n",
       "      <td>4/27/2007</td>\n",
       "      <td>36.595000</td>\n",
       "      <td>-82.188889</td>\n",
       "      <td>[-82.1888889, 36.595]</td>\n",
       "    </tr>\n",
       "    <tr>\n",
       "      <th>4</th>\n",
       "      <td>4</td>\n",
       "      <td>7</td>\n",
       "      <td>1965-10-10</td>\n",
       "      <td>norwalk</td>\n",
       "      <td>ct</td>\n",
       "      <td>us</td>\n",
       "      <td>disk</td>\n",
       "      <td>1200</td>\n",
       "      <td>20 minutes</td>\n",
       "      <td>A bright orange color changing to reddish colo...</td>\n",
       "      <td>10/2/1999</td>\n",
       "      <td>41.117500</td>\n",
       "      <td>-73.408333</td>\n",
       "      <td>[-73.4083333, 41.1175]</td>\n",
       "    </tr>\n",
       "  </tbody>\n",
       "</table>\n",
       "</div>"
      ],
      "text/plain": [
       "   level_0  index   datetime        city state country     shape  \\\n",
       "0        0      0 1949-10-10  san marcos    tx      us  cylinder   \n",
       "1        1      3 1956-10-10        edna    tx      us    circle   \n",
       "2        2      4 1960-10-10     kaneohe    hi      us     light   \n",
       "3        3      5 1961-10-10     bristol    tn      us    sphere   \n",
       "4        4      7 1965-10-10     norwalk    ct      us      disk   \n",
       "\n",
       "  duration (seconds) duration (hours/min)  \\\n",
       "0               2700           45 minutes   \n",
       "1                 20             1/2 hour   \n",
       "2                900           15 minutes   \n",
       "3                300            5 minutes   \n",
       "4               1200           20 minutes   \n",
       "\n",
       "                                            comments date posted   latitude  \\\n",
       "0  This event took place in early fall around 194...   4/27/2004  29.883056   \n",
       "1  My older brother and twin sister were leaving ...   1/17/2004  28.978333   \n",
       "2  AS a Marine 1st Lt. flying an FJ4B fighter/att...   1/22/2004  21.418056   \n",
       "3  My father is now 89 my brother 52 the girl wit...   4/27/2007  36.595000   \n",
       "4  A bright orange color changing to reddish colo...   10/2/1999  41.117500   \n",
       "\n",
       "    longitude                 coordenadas  \n",
       "0  -97.941111   [-97.9411111, 29.8830556]  \n",
       "1  -96.645833   [-96.6458333, 28.9783333]  \n",
       "2 -157.803611  [-157.8036111, 21.4180556]  \n",
       "3  -82.188889       [-82.1888889, 36.595]  \n",
       "4  -73.408333      [-73.4083333, 41.1175]  "
      ]
     },
     "execution_count": 340,
     "metadata": {},
     "output_type": "execute_result"
    }
   ],
   "source": [
    "ufo_usa.head()"
   ]
  },
  {
   "cell_type": "markdown",
   "id": "b9cad98f",
   "metadata": {},
   "source": [
    "# Type point"
   ]
  },
  {
   "cell_type": "code",
   "execution_count": 354,
   "id": "64ae2686",
   "metadata": {},
   "outputs": [],
   "source": [
    "import geopandas as gpd\n",
    "import shapely.geometry"
   ]
  },
  {
   "cell_type": "code",
   "execution_count": 342,
   "id": "929d9ab1",
   "metadata": {},
   "outputs": [],
   "source": [
    "def type_point(lista):\n",
    "    return {\"type\":\"Point\", \"coordinates\": lista}"
   ]
  },
  {
   "cell_type": "code",
   "execution_count": 344,
   "id": "002492e9",
   "metadata": {},
   "outputs": [],
   "source": [
    "\n",
    "ufo_usa[\"Point\"] = ufo_usa[\"coordenadas\"].apply(type_point)"
   ]
  },
  {
   "cell_type": "code",
   "execution_count": null,
   "id": "8f561c70",
   "metadata": {},
   "outputs": [],
   "source": []
  },
  {
   "cell_type": "code",
   "execution_count": 358,
   "id": "54fb4453",
   "metadata": {},
   "outputs": [],
   "source": [
    "ufo_usagdf = gpd.GeoDataFrame(ufo_usa,geometry = gpd.points_from_xy(ufo_usa.longitude, ufo_usa.latitude))"
   ]
  },
  {
   "cell_type": "code",
   "execution_count": 352,
   "id": "56e7c661",
   "metadata": {},
   "outputs": [],
   "source": [
    "#ufo_usagdf"
   ]
  },
  {
   "cell_type": "code",
   "execution_count": 361,
   "id": "b80e937b",
   "metadata": {},
   "outputs": [],
   "source": [
    "ufo_usagdf['geometry2']=ufo_usagdf['geometry'].apply(lambda x:shapely.geometry.mapping(x))"
   ]
  },
  {
   "cell_type": "code",
   "execution_count": 365,
   "id": "ad2b6ea3",
   "metadata": {
    "scrolled": true
   },
   "outputs": [
    {
     "data": {
      "text/html": [
       "<div>\n",
       "<style scoped>\n",
       "    .dataframe tbody tr th:only-of-type {\n",
       "        vertical-align: middle;\n",
       "    }\n",
       "\n",
       "    .dataframe tbody tr th {\n",
       "        vertical-align: top;\n",
       "    }\n",
       "\n",
       "    .dataframe thead th {\n",
       "        text-align: right;\n",
       "    }\n",
       "</style>\n",
       "<table border=\"1\" class=\"dataframe\">\n",
       "  <thead>\n",
       "    <tr style=\"text-align: right;\">\n",
       "      <th></th>\n",
       "      <th>level_0</th>\n",
       "      <th>index</th>\n",
       "      <th>datetime</th>\n",
       "      <th>city</th>\n",
       "      <th>state</th>\n",
       "      <th>country</th>\n",
       "      <th>shape</th>\n",
       "      <th>duration (seconds)</th>\n",
       "      <th>duration (hours/min)</th>\n",
       "      <th>comments</th>\n",
       "      <th>date posted</th>\n",
       "      <th>latitude</th>\n",
       "      <th>longitude</th>\n",
       "      <th>coordenadas</th>\n",
       "      <th>Point</th>\n",
       "      <th>geometry</th>\n",
       "      <th>geometry2</th>\n",
       "    </tr>\n",
       "  </thead>\n",
       "  <tbody>\n",
       "    <tr>\n",
       "      <th>0</th>\n",
       "      <td>0</td>\n",
       "      <td>0</td>\n",
       "      <td>1949-10-10</td>\n",
       "      <td>san marcos</td>\n",
       "      <td>tx</td>\n",
       "      <td>us</td>\n",
       "      <td>cylinder</td>\n",
       "      <td>2700</td>\n",
       "      <td>45 minutes</td>\n",
       "      <td>This event took place in early fall around 194...</td>\n",
       "      <td>4/27/2004</td>\n",
       "      <td>29.883056</td>\n",
       "      <td>-97.941111</td>\n",
       "      <td>[-97.9411111, 29.8830556]</td>\n",
       "      <td>{'type': 'Point', 'coordinates': [-97.9411111,...</td>\n",
       "      <td>POINT (-97.94111 29.88306)</td>\n",
       "      <td>{'type': 'Point', 'coordinates': (-97.9411111,...</td>\n",
       "    </tr>\n",
       "  </tbody>\n",
       "</table>\n",
       "</div>"
      ],
      "text/plain": [
       "   level_0  index   datetime        city state country     shape  \\\n",
       "0        0      0 1949-10-10  san marcos    tx      us  cylinder   \n",
       "\n",
       "  duration (seconds) duration (hours/min)  \\\n",
       "0               2700           45 minutes   \n",
       "\n",
       "                                            comments date posted   latitude  \\\n",
       "0  This event took place in early fall around 194...   4/27/2004  29.883056   \n",
       "\n",
       "   longitude                coordenadas  \\\n",
       "0 -97.941111  [-97.9411111, 29.8830556]   \n",
       "\n",
       "                                               Point  \\\n",
       "0  {'type': 'Point', 'coordinates': [-97.9411111,...   \n",
       "\n",
       "                     geometry  \\\n",
       "0  POINT (-97.94111 29.88306)   \n",
       "\n",
       "                                           geometry2  \n",
       "0  {'type': 'Point', 'coordinates': (-97.9411111,...  "
      ]
     },
     "execution_count": 365,
     "metadata": {},
     "output_type": "execute_result"
    }
   ],
   "source": [
    "ufo_usagdf.head(1)"
   ]
  },
  {
   "cell_type": "code",
   "execution_count": 372,
   "id": "c843ae9b",
   "metadata": {
    "collapsed": true
   },
   "outputs": [
    {
     "name": "stdout",
     "output_type": "stream",
     "text": [
      "<class 'geopandas.geodataframe.GeoDataFrame'>\n",
      "RangeIndex: 51905 entries, 0 to 51904\n",
      "Data columns (total 17 columns):\n",
      " #   Column                Non-Null Count  Dtype         \n",
      "---  ------                --------------  -----         \n",
      " 0   level_0               51905 non-null  int64         \n",
      " 1   index                 51905 non-null  int64         \n",
      " 2   datetime              51905 non-null  datetime64[ns]\n",
      " 3   city                  51905 non-null  object        \n",
      " 4   state                 51905 non-null  object        \n",
      " 5   country               51905 non-null  object        \n",
      " 6   shape                 51905 non-null  object        \n",
      " 7   duration (seconds)    51905 non-null  object        \n",
      " 8   duration (hours/min)  51905 non-null  object        \n",
      " 9   comments              51905 non-null  object        \n",
      " 10  date posted           51905 non-null  object        \n",
      " 11  latitude              51905 non-null  float64       \n",
      " 12  longitude             51905 non-null  float64       \n",
      " 13  coordenadas           51905 non-null  object        \n",
      " 14  Point                 51905 non-null  object        \n",
      " 15  geometry              51905 non-null  geometry      \n",
      " 16  geometry2             51905 non-null  object        \n",
      "dtypes: datetime64[ns](1), float64(2), geometry(1), int64(2), object(11)\n",
      "memory usage: 6.7+ MB\n"
     ]
    }
   ],
   "source": [
    "ufo_usagdf.info()"
   ]
  },
  {
   "cell_type": "code",
   "execution_count": 370,
   "id": "97748e8d",
   "metadata": {},
   "outputs": [],
   "source": [
    "ufo_usagdf.to_csv(\"ufo_usagdf.csv\",index=False)"
   ]
  },
  {
   "cell_type": "code",
   "execution_count": 368,
   "id": "17dfe1ec",
   "metadata": {},
   "outputs": [],
   "source": [
    "from pymongo import MongoClient\n",
    "import requests\n",
    "from pymongo import GEOSPHERE\n",
    "client = MongoClient(\"localhost:27017\")\n",
    "db = client.get_database(\"Aliens\")"
   ]
  },
  {
   "cell_type": "code",
   "execution_count": 378,
   "id": "26e7e8c1",
   "metadata": {},
   "outputs": [
    {
     "data": {
      "text/plain": [
       "'type_point__2dsphere'"
      ]
     },
     "execution_count": 378,
     "metadata": {},
     "output_type": "execute_result"
    }
   ],
   "source": [
    "#stb = client.ironhack\n",
    "collection = db[\"Prueba1\"]\n",
    "collection.create_index([(\"geometry2\", GEOSPHERE)])\n",
    "collection.create_index([(\"type_point_\", \"2dsphere\")])"
   ]
  },
  {
   "cell_type": "code",
   "execution_count": 376,
   "id": "64cd55dc",
   "metadata": {},
   "outputs": [],
   "source": [
    "sin_geometry = ufo_usagdf.drop([\"geometry\"],axis=1)"
   ]
  },
  {
   "cell_type": "code",
   "execution_count": 377,
   "id": "14e72c74",
   "metadata": {},
   "outputs": [
    {
     "data": {
      "text/plain": [
       "<pymongo.results.InsertManyResult at 0x7fc89d20b600>"
      ]
     },
     "execution_count": 377,
     "metadata": {},
     "output_type": "execute_result"
    }
   ],
   "source": [
    "data = sin_geometry.to_dict(orient='records')\n",
    "collection.insert_many(data)"
   ]
  },
  {
   "cell_type": "code",
   "execution_count": 380,
   "id": "dffbd921",
   "metadata": {},
   "outputs": [],
   "source": [
    "ufo_usa = ufo_usagdf.drop([\"level_0\",\"index\"],axis=1)"
   ]
  },
  {
   "cell_type": "code",
   "execution_count": 382,
   "id": "e567d8f4",
   "metadata": {},
   "outputs": [],
   "source": [
    "ufo_usa.to_csv(\"F_usacases.csv\",index=False)"
   ]
  },
  {
   "cell_type": "code",
   "execution_count": 381,
   "id": "88268f4a",
   "metadata": {
    "scrolled": true
   },
   "outputs": [
    {
     "data": {
      "text/html": [
       "<div>\n",
       "<style scoped>\n",
       "    .dataframe tbody tr th:only-of-type {\n",
       "        vertical-align: middle;\n",
       "    }\n",
       "\n",
       "    .dataframe tbody tr th {\n",
       "        vertical-align: top;\n",
       "    }\n",
       "\n",
       "    .dataframe thead th {\n",
       "        text-align: right;\n",
       "    }\n",
       "</style>\n",
       "<table border=\"1\" class=\"dataframe\">\n",
       "  <thead>\n",
       "    <tr style=\"text-align: right;\">\n",
       "      <th></th>\n",
       "      <th>datetime</th>\n",
       "      <th>city</th>\n",
       "      <th>state</th>\n",
       "      <th>country</th>\n",
       "      <th>shape</th>\n",
       "      <th>duration (seconds)</th>\n",
       "      <th>duration (hours/min)</th>\n",
       "      <th>comments</th>\n",
       "      <th>date posted</th>\n",
       "      <th>latitude</th>\n",
       "      <th>longitude</th>\n",
       "      <th>coordenadas</th>\n",
       "      <th>Point</th>\n",
       "      <th>geometry</th>\n",
       "      <th>geometry2</th>\n",
       "    </tr>\n",
       "  </thead>\n",
       "  <tbody>\n",
       "    <tr>\n",
       "      <th>0</th>\n",
       "      <td>1949-10-10</td>\n",
       "      <td>san marcos</td>\n",
       "      <td>tx</td>\n",
       "      <td>us</td>\n",
       "      <td>cylinder</td>\n",
       "      <td>2700</td>\n",
       "      <td>45 minutes</td>\n",
       "      <td>This event took place in early fall around 194...</td>\n",
       "      <td>4/27/2004</td>\n",
       "      <td>29.883056</td>\n",
       "      <td>-97.941111</td>\n",
       "      <td>[-97.9411111, 29.8830556]</td>\n",
       "      <td>{'type': 'Point', 'coordinates': [-97.9411111,...</td>\n",
       "      <td>POINT (-97.94111 29.88306)</td>\n",
       "      <td>{'type': 'Point', 'coordinates': (-97.9411111,...</td>\n",
       "    </tr>\n",
       "    <tr>\n",
       "      <th>1</th>\n",
       "      <td>1956-10-10</td>\n",
       "      <td>edna</td>\n",
       "      <td>tx</td>\n",
       "      <td>us</td>\n",
       "      <td>circle</td>\n",
       "      <td>20</td>\n",
       "      <td>1/2 hour</td>\n",
       "      <td>My older brother and twin sister were leaving ...</td>\n",
       "      <td>1/17/2004</td>\n",
       "      <td>28.978333</td>\n",
       "      <td>-96.645833</td>\n",
       "      <td>[-96.6458333, 28.9783333]</td>\n",
       "      <td>{'type': 'Point', 'coordinates': [-96.6458333,...</td>\n",
       "      <td>POINT (-96.64583 28.97833)</td>\n",
       "      <td>{'type': 'Point', 'coordinates': (-96.6458333,...</td>\n",
       "    </tr>\n",
       "    <tr>\n",
       "      <th>2</th>\n",
       "      <td>1960-10-10</td>\n",
       "      <td>kaneohe</td>\n",
       "      <td>hi</td>\n",
       "      <td>us</td>\n",
       "      <td>light</td>\n",
       "      <td>900</td>\n",
       "      <td>15 minutes</td>\n",
       "      <td>AS a Marine 1st Lt. flying an FJ4B fighter/att...</td>\n",
       "      <td>1/22/2004</td>\n",
       "      <td>21.418056</td>\n",
       "      <td>-157.803611</td>\n",
       "      <td>[-157.8036111, 21.4180556]</td>\n",
       "      <td>{'type': 'Point', 'coordinates': [-157.8036111...</td>\n",
       "      <td>POINT (-157.80361 21.41806)</td>\n",
       "      <td>{'type': 'Point', 'coordinates': (-157.8036111...</td>\n",
       "    </tr>\n",
       "    <tr>\n",
       "      <th>3</th>\n",
       "      <td>1961-10-10</td>\n",
       "      <td>bristol</td>\n",
       "      <td>tn</td>\n",
       "      <td>us</td>\n",
       "      <td>sphere</td>\n",
       "      <td>300</td>\n",
       "      <td>5 minutes</td>\n",
       "      <td>My father is now 89 my brother 52 the girl wit...</td>\n",
       "      <td>4/27/2007</td>\n",
       "      <td>36.595000</td>\n",
       "      <td>-82.188889</td>\n",
       "      <td>[-82.1888889, 36.595]</td>\n",
       "      <td>{'type': 'Point', 'coordinates': [-82.1888889,...</td>\n",
       "      <td>POINT (-82.18889 36.59500)</td>\n",
       "      <td>{'type': 'Point', 'coordinates': (-82.1888889,...</td>\n",
       "    </tr>\n",
       "    <tr>\n",
       "      <th>4</th>\n",
       "      <td>1965-10-10</td>\n",
       "      <td>norwalk</td>\n",
       "      <td>ct</td>\n",
       "      <td>us</td>\n",
       "      <td>disk</td>\n",
       "      <td>1200</td>\n",
       "      <td>20 minutes</td>\n",
       "      <td>A bright orange color changing to reddish colo...</td>\n",
       "      <td>10/2/1999</td>\n",
       "      <td>41.117500</td>\n",
       "      <td>-73.408333</td>\n",
       "      <td>[-73.4083333, 41.1175]</td>\n",
       "      <td>{'type': 'Point', 'coordinates': [-73.4083333,...</td>\n",
       "      <td>POINT (-73.40833 41.11750)</td>\n",
       "      <td>{'type': 'Point', 'coordinates': (-73.4083333,...</td>\n",
       "    </tr>\n",
       "  </tbody>\n",
       "</table>\n",
       "</div>"
      ],
      "text/plain": [
       "    datetime        city state country     shape duration (seconds)  \\\n",
       "0 1949-10-10  san marcos    tx      us  cylinder               2700   \n",
       "1 1956-10-10        edna    tx      us    circle                 20   \n",
       "2 1960-10-10     kaneohe    hi      us     light                900   \n",
       "3 1961-10-10     bristol    tn      us    sphere                300   \n",
       "4 1965-10-10     norwalk    ct      us      disk               1200   \n",
       "\n",
       "  duration (hours/min)                                           comments  \\\n",
       "0           45 minutes  This event took place in early fall around 194...   \n",
       "1             1/2 hour  My older brother and twin sister were leaving ...   \n",
       "2           15 minutes  AS a Marine 1st Lt. flying an FJ4B fighter/att...   \n",
       "3            5 minutes  My father is now 89 my brother 52 the girl wit...   \n",
       "4           20 minutes  A bright orange color changing to reddish colo...   \n",
       "\n",
       "  date posted   latitude   longitude                 coordenadas  \\\n",
       "0   4/27/2004  29.883056  -97.941111   [-97.9411111, 29.8830556]   \n",
       "1   1/17/2004  28.978333  -96.645833   [-96.6458333, 28.9783333]   \n",
       "2   1/22/2004  21.418056 -157.803611  [-157.8036111, 21.4180556]   \n",
       "3   4/27/2007  36.595000  -82.188889       [-82.1888889, 36.595]   \n",
       "4   10/2/1999  41.117500  -73.408333      [-73.4083333, 41.1175]   \n",
       "\n",
       "                                               Point  \\\n",
       "0  {'type': 'Point', 'coordinates': [-97.9411111,...   \n",
       "1  {'type': 'Point', 'coordinates': [-96.6458333,...   \n",
       "2  {'type': 'Point', 'coordinates': [-157.8036111...   \n",
       "3  {'type': 'Point', 'coordinates': [-82.1888889,...   \n",
       "4  {'type': 'Point', 'coordinates': [-73.4083333,...   \n",
       "\n",
       "                      geometry  \\\n",
       "0   POINT (-97.94111 29.88306)   \n",
       "1   POINT (-96.64583 28.97833)   \n",
       "2  POINT (-157.80361 21.41806)   \n",
       "3   POINT (-82.18889 36.59500)   \n",
       "4   POINT (-73.40833 41.11750)   \n",
       "\n",
       "                                           geometry2  \n",
       "0  {'type': 'Point', 'coordinates': (-97.9411111,...  \n",
       "1  {'type': 'Point', 'coordinates': (-96.6458333,...  \n",
       "2  {'type': 'Point', 'coordinates': (-157.8036111...  \n",
       "3  {'type': 'Point', 'coordinates': (-82.1888889,...  \n",
       "4  {'type': 'Point', 'coordinates': (-73.4083333,...  "
      ]
     },
     "execution_count": 381,
     "metadata": {},
     "output_type": "execute_result"
    }
   ],
   "source": [
    "ufo_usa.head()"
   ]
  },
  {
   "cell_type": "code",
   "execution_count": 252,
   "id": "cd223d97",
   "metadata": {},
   "outputs": [],
   "source": [
    "x = []\n",
    "y = []\n",
    "for i,row in ufo_usa.iterrows():\n",
    "    cond = eventsdf['datetime'] < row[\"datetime\"]\n",
    "    df_past = eventsdf[cond]\n",
    "    \n",
    "    \n",
    "    \n",
    "    \n",
    "    \n",
    "    \n",
    "    \n",
    "    \n",
    "    \n",
    "    \n",
    "    \n",
    "    \n",
    "    \n",
    "    \n",
    "    \n",
    "    \n",
    "    \n",
    "    \n",
    "    \n",
    "    \n",
    "    \n",
    "    \n",
    "    \n",
    "    \n",
    "    \n",
    "    \n",
    "    \n",
    "    \n",
    "    \n",
    "    x.append(dfn_past[\"Event\"])\n",
    "    y.append(dfn_past[\"datetime\"])"
   ]
  },
  {
   "cell_type": "code",
   "execution_count": null,
   "id": "ec602103",
   "metadata": {},
   "outputs": [],
   "source": []
  },
  {
   "cell_type": "code",
   "execution_count": null,
   "id": "b035d72e",
   "metadata": {},
   "outputs": [],
   "source": [
    "df.sort_values('diff', ascending=False).drop_duplicates(['City', 'Venue'])"
   ]
  },
  {
   "cell_type": "code",
   "execution_count": 286,
   "id": "8f15a292",
   "metadata": {},
   "outputs": [],
   "source": [
    "for i,row in ufo_usa[:5].iterrows():\n",
    "    cond = eventsdf['datetime'] < row[\"datetime\"]\n",
    "    df_past = eventsdf[cond]\n",
    "    dfn_past = df_past.sort_values('datetime', ascending=True)\n",
    "    #dfn_past[]\n",
    "    #print(dfn_past[\"datetime\"].iat[-1])\n",
    "    #print(dfn_past.loc[dfn_past.index[-1], 'datetime'])\n",
    "    #print(dfn_past[\"datetime\"].iloc[-1])"
   ]
  },
  {
   "cell_type": "code",
   "execution_count": 287,
   "id": "c08b9425",
   "metadata": {},
   "outputs": [
    {
     "data": {
      "text/plain": [
       "Timestamp('1965-06-14 00:00:00')"
      ]
     },
     "execution_count": 287,
     "metadata": {},
     "output_type": "execute_result"
    }
   ],
   "source": [
    "dfn_past[\"datetime\"].iloc[-1]\n"
   ]
  },
  {
   "cell_type": "code",
   "execution_count": 295,
   "id": "74f3a5f8",
   "metadata": {},
   "outputs": [],
   "source": [
    "def eventos (mifecha):\n",
    "    cond = eventsdf['datetime'] < mifecha\n",
    "    df_past = eventsdf[cond]\n",
    "    dfn_past = df_past.sort_values('datetime', ascending=True)\n",
    "    dfn_past[\"datetime\"].astype(object)\n",
    "    return dfn_past[\"datetime\"].iloc[-1]"
   ]
  },
  {
   "cell_type": "code",
   "execution_count": 300,
   "id": "c6f26ed6",
   "metadata": {},
   "outputs": [
    {
     "data": {
      "text/plain": [
       "Event               object\n",
       "Summary             object\n",
       "Month                int64\n",
       "Year                 int64\n",
       "Day                  int64\n",
       "datetime    datetime64[ns]\n",
       "dtype: object"
      ]
     },
     "execution_count": 300,
     "metadata": {},
     "output_type": "execute_result"
    }
   ],
   "source": [
    "dfn_past.dtypes\n"
   ]
  },
  {
   "cell_type": "code",
   "execution_count": 290,
   "id": "6dd21441",
   "metadata": {},
   "outputs": [],
   "source": [
    "df_prueba_m = ufo_usa[:5]"
   ]
  },
  {
   "cell_type": "code",
   "execution_count": 296,
   "id": "6c2f9eee",
   "metadata": {},
   "outputs": [
    {
     "ename": "IndexError",
     "evalue": "single positional indexer is out-of-bounds",
     "output_type": "error",
     "traceback": [
      "\u001b[0;31m---------------------------------------------------------------------------\u001b[0m",
      "\u001b[0;31mIndexError\u001b[0m                                Traceback (most recent call last)",
      "\u001b[0;32m<ipython-input-296-ba9ac6c11307>\u001b[0m in \u001b[0;36m<module>\u001b[0;34m\u001b[0m\n\u001b[0;32m----> 1\u001b[0;31m \u001b[0mdf_prueba_m\u001b[0m\u001b[0;34m[\u001b[0m\u001b[0;34m\"ult_event\"\u001b[0m\u001b[0;34m]\u001b[0m \u001b[0;34m=\u001b[0m \u001b[0mdf_prueba_m\u001b[0m\u001b[0;34m[\u001b[0m\u001b[0;34m\"datetime\"\u001b[0m\u001b[0;34m]\u001b[0m\u001b[0;34m.\u001b[0m\u001b[0mapply\u001b[0m\u001b[0;34m(\u001b[0m\u001b[0meventos\u001b[0m\u001b[0;34m)\u001b[0m\u001b[0;34m\u001b[0m\u001b[0;34m\u001b[0m\u001b[0m\n\u001b[0m",
      "\u001b[0;32m~/.local/lib/python3.8/site-packages/pandas/core/series.py\u001b[0m in \u001b[0;36mapply\u001b[0;34m(self, func, convert_dtype, args, **kwargs)\u001b[0m\n\u001b[1;32m   4355\u001b[0m         \u001b[0mdtype\u001b[0m\u001b[0;34m:\u001b[0m \u001b[0mfloat64\u001b[0m\u001b[0;34m\u001b[0m\u001b[0;34m\u001b[0m\u001b[0m\n\u001b[1;32m   4356\u001b[0m         \"\"\"\n\u001b[0;32m-> 4357\u001b[0;31m         \u001b[0;32mreturn\u001b[0m \u001b[0mSeriesApply\u001b[0m\u001b[0;34m(\u001b[0m\u001b[0mself\u001b[0m\u001b[0;34m,\u001b[0m \u001b[0mfunc\u001b[0m\u001b[0;34m,\u001b[0m \u001b[0mconvert_dtype\u001b[0m\u001b[0;34m,\u001b[0m \u001b[0margs\u001b[0m\u001b[0;34m,\u001b[0m \u001b[0mkwargs\u001b[0m\u001b[0;34m)\u001b[0m\u001b[0;34m.\u001b[0m\u001b[0mapply\u001b[0m\u001b[0;34m(\u001b[0m\u001b[0;34m)\u001b[0m\u001b[0;34m\u001b[0m\u001b[0;34m\u001b[0m\u001b[0m\n\u001b[0m\u001b[1;32m   4358\u001b[0m \u001b[0;34m\u001b[0m\u001b[0m\n\u001b[1;32m   4359\u001b[0m     def _reduce(\n",
      "\u001b[0;32m~/.local/lib/python3.8/site-packages/pandas/core/apply.py\u001b[0m in \u001b[0;36mapply\u001b[0;34m(self)\u001b[0m\n\u001b[1;32m   1041\u001b[0m             \u001b[0;32mreturn\u001b[0m \u001b[0mself\u001b[0m\u001b[0;34m.\u001b[0m\u001b[0mapply_str\u001b[0m\u001b[0;34m(\u001b[0m\u001b[0;34m)\u001b[0m\u001b[0;34m\u001b[0m\u001b[0;34m\u001b[0m\u001b[0m\n\u001b[1;32m   1042\u001b[0m \u001b[0;34m\u001b[0m\u001b[0m\n\u001b[0;32m-> 1043\u001b[0;31m         \u001b[0;32mreturn\u001b[0m \u001b[0mself\u001b[0m\u001b[0;34m.\u001b[0m\u001b[0mapply_standard\u001b[0m\u001b[0;34m(\u001b[0m\u001b[0;34m)\u001b[0m\u001b[0;34m\u001b[0m\u001b[0;34m\u001b[0m\u001b[0m\n\u001b[0m\u001b[1;32m   1044\u001b[0m \u001b[0;34m\u001b[0m\u001b[0m\n\u001b[1;32m   1045\u001b[0m     \u001b[0;32mdef\u001b[0m \u001b[0magg\u001b[0m\u001b[0;34m(\u001b[0m\u001b[0mself\u001b[0m\u001b[0;34m)\u001b[0m\u001b[0;34m:\u001b[0m\u001b[0;34m\u001b[0m\u001b[0;34m\u001b[0m\u001b[0m\n",
      "\u001b[0;32m~/.local/lib/python3.8/site-packages/pandas/core/apply.py\u001b[0m in \u001b[0;36mapply_standard\u001b[0;34m(self)\u001b[0m\n\u001b[1;32m   1096\u001b[0m                 \u001b[0;31m# List[Union[Callable[..., Any], str]]]]]\"; expected\u001b[0m\u001b[0;34m\u001b[0m\u001b[0;34m\u001b[0m\u001b[0;34m\u001b[0m\u001b[0m\n\u001b[1;32m   1097\u001b[0m                 \u001b[0;31m# \"Callable[[Any], Any]\"\u001b[0m\u001b[0;34m\u001b[0m\u001b[0;34m\u001b[0m\u001b[0;34m\u001b[0m\u001b[0m\n\u001b[0;32m-> 1098\u001b[0;31m                 mapped = lib.map_infer(\n\u001b[0m\u001b[1;32m   1099\u001b[0m                     \u001b[0mvalues\u001b[0m\u001b[0;34m,\u001b[0m\u001b[0;34m\u001b[0m\u001b[0;34m\u001b[0m\u001b[0m\n\u001b[1;32m   1100\u001b[0m                     \u001b[0mf\u001b[0m\u001b[0;34m,\u001b[0m  \u001b[0;31m# type: ignore[arg-type]\u001b[0m\u001b[0;34m\u001b[0m\u001b[0;34m\u001b[0m\u001b[0m\n",
      "\u001b[0;32m~/.local/lib/python3.8/site-packages/pandas/_libs/lib.pyx\u001b[0m in \u001b[0;36mpandas._libs.lib.map_infer\u001b[0;34m()\u001b[0m\n",
      "\u001b[0;32m<ipython-input-295-68e596c93438>\u001b[0m in \u001b[0;36meventos\u001b[0;34m(mifecha)\u001b[0m\n\u001b[1;32m      4\u001b[0m     \u001b[0mdfn_past\u001b[0m \u001b[0;34m=\u001b[0m \u001b[0mdf_past\u001b[0m\u001b[0;34m.\u001b[0m\u001b[0msort_values\u001b[0m\u001b[0;34m(\u001b[0m\u001b[0;34m'datetime'\u001b[0m\u001b[0;34m,\u001b[0m \u001b[0mascending\u001b[0m\u001b[0;34m=\u001b[0m\u001b[0;32mTrue\u001b[0m\u001b[0;34m)\u001b[0m\u001b[0;34m\u001b[0m\u001b[0;34m\u001b[0m\u001b[0m\n\u001b[1;32m      5\u001b[0m     \u001b[0mdfn_past\u001b[0m\u001b[0;34m[\u001b[0m\u001b[0;34m\"datetime\"\u001b[0m\u001b[0;34m]\u001b[0m\u001b[0;34m.\u001b[0m\u001b[0mastype\u001b[0m\u001b[0;34m(\u001b[0m\u001b[0mobject\u001b[0m\u001b[0;34m)\u001b[0m\u001b[0;34m\u001b[0m\u001b[0;34m\u001b[0m\u001b[0m\n\u001b[0;32m----> 6\u001b[0;31m     \u001b[0;32mreturn\u001b[0m \u001b[0mdfn_past\u001b[0m\u001b[0;34m[\u001b[0m\u001b[0;34m\"datetime\"\u001b[0m\u001b[0;34m]\u001b[0m\u001b[0;34m.\u001b[0m\u001b[0miloc\u001b[0m\u001b[0;34m[\u001b[0m\u001b[0;34m-\u001b[0m\u001b[0;36m1\u001b[0m\u001b[0;34m]\u001b[0m\u001b[0;34m\u001b[0m\u001b[0;34m\u001b[0m\u001b[0m\n\u001b[0m",
      "\u001b[0;32m~/.local/lib/python3.8/site-packages/pandas/core/indexing.py\u001b[0m in \u001b[0;36m__getitem__\u001b[0;34m(self, key)\u001b[0m\n\u001b[1;32m    929\u001b[0m \u001b[0;34m\u001b[0m\u001b[0m\n\u001b[1;32m    930\u001b[0m             \u001b[0mmaybe_callable\u001b[0m \u001b[0;34m=\u001b[0m \u001b[0mcom\u001b[0m\u001b[0;34m.\u001b[0m\u001b[0mapply_if_callable\u001b[0m\u001b[0;34m(\u001b[0m\u001b[0mkey\u001b[0m\u001b[0;34m,\u001b[0m \u001b[0mself\u001b[0m\u001b[0;34m.\u001b[0m\u001b[0mobj\u001b[0m\u001b[0;34m)\u001b[0m\u001b[0;34m\u001b[0m\u001b[0;34m\u001b[0m\u001b[0m\n\u001b[0;32m--> 931\u001b[0;31m             \u001b[0;32mreturn\u001b[0m \u001b[0mself\u001b[0m\u001b[0;34m.\u001b[0m\u001b[0m_getitem_axis\u001b[0m\u001b[0;34m(\u001b[0m\u001b[0mmaybe_callable\u001b[0m\u001b[0;34m,\u001b[0m \u001b[0maxis\u001b[0m\u001b[0;34m=\u001b[0m\u001b[0maxis\u001b[0m\u001b[0;34m)\u001b[0m\u001b[0;34m\u001b[0m\u001b[0;34m\u001b[0m\u001b[0m\n\u001b[0m\u001b[1;32m    932\u001b[0m \u001b[0;34m\u001b[0m\u001b[0m\n\u001b[1;32m    933\u001b[0m     \u001b[0;32mdef\u001b[0m \u001b[0m_is_scalar_access\u001b[0m\u001b[0;34m(\u001b[0m\u001b[0mself\u001b[0m\u001b[0;34m,\u001b[0m \u001b[0mkey\u001b[0m\u001b[0;34m:\u001b[0m \u001b[0mtuple\u001b[0m\u001b[0;34m)\u001b[0m\u001b[0;34m:\u001b[0m\u001b[0;34m\u001b[0m\u001b[0;34m\u001b[0m\u001b[0m\n",
      "\u001b[0;32m~/.local/lib/python3.8/site-packages/pandas/core/indexing.py\u001b[0m in \u001b[0;36m_getitem_axis\u001b[0;34m(self, key, axis)\u001b[0m\n\u001b[1;32m   1564\u001b[0m \u001b[0;34m\u001b[0m\u001b[0m\n\u001b[1;32m   1565\u001b[0m             \u001b[0;31m# validate the location\u001b[0m\u001b[0;34m\u001b[0m\u001b[0;34m\u001b[0m\u001b[0;34m\u001b[0m\u001b[0m\n\u001b[0;32m-> 1566\u001b[0;31m             \u001b[0mself\u001b[0m\u001b[0;34m.\u001b[0m\u001b[0m_validate_integer\u001b[0m\u001b[0;34m(\u001b[0m\u001b[0mkey\u001b[0m\u001b[0;34m,\u001b[0m \u001b[0maxis\u001b[0m\u001b[0;34m)\u001b[0m\u001b[0;34m\u001b[0m\u001b[0;34m\u001b[0m\u001b[0m\n\u001b[0m\u001b[1;32m   1567\u001b[0m \u001b[0;34m\u001b[0m\u001b[0m\n\u001b[1;32m   1568\u001b[0m             \u001b[0;32mreturn\u001b[0m \u001b[0mself\u001b[0m\u001b[0;34m.\u001b[0m\u001b[0mobj\u001b[0m\u001b[0;34m.\u001b[0m\u001b[0m_ixs\u001b[0m\u001b[0;34m(\u001b[0m\u001b[0mkey\u001b[0m\u001b[0;34m,\u001b[0m \u001b[0maxis\u001b[0m\u001b[0;34m=\u001b[0m\u001b[0maxis\u001b[0m\u001b[0;34m)\u001b[0m\u001b[0;34m\u001b[0m\u001b[0;34m\u001b[0m\u001b[0m\n",
      "\u001b[0;32m~/.local/lib/python3.8/site-packages/pandas/core/indexing.py\u001b[0m in \u001b[0;36m_validate_integer\u001b[0;34m(self, key, axis)\u001b[0m\n\u001b[1;32m   1498\u001b[0m         \u001b[0mlen_axis\u001b[0m \u001b[0;34m=\u001b[0m \u001b[0mlen\u001b[0m\u001b[0;34m(\u001b[0m\u001b[0mself\u001b[0m\u001b[0;34m.\u001b[0m\u001b[0mobj\u001b[0m\u001b[0;34m.\u001b[0m\u001b[0m_get_axis\u001b[0m\u001b[0;34m(\u001b[0m\u001b[0maxis\u001b[0m\u001b[0;34m)\u001b[0m\u001b[0;34m)\u001b[0m\u001b[0;34m\u001b[0m\u001b[0;34m\u001b[0m\u001b[0m\n\u001b[1;32m   1499\u001b[0m         \u001b[0;32mif\u001b[0m \u001b[0mkey\u001b[0m \u001b[0;34m>=\u001b[0m \u001b[0mlen_axis\u001b[0m \u001b[0;32mor\u001b[0m \u001b[0mkey\u001b[0m \u001b[0;34m<\u001b[0m \u001b[0;34m-\u001b[0m\u001b[0mlen_axis\u001b[0m\u001b[0;34m:\u001b[0m\u001b[0;34m\u001b[0m\u001b[0;34m\u001b[0m\u001b[0m\n\u001b[0;32m-> 1500\u001b[0;31m             \u001b[0;32mraise\u001b[0m \u001b[0mIndexError\u001b[0m\u001b[0;34m(\u001b[0m\u001b[0;34m\"single positional indexer is out-of-bounds\"\u001b[0m\u001b[0;34m)\u001b[0m\u001b[0;34m\u001b[0m\u001b[0;34m\u001b[0m\u001b[0m\n\u001b[0m\u001b[1;32m   1501\u001b[0m \u001b[0;34m\u001b[0m\u001b[0m\n\u001b[1;32m   1502\u001b[0m     \u001b[0;31m# -------------------------------------------------------------------\u001b[0m\u001b[0;34m\u001b[0m\u001b[0;34m\u001b[0m\u001b[0;34m\u001b[0m\u001b[0m\n",
      "\u001b[0;31mIndexError\u001b[0m: single positional indexer is out-of-bounds"
     ]
    }
   ],
   "source": [
    "df_prueba_m[\"ult_event\"] = df_prueba_m[\"datetime\"].apply(eventos)"
   ]
  },
  {
   "cell_type": "code",
   "execution_count": 196,
   "id": "e4afea29",
   "metadata": {},
   "outputs": [],
   "source": [
    "#df_past.shape"
   ]
  },
  {
   "cell_type": "code",
   "execution_count": 199,
   "id": "b2bcfaf6",
   "metadata": {},
   "outputs": [],
   "source": [
    "dfn_past = df_past.sort_values(['datetime'])"
   ]
  },
  {
   "cell_type": "code",
   "execution_count": 282,
   "id": "b4879757",
   "metadata": {},
   "outputs": [
    {
     "data": {
      "text/plain": [
       "pandas._libs.tslibs.timestamps.Timestamp"
      ]
     },
     "execution_count": 282,
     "metadata": {},
     "output_type": "execute_result"
    }
   ],
   "source": [
    "type(dfn_past.iloc[-1][\"datetime\"])"
   ]
  },
  {
   "cell_type": "code",
   "execution_count": 303,
   "id": "392ceb36",
   "metadata": {},
   "outputs": [
    {
     "data": {
      "text/plain": [
       "Timestamp('1965-06-14 00:00:00')"
      ]
     },
     "execution_count": 303,
     "metadata": {},
     "output_type": "execute_result"
    }
   ],
   "source": [
    "df_past = eventsdf[cond]\n",
    "dfn_past = df_past.sort_values(['datetime'])\n",
    "dfn_past.iloc[-1][\"datetime\"]"
   ]
  },
  {
   "cell_type": "code",
   "execution_count": 334,
   "id": "1fd9373a",
   "metadata": {},
   "outputs": [],
   "source": [
    "ufo_usa = ufo_usa.reset_index()"
   ]
  },
  {
   "cell_type": "code",
   "execution_count": 333,
   "id": "d7b8de58",
   "metadata": {},
   "outputs": [],
   "source": [
    "ufo_usa = ufo_usa.dropna()"
   ]
  },
  {
   "cell_type": "code",
   "execution_count": 379,
   "id": "6146f400",
   "metadata": {},
   "outputs": [
    {
     "data": {
      "text/html": [
       "<div>\n",
       "<style scoped>\n",
       "    .dataframe tbody tr th:only-of-type {\n",
       "        vertical-align: middle;\n",
       "    }\n",
       "\n",
       "    .dataframe tbody tr th {\n",
       "        vertical-align: top;\n",
       "    }\n",
       "\n",
       "    .dataframe thead th {\n",
       "        text-align: right;\n",
       "    }\n",
       "</style>\n",
       "<table border=\"1\" class=\"dataframe\">\n",
       "  <thead>\n",
       "    <tr style=\"text-align: right;\">\n",
       "      <th></th>\n",
       "      <th>level_0</th>\n",
       "      <th>index</th>\n",
       "      <th>datetime</th>\n",
       "      <th>city</th>\n",
       "      <th>state</th>\n",
       "      <th>country</th>\n",
       "      <th>shape</th>\n",
       "      <th>duration (seconds)</th>\n",
       "      <th>duration (hours/min)</th>\n",
       "      <th>comments</th>\n",
       "      <th>date posted</th>\n",
       "      <th>latitude</th>\n",
       "      <th>longitude</th>\n",
       "      <th>coordenadas</th>\n",
       "      <th>Point</th>\n",
       "      <th>geometry</th>\n",
       "      <th>geometry2</th>\n",
       "    </tr>\n",
       "  </thead>\n",
       "  <tbody>\n",
       "    <tr>\n",
       "      <th>0</th>\n",
       "      <td>0</td>\n",
       "      <td>0</td>\n",
       "      <td>1949-10-10</td>\n",
       "      <td>san marcos</td>\n",
       "      <td>tx</td>\n",
       "      <td>us</td>\n",
       "      <td>cylinder</td>\n",
       "      <td>2700</td>\n",
       "      <td>45 minutes</td>\n",
       "      <td>This event took place in early fall around 194...</td>\n",
       "      <td>4/27/2004</td>\n",
       "      <td>29.883056</td>\n",
       "      <td>-97.941111</td>\n",
       "      <td>[-97.9411111, 29.8830556]</td>\n",
       "      <td>{'type': 'Point', 'coordinates': [-97.9411111,...</td>\n",
       "      <td>POINT (-97.94111 29.88306)</td>\n",
       "      <td>{'type': 'Point', 'coordinates': (-97.9411111,...</td>\n",
       "    </tr>\n",
       "    <tr>\n",
       "      <th>1</th>\n",
       "      <td>1</td>\n",
       "      <td>3</td>\n",
       "      <td>1956-10-10</td>\n",
       "      <td>edna</td>\n",
       "      <td>tx</td>\n",
       "      <td>us</td>\n",
       "      <td>circle</td>\n",
       "      <td>20</td>\n",
       "      <td>1/2 hour</td>\n",
       "      <td>My older brother and twin sister were leaving ...</td>\n",
       "      <td>1/17/2004</td>\n",
       "      <td>28.978333</td>\n",
       "      <td>-96.645833</td>\n",
       "      <td>[-96.6458333, 28.9783333]</td>\n",
       "      <td>{'type': 'Point', 'coordinates': [-96.6458333,...</td>\n",
       "      <td>POINT (-96.64583 28.97833)</td>\n",
       "      <td>{'type': 'Point', 'coordinates': (-96.6458333,...</td>\n",
       "    </tr>\n",
       "    <tr>\n",
       "      <th>2</th>\n",
       "      <td>2</td>\n",
       "      <td>4</td>\n",
       "      <td>1960-10-10</td>\n",
       "      <td>kaneohe</td>\n",
       "      <td>hi</td>\n",
       "      <td>us</td>\n",
       "      <td>light</td>\n",
       "      <td>900</td>\n",
       "      <td>15 minutes</td>\n",
       "      <td>AS a Marine 1st Lt. flying an FJ4B fighter/att...</td>\n",
       "      <td>1/22/2004</td>\n",
       "      <td>21.418056</td>\n",
       "      <td>-157.803611</td>\n",
       "      <td>[-157.8036111, 21.4180556]</td>\n",
       "      <td>{'type': 'Point', 'coordinates': [-157.8036111...</td>\n",
       "      <td>POINT (-157.80361 21.41806)</td>\n",
       "      <td>{'type': 'Point', 'coordinates': (-157.8036111...</td>\n",
       "    </tr>\n",
       "    <tr>\n",
       "      <th>3</th>\n",
       "      <td>3</td>\n",
       "      <td>5</td>\n",
       "      <td>1961-10-10</td>\n",
       "      <td>bristol</td>\n",
       "      <td>tn</td>\n",
       "      <td>us</td>\n",
       "      <td>sphere</td>\n",
       "      <td>300</td>\n",
       "      <td>5 minutes</td>\n",
       "      <td>My father is now 89 my brother 52 the girl wit...</td>\n",
       "      <td>4/27/2007</td>\n",
       "      <td>36.595000</td>\n",
       "      <td>-82.188889</td>\n",
       "      <td>[-82.1888889, 36.595]</td>\n",
       "      <td>{'type': 'Point', 'coordinates': [-82.1888889,...</td>\n",
       "      <td>POINT (-82.18889 36.59500)</td>\n",
       "      <td>{'type': 'Point', 'coordinates': (-82.1888889,...</td>\n",
       "    </tr>\n",
       "    <tr>\n",
       "      <th>4</th>\n",
       "      <td>4</td>\n",
       "      <td>7</td>\n",
       "      <td>1965-10-10</td>\n",
       "      <td>norwalk</td>\n",
       "      <td>ct</td>\n",
       "      <td>us</td>\n",
       "      <td>disk</td>\n",
       "      <td>1200</td>\n",
       "      <td>20 minutes</td>\n",
       "      <td>A bright orange color changing to reddish colo...</td>\n",
       "      <td>10/2/1999</td>\n",
       "      <td>41.117500</td>\n",
       "      <td>-73.408333</td>\n",
       "      <td>[-73.4083333, 41.1175]</td>\n",
       "      <td>{'type': 'Point', 'coordinates': [-73.4083333,...</td>\n",
       "      <td>POINT (-73.40833 41.11750)</td>\n",
       "      <td>{'type': 'Point', 'coordinates': (-73.4083333,...</td>\n",
       "    </tr>\n",
       "  </tbody>\n",
       "</table>\n",
       "</div>"
      ],
      "text/plain": [
       "   level_0  index   datetime        city state country     shape  \\\n",
       "0        0      0 1949-10-10  san marcos    tx      us  cylinder   \n",
       "1        1      3 1956-10-10        edna    tx      us    circle   \n",
       "2        2      4 1960-10-10     kaneohe    hi      us     light   \n",
       "3        3      5 1961-10-10     bristol    tn      us    sphere   \n",
       "4        4      7 1965-10-10     norwalk    ct      us      disk   \n",
       "\n",
       "  duration (seconds) duration (hours/min)  \\\n",
       "0               2700           45 minutes   \n",
       "1                 20             1/2 hour   \n",
       "2                900           15 minutes   \n",
       "3                300            5 minutes   \n",
       "4               1200           20 minutes   \n",
       "\n",
       "                                            comments date posted   latitude  \\\n",
       "0  This event took place in early fall around 194...   4/27/2004  29.883056   \n",
       "1  My older brother and twin sister were leaving ...   1/17/2004  28.978333   \n",
       "2  AS a Marine 1st Lt. flying an FJ4B fighter/att...   1/22/2004  21.418056   \n",
       "3  My father is now 89 my brother 52 the girl wit...   4/27/2007  36.595000   \n",
       "4  A bright orange color changing to reddish colo...   10/2/1999  41.117500   \n",
       "\n",
       "    longitude                 coordenadas  \\\n",
       "0  -97.941111   [-97.9411111, 29.8830556]   \n",
       "1  -96.645833   [-96.6458333, 28.9783333]   \n",
       "2 -157.803611  [-157.8036111, 21.4180556]   \n",
       "3  -82.188889       [-82.1888889, 36.595]   \n",
       "4  -73.408333      [-73.4083333, 41.1175]   \n",
       "\n",
       "                                               Point  \\\n",
       "0  {'type': 'Point', 'coordinates': [-97.9411111,...   \n",
       "1  {'type': 'Point', 'coordinates': [-96.6458333,...   \n",
       "2  {'type': 'Point', 'coordinates': [-157.8036111...   \n",
       "3  {'type': 'Point', 'coordinates': [-82.1888889,...   \n",
       "4  {'type': 'Point', 'coordinates': [-73.4083333,...   \n",
       "\n",
       "                      geometry  \\\n",
       "0   POINT (-97.94111 29.88306)   \n",
       "1   POINT (-96.64583 28.97833)   \n",
       "2  POINT (-157.80361 21.41806)   \n",
       "3   POINT (-82.18889 36.59500)   \n",
       "4   POINT (-73.40833 41.11750)   \n",
       "\n",
       "                                           geometry2  \n",
       "0  {'type': 'Point', 'coordinates': (-97.9411111,...  \n",
       "1  {'type': 'Point', 'coordinates': (-96.6458333,...  \n",
       "2  {'type': 'Point', 'coordinates': (-157.8036111...  \n",
       "3  {'type': 'Point', 'coordinates': (-82.1888889,...  \n",
       "4  {'type': 'Point', 'coordinates': (-73.4083333,...  "
      ]
     },
     "execution_count": 379,
     "metadata": {},
     "output_type": "execute_result"
    }
   ],
   "source": [
    "ufo_usa.head()"
   ]
  },
  {
   "cell_type": "code",
   "execution_count": 305,
   "id": "1bbb4445",
   "metadata": {},
   "outputs": [],
   "source": [
    "newcolumn = eventsdf['datetime'][34]"
   ]
  },
  {
   "cell_type": "code",
   "execution_count": 329,
   "id": "3e490a81",
   "metadata": {},
   "outputs": [
    {
     "data": {
      "text/plain": [
       "0     False\n",
       "1     False\n",
       "2     False\n",
       "3     False\n",
       "4     False\n",
       "5     False\n",
       "6     False\n",
       "7     False\n",
       "8     False\n",
       "9     False\n",
       "10    False\n",
       "11    False\n",
       "12    False\n",
       "13    False\n",
       "14    False\n",
       "15    False\n",
       "16    False\n",
       "17    False\n",
       "18    False\n",
       "19    False\n",
       "20    False\n",
       "21    False\n",
       "22    False\n",
       "23    False\n",
       "24    False\n",
       "25    False\n",
       "26    False\n",
       "27    False\n",
       "28    False\n",
       "29    False\n",
       "30    False\n",
       "31    False\n",
       "32    False\n",
       "33    False\n",
       "34    False\n",
       "35    False\n",
       "36    False\n",
       "37    False\n",
       "38    False\n",
       "39    False\n",
       "Name: datetime, dtype: bool"
      ]
     },
     "execution_count": 329,
     "metadata": {},
     "output_type": "execute_result"
    }
   ],
   "source": [
    "cond"
   ]
  },
  {
   "cell_type": "code",
   "execution_count": 328,
   "id": "e957af3d",
   "metadata": {
    "scrolled": true
   },
   "outputs": [
    {
     "data": {
      "text/html": [
       "<div>\n",
       "<style scoped>\n",
       "    .dataframe tbody tr th:only-of-type {\n",
       "        vertical-align: middle;\n",
       "    }\n",
       "\n",
       "    .dataframe tbody tr th {\n",
       "        vertical-align: top;\n",
       "    }\n",
       "\n",
       "    .dataframe thead th {\n",
       "        text-align: right;\n",
       "    }\n",
       "</style>\n",
       "<table border=\"1\" class=\"dataframe\">\n",
       "  <thead>\n",
       "    <tr style=\"text-align: right;\">\n",
       "      <th></th>\n",
       "      <th>Event</th>\n",
       "      <th>Summary</th>\n",
       "      <th>Month</th>\n",
       "      <th>Year</th>\n",
       "      <th>Day</th>\n",
       "      <th>datetime</th>\n",
       "    </tr>\n",
       "  </thead>\n",
       "  <tbody>\n",
       "    <tr>\n",
       "      <th>0</th>\n",
       "      <td>Sputnik I</td>\n",
       "      <td>The Soviet Union began the space race by launc...</td>\n",
       "      <td>10</td>\n",
       "      <td>1957</td>\n",
       "      <td>4</td>\n",
       "      <td>1957-10-04</td>\n",
       "    </tr>\n",
       "    <tr>\n",
       "      <th>1</th>\n",
       "      <td>First creature in space</td>\n",
       "      <td>A stray husky-spitz mix named Laika was the fi...</td>\n",
       "      <td>11</td>\n",
       "      <td>1957</td>\n",
       "      <td>3</td>\n",
       "      <td>1957-11-03</td>\n",
       "    </tr>\n",
       "    <tr>\n",
       "      <th>2</th>\n",
       "      <td>US launches first satellite</td>\n",
       "      <td>The United States joined the space race when E...</td>\n",
       "      <td>1</td>\n",
       "      <td>1958</td>\n",
       "      <td>31</td>\n",
       "      <td>1958-01-31</td>\n",
       "    </tr>\n",
       "    <tr>\n",
       "      <th>3</th>\n",
       "      <td>First creatures return from space</td>\n",
       "      <td>Less than two years after Laika perished while...</td>\n",
       "      <td>5</td>\n",
       "      <td>1959</td>\n",
       "      <td>28</td>\n",
       "      <td>1959-05-28</td>\n",
       "    </tr>\n",
       "    <tr>\n",
       "      <th>4</th>\n",
       "      <td>Yuri Gagarin</td>\n",
       "      <td>Soviet cosmonaut Yuri Gagarin became the first...</td>\n",
       "      <td>4</td>\n",
       "      <td>1961</td>\n",
       "      <td>12</td>\n",
       "      <td>1961-04-12</td>\n",
       "    </tr>\n",
       "    <tr>\n",
       "      <th>5</th>\n",
       "      <td>First US man in space</td>\n",
       "      <td>The United States had hoped to be the first na...</td>\n",
       "      <td>5</td>\n",
       "      <td>1961</td>\n",
       "      <td>1</td>\n",
       "      <td>1961-05-01</td>\n",
       "    </tr>\n",
       "    <tr>\n",
       "      <th>6</th>\n",
       "      <td>Kennedy's speech on space exploration</td>\n",
       "      <td>Several weeks after Alan Shepard became the fi...</td>\n",
       "      <td>5</td>\n",
       "      <td>1961</td>\n",
       "      <td>25</td>\n",
       "      <td>1961-05-25</td>\n",
       "    </tr>\n",
       "    <tr>\n",
       "      <th>7</th>\n",
       "      <td>Glenn orbits Earth</td>\n",
       "      <td>Less than a year after Gagarin became the firs...</td>\n",
       "      <td>2</td>\n",
       "      <td>1962</td>\n",
       "      <td>20</td>\n",
       "      <td>1962-02-20</td>\n",
       "    </tr>\n",
       "    <tr>\n",
       "      <th>8</th>\n",
       "      <td>First woman in space</td>\n",
       "      <td>Cosmonaut Valentina Tereshkova is not a househ...</td>\n",
       "      <td>6</td>\n",
       "      <td>1963</td>\n",
       "      <td>16</td>\n",
       "      <td>1963-06-16</td>\n",
       "    </tr>\n",
       "    <tr>\n",
       "      <th>9</th>\n",
       "      <td>First space walk</td>\n",
       "      <td>Russian cosmonaut Alexei Leonov became the fir...</td>\n",
       "      <td>3</td>\n",
       "      <td>1965</td>\n",
       "      <td>25</td>\n",
       "      <td>1965-03-25</td>\n",
       "    </tr>\n",
       "    <tr>\n",
       "      <th>10</th>\n",
       "      <td>First pictures of Mars</td>\n",
       "      <td>The spacecraft Mariner 4 was the first to fly ...</td>\n",
       "      <td>6</td>\n",
       "      <td>1965</td>\n",
       "      <td>14</td>\n",
       "      <td>1965-06-14</td>\n",
       "    </tr>\n",
       "  </tbody>\n",
       "</table>\n",
       "</div>"
      ],
      "text/plain": [
       "                                    Event  \\\n",
       "0                               Sputnik I   \n",
       "1                 First creature in space   \n",
       "2             US launches first satellite   \n",
       "3       First creatures return from space   \n",
       "4                            Yuri Gagarin   \n",
       "5                   First US man in space   \n",
       "6   Kennedy's speech on space exploration   \n",
       "7                      Glenn orbits Earth   \n",
       "8                    First woman in space   \n",
       "9                        First space walk   \n",
       "10                 First pictures of Mars   \n",
       "\n",
       "                                              Summary  Month  Year  Day  \\\n",
       "0   The Soviet Union began the space race by launc...     10  1957    4   \n",
       "1   A stray husky-spitz mix named Laika was the fi...     11  1957    3   \n",
       "2   The United States joined the space race when E...      1  1958   31   \n",
       "3   Less than two years after Laika perished while...      5  1959   28   \n",
       "4   Soviet cosmonaut Yuri Gagarin became the first...      4  1961   12   \n",
       "5   The United States had hoped to be the first na...      5  1961    1   \n",
       "6   Several weeks after Alan Shepard became the fi...      5  1961   25   \n",
       "7   Less than a year after Gagarin became the firs...      2  1962   20   \n",
       "8   Cosmonaut Valentina Tereshkova is not a househ...      6  1963   16   \n",
       "9   Russian cosmonaut Alexei Leonov became the fir...      3  1965   25   \n",
       "10  The spacecraft Mariner 4 was the first to fly ...      6  1965   14   \n",
       "\n",
       "     datetime  \n",
       "0  1957-10-04  \n",
       "1  1957-11-03  \n",
       "2  1958-01-31  \n",
       "3  1959-05-28  \n",
       "4  1961-04-12  \n",
       "5  1961-05-01  \n",
       "6  1961-05-25  \n",
       "7  1962-02-20  \n",
       "8  1963-06-16  \n",
       "9  1965-03-25  \n",
       "10 1965-06-14  "
      ]
     },
     "execution_count": 328,
     "metadata": {},
     "output_type": "execute_result"
    }
   ],
   "source": [
    "df_past"
   ]
  },
  {
   "cell_type": "code",
   "execution_count": 322,
   "id": "c92e48a2",
   "metadata": {},
   "outputs": [
    {
     "name": "stdout",
     "output_type": "stream",
     "text": [
      "1949-10-10 00:00:00\n"
     ]
    },
    {
     "name": "stderr",
     "output_type": "stream",
     "text": [
      "<ipython-input-322-6c7e252200f8>:6: UserWarning: Boolean Series key will be reindexed to match DataFrame index.\n",
      "  df_past = df[cond]\n"
     ]
    },
    {
     "ename": "IndexingError",
     "evalue": "Unalignable boolean Series provided as indexer (index of the boolean Series and of the indexed object do not match).",
     "output_type": "error",
     "traceback": [
      "\u001b[0;31m---------------------------------------------------------------------------\u001b[0m",
      "\u001b[0;31mIndexingError\u001b[0m                             Traceback (most recent call last)",
      "\u001b[0;32m<ipython-input-322-6c7e252200f8>\u001b[0m in \u001b[0;36m<module>\u001b[0;34m\u001b[0m\n\u001b[1;32m      4\u001b[0m     \u001b[0mcond\u001b[0m \u001b[0;34m=\u001b[0m \u001b[0meventsdf\u001b[0m\u001b[0;34m[\u001b[0m\u001b[0;34m'datetime'\u001b[0m\u001b[0;34m]\u001b[0m \u001b[0;34m<\u001b[0m \u001b[0mufo_usa\u001b[0m\u001b[0;34m[\u001b[0m\u001b[0;34m\"datetime\"\u001b[0m\u001b[0;34m]\u001b[0m\u001b[0;34m[\u001b[0m\u001b[0mi\u001b[0m\u001b[0;34m]\u001b[0m\u001b[0;34m\u001b[0m\u001b[0;34m\u001b[0m\u001b[0m\n\u001b[1;32m      5\u001b[0m     \u001b[0;31m# Declara un dataframe para los valores True de cond. Es decir, df_past es un dataframe con todos los events que sucedieron antes de nuestro avistamiento.\u001b[0m\u001b[0;34m\u001b[0m\u001b[0;34m\u001b[0m\u001b[0;34m\u001b[0m\u001b[0m\n\u001b[0;32m----> 6\u001b[0;31m     \u001b[0mdf_past\u001b[0m \u001b[0;34m=\u001b[0m \u001b[0mdf\u001b[0m\u001b[0;34m[\u001b[0m\u001b[0mcond\u001b[0m\u001b[0;34m]\u001b[0m\u001b[0;34m\u001b[0m\u001b[0;34m\u001b[0m\u001b[0m\n\u001b[0m\u001b[1;32m      7\u001b[0m     \u001b[0mprint\u001b[0m \u001b[0;34m(\u001b[0m\u001b[0mdf_past\u001b[0m\u001b[0;34m.\u001b[0m\u001b[0mhead\u001b[0m\u001b[0;34m(\u001b[0m\u001b[0;36m0\u001b[0m\u001b[0;34m)\u001b[0m\u001b[0;34m)\u001b[0m\u001b[0;34m\u001b[0m\u001b[0;34m\u001b[0m\u001b[0m\n\u001b[1;32m      8\u001b[0m     \u001b[0;31m#dfn_past = df_past.sort_values(['datetime'])\\\u001b[0m\u001b[0;34m\u001b[0m\u001b[0;34m\u001b[0m\u001b[0;34m\u001b[0m\u001b[0m\n",
      "\u001b[0;32m~/.local/lib/python3.8/site-packages/pandas/core/frame.py\u001b[0m in \u001b[0;36m__getitem__\u001b[0;34m(self, key)\u001b[0m\n\u001b[1;32m   3447\u001b[0m         \u001b[0;31m# Do we have a (boolean) 1d indexer?\u001b[0m\u001b[0;34m\u001b[0m\u001b[0;34m\u001b[0m\u001b[0;34m\u001b[0m\u001b[0m\n\u001b[1;32m   3448\u001b[0m         \u001b[0;32mif\u001b[0m \u001b[0mcom\u001b[0m\u001b[0;34m.\u001b[0m\u001b[0mis_bool_indexer\u001b[0m\u001b[0;34m(\u001b[0m\u001b[0mkey\u001b[0m\u001b[0;34m)\u001b[0m\u001b[0;34m:\u001b[0m\u001b[0;34m\u001b[0m\u001b[0;34m\u001b[0m\u001b[0m\n\u001b[0;32m-> 3449\u001b[0;31m             \u001b[0;32mreturn\u001b[0m \u001b[0mself\u001b[0m\u001b[0;34m.\u001b[0m\u001b[0m_getitem_bool_array\u001b[0m\u001b[0;34m(\u001b[0m\u001b[0mkey\u001b[0m\u001b[0;34m)\u001b[0m\u001b[0;34m\u001b[0m\u001b[0;34m\u001b[0m\u001b[0m\n\u001b[0m\u001b[1;32m   3450\u001b[0m \u001b[0;34m\u001b[0m\u001b[0m\n\u001b[1;32m   3451\u001b[0m         \u001b[0;31m# We are left with two options: a single key, and a collection of keys,\u001b[0m\u001b[0;34m\u001b[0m\u001b[0;34m\u001b[0m\u001b[0;34m\u001b[0m\u001b[0m\n",
      "\u001b[0;32m~/.local/lib/python3.8/site-packages/pandas/core/frame.py\u001b[0m in \u001b[0;36m_getitem_bool_array\u001b[0;34m(self, key)\u001b[0m\n\u001b[1;32m   3500\u001b[0m         \u001b[0;31m# check_bool_indexer will throw exception if Series key cannot\u001b[0m\u001b[0;34m\u001b[0m\u001b[0;34m\u001b[0m\u001b[0;34m\u001b[0m\u001b[0m\n\u001b[1;32m   3501\u001b[0m         \u001b[0;31m# be reindexed to match DataFrame rows\u001b[0m\u001b[0;34m\u001b[0m\u001b[0;34m\u001b[0m\u001b[0;34m\u001b[0m\u001b[0m\n\u001b[0;32m-> 3502\u001b[0;31m         \u001b[0mkey\u001b[0m \u001b[0;34m=\u001b[0m \u001b[0mcheck_bool_indexer\u001b[0m\u001b[0;34m(\u001b[0m\u001b[0mself\u001b[0m\u001b[0;34m.\u001b[0m\u001b[0mindex\u001b[0m\u001b[0;34m,\u001b[0m \u001b[0mkey\u001b[0m\u001b[0;34m)\u001b[0m\u001b[0;34m\u001b[0m\u001b[0;34m\u001b[0m\u001b[0m\n\u001b[0m\u001b[1;32m   3503\u001b[0m         \u001b[0mindexer\u001b[0m \u001b[0;34m=\u001b[0m \u001b[0mkey\u001b[0m\u001b[0;34m.\u001b[0m\u001b[0mnonzero\u001b[0m\u001b[0;34m(\u001b[0m\u001b[0;34m)\u001b[0m\u001b[0;34m[\u001b[0m\u001b[0;36m0\u001b[0m\u001b[0;34m]\u001b[0m\u001b[0;34m\u001b[0m\u001b[0;34m\u001b[0m\u001b[0m\n\u001b[1;32m   3504\u001b[0m         \u001b[0;32mreturn\u001b[0m \u001b[0mself\u001b[0m\u001b[0;34m.\u001b[0m\u001b[0m_take_with_is_copy\u001b[0m\u001b[0;34m(\u001b[0m\u001b[0mindexer\u001b[0m\u001b[0;34m,\u001b[0m \u001b[0maxis\u001b[0m\u001b[0;34m=\u001b[0m\u001b[0;36m0\u001b[0m\u001b[0;34m)\u001b[0m\u001b[0;34m\u001b[0m\u001b[0;34m\u001b[0m\u001b[0m\n",
      "\u001b[0;32m~/.local/lib/python3.8/site-packages/pandas/core/indexing.py\u001b[0m in \u001b[0;36mcheck_bool_indexer\u001b[0;34m(index, key)\u001b[0m\n\u001b[1;32m   2386\u001b[0m         \u001b[0mmask\u001b[0m \u001b[0;34m=\u001b[0m \u001b[0misna\u001b[0m\u001b[0;34m(\u001b[0m\u001b[0mresult\u001b[0m\u001b[0;34m.\u001b[0m\u001b[0m_values\u001b[0m\u001b[0;34m)\u001b[0m\u001b[0;34m\u001b[0m\u001b[0;34m\u001b[0m\u001b[0m\n\u001b[1;32m   2387\u001b[0m         \u001b[0;32mif\u001b[0m \u001b[0mmask\u001b[0m\u001b[0;34m.\u001b[0m\u001b[0many\u001b[0m\u001b[0;34m(\u001b[0m\u001b[0;34m)\u001b[0m\u001b[0;34m:\u001b[0m\u001b[0;34m\u001b[0m\u001b[0;34m\u001b[0m\u001b[0m\n\u001b[0;32m-> 2388\u001b[0;31m             raise IndexingError(\n\u001b[0m\u001b[1;32m   2389\u001b[0m                 \u001b[0;34m\"Unalignable boolean Series provided as \"\u001b[0m\u001b[0;34m\u001b[0m\u001b[0;34m\u001b[0m\u001b[0m\n\u001b[1;32m   2390\u001b[0m                 \u001b[0;34m\"indexer (index of the boolean Series and of \"\u001b[0m\u001b[0;34m\u001b[0m\u001b[0;34m\u001b[0m\u001b[0m\n",
      "\u001b[0;31mIndexingError\u001b[0m: Unalignable boolean Series provided as indexer (index of the boolean Series and of the indexed object do not match)."
     ]
    }
   ],
   "source": [
    "for i in range(len(ufo_usa[\"datetime\"])):\n",
    "    df_past = pd.DataFrame(columns = [\"Event\",\"Summary\",\"Month\",\"Year\",\"Day\",\"datetime\"])\n",
    "    #Buscamos las filas de \"events\" que tengan una fecha previa a nuestro avistamiento\n",
    "    print (ufo_usa[\"datetime\"][i])\n",
    "    cond = eventsdf['datetime'] < ufo_usa[\"datetime\"][i]\n",
    "    # Declara un dataframe para los valores True de cond. Es decir, df_past es un dataframe con todos los events que sucedieron antes de nuestro avistamiento.\n",
    "    df_past = pd.concat([df_past,df[cond]\n",
    "                         #oncatdf[cond]\n",
    "    print (df_past.head(0))\n",
    "    clients = pd.concat([clients, new_clients])\n",
    "    #dfn_past = df_past.sort_values(['datetime'])\\\n",
    "    #          .drop_duplicates(ufo_usa[\"datetime\"], keep='last')"
   ]
  },
  {
   "cell_type": "code",
   "execution_count": null,
   "id": "22400c63",
   "metadata": {},
   "outputs": [],
   "source": [
    "# split past events and future events\n",
    "cond = eventsdf['datetime'] < ufo_usa[\"datetime\"]\n",
    "df_furture = df[cond]\n",
    "df_past = df[~cond]\n",
    "\n",
    "# keep the nearest furture\n",
    "dfn_furture = df_furture.sort_values(['City', 'Venue', 'EVENT_START'])\\\n",
    "              .drop_duplicates(['City', 'Venue'], keep='first')"
   ]
  },
  {
   "cell_type": "code",
   "execution_count": null,
   "id": "9dfd5fc1",
   "metadata": {},
   "outputs": [],
   "source": []
  },
  {
   "cell_type": "code",
   "execution_count": null,
   "id": "83e5fd37",
   "metadata": {},
   "outputs": [],
   "source": []
  },
  {
   "cell_type": "code",
   "execution_count": null,
   "id": "b6a62fc6",
   "metadata": {},
   "outputs": [],
   "source": []
  },
  {
   "cell_type": "code",
   "execution_count": null,
   "id": "05c1f728",
   "metadata": {},
   "outputs": [],
   "source": []
  },
  {
   "cell_type": "code",
   "execution_count": 21,
   "id": "2feb8511",
   "metadata": {},
   "outputs": [
    {
     "name": "stderr",
     "output_type": "stream",
     "text": [
      "/home/luisserrano/.local/lib/python3.8/site-packages/pandas/core/frame.py:5039: SettingWithCopyWarning: \n",
      "A value is trying to be set on a copy of a slice from a DataFrame\n",
      "\n",
      "See the caveats in the documentation: https://pandas.pydata.org/pandas-docs/stable/user_guide/indexing.html#returning-a-view-versus-a-copy\n",
      "  return super().rename(\n"
     ]
    }
   ],
   "source": [
    "#Corrijo el nombre de la columna\n",
    "df2.rename(columns={\"longitude \":\"longitude\"},inplace=True)"
   ]
  },
  {
   "cell_type": "code",
   "execution_count": 22,
   "id": "e7d2831c",
   "metadata": {
    "scrolled": true
   },
   "outputs": [],
   "source": [
    "coordinates = list(zip(df['latitude'], df['longitude']))"
   ]
  },
  {
   "cell_type": "code",
   "execution_count": 23,
   "id": "dc769d58",
   "metadata": {
    "scrolled": true
   },
   "outputs": [
    {
     "data": {
      "text/plain": [
       "80332"
      ]
     },
     "execution_count": 23,
     "metadata": {},
     "output_type": "execute_result"
    }
   ],
   "source": [
    "len(coordinates)"
   ]
  },
  {
   "cell_type": "code",
   "execution_count": 78,
   "id": "8562283b",
   "metadata": {},
   "outputs": [
    {
     "name": "stdout",
     "output_type": "stream",
     "text": [
      "Collecting reverse_geocoder\n",
      "  Downloading reverse_geocoder-1.5.1.tar.gz (2.2 MB)\n",
      "\u001b[K     |████████████████████████████████| 2.2 MB 3.3 MB/s eta 0:00:013 MB/s eta 0:00:01     |██████████████████████████████  | 2.1 MB 3.3 MB/s eta 0:00:01\n",
      "\u001b[?25hRequirement already satisfied: numpy>=1.11.0 in /home/luisserrano/.local/lib/python3.8/site-packages (from reverse_geocoder) (1.21.3)\n",
      "Requirement already satisfied: scipy>=0.17.1 in /home/luisserrano/.local/lib/python3.8/site-packages (from reverse_geocoder) (1.7.1)\n",
      "Building wheels for collected packages: reverse-geocoder\n",
      "  Building wheel for reverse-geocoder (setup.py) ... \u001b[?25ldone\n",
      "\u001b[?25h  Created wheel for reverse-geocoder: filename=reverse_geocoder-1.5.1-py3-none-any.whl size=2268088 sha256=c6c07d79f7c0d4c382ababf18bd08d91dbf7ffb5952e56b085742ff8155245b9\n",
      "  Stored in directory: /home/luisserrano/.cache/pip/wheels/65/42/5e/223fcd5dc869ff98d5ee6b19e236f82828e4e3c039328ebe20\n",
      "Successfully built reverse-geocoder\n",
      "Installing collected packages: reverse-geocoder\n",
      "Successfully installed reverse-geocoder-1.5.1\n"
     ]
    }
   ],
   "source": [
    "!pip install reverse_geocoder"
   ]
  },
  {
   "cell_type": "code",
   "execution_count": 24,
   "id": "25b3d289",
   "metadata": {},
   "outputs": [],
   "source": [
    "import reverse_geocoder as rg"
   ]
  },
  {
   "cell_type": "code",
   "execution_count": 25,
   "id": "734ec921",
   "metadata": {},
   "outputs": [
    {
     "name": "stdout",
     "output_type": "stream",
     "text": [
      "Loading formatted geocoded file...\n"
     ]
    }
   ],
   "source": [
    "results = rg.search(coordinates[0:65536])"
   ]
  },
  {
   "cell_type": "code",
   "execution_count": 29,
   "id": "9937cd93",
   "metadata": {},
   "outputs": [
    {
     "data": {
      "text/plain": [
       "65536"
      ]
     },
     "execution_count": 29,
     "metadata": {},
     "output_type": "execute_result"
    }
   ],
   "source": [
    "len(results)"
   ]
  },
  {
   "cell_type": "code",
   "execution_count": 32,
   "id": "e5dde866",
   "metadata": {},
   "outputs": [
    {
     "data": {
      "text/plain": [
       "{'lat': '45.40135',\n",
       " 'lon': '-91.84906',\n",
       " 'name': 'Barron',\n",
       " 'admin1': 'Wisconsin',\n",
       " 'admin2': 'Barron County',\n",
       " 'cc': 'US'}"
      ]
     },
     "execution_count": 32,
     "metadata": {},
     "output_type": "execute_result"
    }
   ],
   "source": [
    "results[65535]"
   ]
  },
  {
   "cell_type": "code",
   "execution_count": 45,
   "id": "fadd755b",
   "metadata": {},
   "outputs": [
    {
     "data": {
      "text/plain": [
       "datetime                                                  9/15/2012 21:00\n",
       "city                                                              chester\n",
       "state                                                                  ct\n",
       "country                                                                us\n",
       "shape                                                              circle\n",
       "duration (seconds)                                                  600.0\n",
       "duration (hours/min)                                      5 to 10 minutes\n",
       "comments                Ten to twelve orange circles flying in formati...\n",
       "date posted                                                     9/24/2012\n",
       "latitude                                                              NaN\n",
       "longitude                                                      -72.451389\n",
       "Name: 75000, dtype: object"
      ]
     },
     "execution_count": 45,
     "metadata": {},
     "output_type": "execute_result"
    }
   ],
   "source": [
    "df.loc[75000]"
   ]
  },
  {
   "cell_type": "code",
   "execution_count": 26,
   "id": "f9a90bc3",
   "metadata": {},
   "outputs": [
    {
     "data": {
      "text/plain": [
       "{'lat': '45.40135',\n",
       " 'lon': '-91.84906',\n",
       " 'name': 'Barron',\n",
       " 'admin1': 'Wisconsin',\n",
       " 'admin2': 'Barron County',\n",
       " 'cc': 'US'}"
      ]
     },
     "execution_count": 26,
     "metadata": {},
     "output_type": "execute_result"
    }
   ],
   "source": [
    "results[-1]"
   ]
  },
  {
   "cell_type": "code",
   "execution_count": null,
   "id": "1e313558",
   "metadata": {},
   "outputs": [
    {
     "name": "stdout",
     "output_type": "stream",
     "text": [
      "Loading formatted geocoded file...\n"
     ]
    }
   ],
   "source": [
    "listita = []\n",
    "for i in range(len(coordinates)):\n",
    "    try:\n",
    "        listita.append(rg.search(coordinates[i]))    \n",
    "    except:\n",
    "        listita.append(\"No\")"
   ]
  },
  {
   "cell_type": "code",
   "execution_count": 3,
   "id": "1e3077fa",
   "metadata": {},
   "outputs": [
    {
     "ename": "NameError",
     "evalue": "name 'results' is not defined",
     "output_type": "error",
     "traceback": [
      "\u001b[0;31m---------------------------------------------------------------------------\u001b[0m",
      "\u001b[0;31mNameError\u001b[0m                                 Traceback (most recent call last)",
      "\u001b[0;32m<ipython-input-3-57914fae8c82>\u001b[0m in \u001b[0;36m<module>\u001b[0;34m\u001b[0m\n\u001b[0;32m----> 1\u001b[0;31m \u001b[0mresults_df\u001b[0m \u001b[0;34m=\u001b[0m \u001b[0mpd\u001b[0m\u001b[0;34m.\u001b[0m\u001b[0mDataFrame\u001b[0m\u001b[0;34m(\u001b[0m\u001b[0mresults\u001b[0m\u001b[0;34m)\u001b[0m\u001b[0;34m\u001b[0m\u001b[0;34m\u001b[0m\u001b[0m\n\u001b[0m",
      "\u001b[0;31mNameError\u001b[0m: name 'results' is not defined"
     ]
    }
   ],
   "source": [
    "results_df = pd.DataFrame(results)"
   ]
  },
  {
   "cell_type": "code",
   "execution_count": null,
   "id": "1af10e29",
   "metadata": {},
   "outputs": [],
   "source": [
    "listita"
   ]
  }
 ],
 "metadata": {
  "kernelspec": {
   "display_name": "Python 3",
   "language": "python",
   "name": "python3"
  },
  "language_info": {
   "codemirror_mode": {
    "name": "ipython",
    "version": 3
   },
   "file_extension": ".py",
   "mimetype": "text/x-python",
   "name": "python",
   "nbconvert_exporter": "python",
   "pygments_lexer": "ipython3",
   "version": "3.8.8"
  }
 },
 "nbformat": 4,
 "nbformat_minor": 5
}
