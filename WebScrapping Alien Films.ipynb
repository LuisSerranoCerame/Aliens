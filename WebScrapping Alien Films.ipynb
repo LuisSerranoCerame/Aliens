{
 "cells": [
  {
   "cell_type": "code",
   "execution_count": 1,
   "id": "abf84312",
   "metadata": {},
   "outputs": [],
   "source": [
    "from selenium import webdriver\n",
    "from selenium.webdriver.chrome.options import Options\n",
    "import time\n",
    "import pandas as pd\n",
    "from selenium.webdriver.support.ui import Select\n",
    "from webdriver_manager.chrome import ChromeDriverManager\n",
    "from selenium.webdriver.chrome.service import Service\n",
    "from webdriver_manager.chrome import ChromeDriverManager\n",
    "from selenium.webdriver.common.by import By"
   ]
  },
  {
   "cell_type": "code",
   "execution_count": 2,
   "id": "6a522b40",
   "metadata": {},
   "outputs": [],
   "source": [
    "opciones=Options()\n",
    "opciones.add_experimental_option('excludeSwitches', ['enable-automation'])\n",
    "opciones.add_experimental_option('useAutomationExtension', False)\n",
    "opciones.headless=False    # si True, no aperece la ventana (headless=no visible)\n",
    "opciones.add_argument('--start-maximized')         # comienza maximizado\n",
    "#opciones.add_argument('user-data-dir=selenium')    # mantiene las cookies\n",
    "#opciones.add_extension('driver_folder/adblock.crx')       # adblocker\n",
    "opciones.add_argument('--incognito')              # incognito"
   ]
  },
  {
   "cell_type": "code",
   "execution_count": 39,
   "id": "dc439a5d",
   "metadata": {},
   "outputs": [
    {
     "name": "stderr",
     "output_type": "stream",
     "text": [
      "<ipython-input-39-732122dab3d3>:6: DeprecationWarning: executable_path has been deprecated, please pass in a Service object\n",
      "  driver = webdriver.Chrome(driver, options = opciones)\n",
      "<ipython-input-39-732122dab3d3>:10: DeprecationWarning: find_element_by_* commands are deprecated. Please use find_element() instead\n",
      "  title.append(driver.find_element_by_xpath(f'//*[@id=\"content\"]/table/tbody/tr[{i}]/td[1]').text)\n",
      "<ipython-input-39-732122dab3d3>:11: DeprecationWarning: find_element_by_* commands are deprecated. Please use find_element() instead\n",
      "  year.append(driver.find_element_by_xpath(f'//*[@id=\"content\"]/table/tbody/tr[{i}]/td[2]').text)\n"
     ]
    },
    {
     "data": {
      "text/plain": [
       "'\\n//*[@id=\"content\"]/table/tbody/tr[2]/td[2]\\n//*[@id=\"content\"]/table/tbody/tr[2]/td[1]/i/a\\n//*[@id=\"content\"]/table/tbody/tr[2]/td[1]/i/a\\n/html/body/div[4]/div[2]/div[4]/div[2]/div/div/div[10]/table/tbody/tr[2]/td[1]/i/a\\nid = []\\ndate = []\\nplace = []\\nstate = []\\nshape = []\\nduration = []\\nsummary = []\\ndriver = \"./chromedriver.exe\"\\ndriver = webdriver.Chrome(driver, options = opciones)\\ndriver.get(\"http://www.nuforc.org/webreports/ndxl.html\")\\ndate = []\\nplace1 = []\\n\\nfor i in range(1,10):\\n    #date.append(driver.find_element_by_xpath(f\\'/html/body/p/table/tbody/tr[{i}]/td[1]/font/a\\').text)\\n    \\n    #place.append(driver.find_element_by_xpath(f\\'/html/body/font[2]/p/font/table/tbody/tr[{i}]/td[2]/font\\').text)\\n    #place.append(driver.find_element_by_xpath(f\\'/html/body/p/table/tbody/tr[1]/td[2]\\').text)\\n    \\n    #/html/body/p/table/tbody/tr[1]/td[2]/font\\n    #/html/body/p/table/tbody/tr[1]/td[2]/font\\n    #/html/body/p/table/tbody/tr[1]/td[2]/font\\n    #/html/body/p/table/tbody/tr[1]/td[2]\\n    #state.append(driver.find_elements_by_xpath(f\"/html/body/p/table/tbody/tr[{i}]/td[3]/font\").text)\\n    #shape.append(driver.find_elements_by_xpath(f\"/html/body/p/table/tbody/tr[{i}]/td[4]/font\").text)\\n    #duration.append(driver.find_elements_by_xpath(f\"/html/body/p/table/tbody/tr[{i}]/td[5]/font\").text)                                                   \\n    summary.append(driver.find_elements_by_xpath(f\"/html/body/p/table/tbody/tr[{i}]/td[6]/font/text()\"))\\n    id.append(i+1)\\n    '"
      ]
     },
     "execution_count": 39,
     "metadata": {},
     "output_type": "execute_result"
    }
   ],
   "source": [
    "id = []\n",
    "title = []\n",
    "year = []\n",
    "\n",
    "driver = \"./chromedriver.exe\"\n",
    "driver = webdriver.Chrome(driver, options = opciones)\n",
    "driver.get(\"https://wiki2.org/en/List_of_films_featuring_extraterrestrials\")\n",
    "\n",
    "for i in range(2,639):\n",
    "    title.append(driver.find_element_by_xpath(f'//*[@id=\"content\"]/table/tbody/tr[{i}]/td[1]').text)\n",
    "    year.append(driver.find_element_by_xpath(f'//*[@id=\"content\"]/table/tbody/tr[{i}]/td[2]').text)\n",
    "    id.append(i-1)\n",
    "'''\n",
    "for i in range(1,638):\n",
    "    title.append(driver.find_elements_by_xpath(f'/html/body/div[4]/div[2]/div[4]/div[2]/div/div/div[10]/table/tbody/tr[{i}]/td[1]/i')[0].text)  \n",
    "    #year.append(driver.find_elements_by_xpath(f'/html/body/div[4]/div[2]/div[4]/div[2]/div/div/div[10]/table/tbody/tr[{i}]/td[2]').text)\n",
    "    id.append(i)\n",
    "'''\n",
    "'''\n",
    "//*[@id=\"content\"]/table/tbody/tr[2]/td[2]\n",
    "//*[@id=\"content\"]/table/tbody/tr[2]/td[1]/i/a\n",
    "//*[@id=\"content\"]/table/tbody/tr[2]/td[1]/i/a\n",
    "/html/body/div[4]/div[2]/div[4]/div[2]/div/div/div[10]/table/tbody/tr[2]/td[1]/i/a\n",
    "id = []\n",
    "date = []\n",
    "place = []\n",
    "state = []\n",
    "shape = []\n",
    "duration = []\n",
    "summary = []\n",
    "driver = \"./chromedriver.exe\"\n",
    "driver = webdriver.Chrome(driver, options = opciones)\n",
    "driver.get(\"http://www.nuforc.org/webreports/ndxl.html\")\n",
    "date = []\n",
    "place1 = []\n",
    "\n",
    "for i in range(1,10):\n",
    "    #date.append(driver.find_element_by_xpath(f'/html/body/p/table/tbody/tr[{i}]/td[1]/font/a').text)\n",
    "    \n",
    "    #place.append(driver.find_element_by_xpath(f'/html/body/font[2]/p/font/table/tbody/tr[{i}]/td[2]/font').text)\n",
    "    #place.append(driver.find_element_by_xpath(f'/html/body/p/table/tbody/tr[1]/td[2]').text)\n",
    "    \n",
    "    #/html/body/p/table/tbody/tr[1]/td[2]/font\n",
    "    #/html/body/p/table/tbody/tr[1]/td[2]/font\n",
    "    #/html/body/p/table/tbody/tr[1]/td[2]/font\n",
    "    #/html/body/p/table/tbody/tr[1]/td[2]\n",
    "    #state.append(driver.find_elements_by_xpath(f\"/html/body/p/table/tbody/tr[{i}]/td[3]/font\").text)\n",
    "    #shape.append(driver.find_elements_by_xpath(f\"/html/body/p/table/tbody/tr[{i}]/td[4]/font\").text)\n",
    "    #duration.append(driver.find_elements_by_xpath(f\"/html/body/p/table/tbody/tr[{i}]/td[5]/font\").text)                                                   \n",
    "    summary.append(driver.find_elements_by_xpath(f\"/html/body/p/table/tbody/tr[{i}]/td[6]/font/text()\"))\n",
    "    id.append(i+1)\n",
    "    '''"
   ]
  },
  {
   "cell_type": "code",
   "execution_count": 55,
   "id": "70b5e36d",
   "metadata": {},
   "outputs": [
    {
     "data": {
      "text/plain": [
       "637"
      ]
     },
     "execution_count": 55,
     "metadata": {},
     "output_type": "execute_result"
    }
   ],
   "source": [
    "len(year)"
   ]
  },
  {
   "cell_type": "code",
   "execution_count": 44,
   "id": "3c2c38e8",
   "metadata": {},
   "outputs": [
    {
     "ename": "SyntaxError",
     "evalue": "unexpected EOF while parsing (<ipython-input-44-738631c2501e>, line 1)",
     "output_type": "error",
     "traceback": [
      "\u001b[0;36m  File \u001b[0;32m\"<ipython-input-44-738631c2501e>\"\u001b[0;36m, line \u001b[0;32m1\u001b[0m\n\u001b[0;31m    alienfilms = list(zip(title,year)\u001b[0m\n\u001b[0m                                     ^\u001b[0m\n\u001b[0;31mSyntaxError\u001b[0m\u001b[0;31m:\u001b[0m unexpected EOF while parsing\n"
     ]
    }
   ],
   "source": [
    "alienfilms = list(zip(title,year)"
   ]
  },
  {
   "cell_type": "code",
   "execution_count": 50,
   "id": "d7c27c0e",
   "metadata": {},
   "outputs": [],
   "source": [
    "alienfilms = pd.DataFrame(list(zip(title,year)), columns = ['Title','Year'])"
   ]
  },
  {
   "cell_type": "code",
   "execution_count": 67,
   "id": "0b5c4e3e",
   "metadata": {},
   "outputs": [],
   "source": [
    "duplicate = alienfilms[alienfilms.duplicated('Year')]"
   ]
  },
  {
   "cell_type": "code",
   "execution_count": 74,
   "id": "288eae08",
   "metadata": {},
   "outputs": [],
   "source": [
    "sorted = duplicate.sort_values(['Year'])"
   ]
  },
  {
   "cell_type": "code",
   "execution_count": 75,
   "id": "7eff5ac3",
   "metadata": {},
   "outputs": [
    {
     "data": {
      "text/html": [
       "<div>\n",
       "<style scoped>\n",
       "    .dataframe tbody tr th:only-of-type {\n",
       "        vertical-align: middle;\n",
       "    }\n",
       "\n",
       "    .dataframe tbody tr th {\n",
       "        vertical-align: top;\n",
       "    }\n",
       "\n",
       "    .dataframe thead th {\n",
       "        text-align: right;\n",
       "    }\n",
       "</style>\n",
       "<table border=\"1\" class=\"dataframe\">\n",
       "  <thead>\n",
       "    <tr style=\"text-align: right;\">\n",
       "      <th></th>\n",
       "      <th>Title</th>\n",
       "      <th>Year</th>\n",
       "    </tr>\n",
       "  </thead>\n",
       "  <tbody>\n",
       "    <tr>\n",
       "      <th>617</th>\n",
       "      <td>When the Man in the Moon Seeks a Wife</td>\n",
       "      <td>1908</td>\n",
       "    </tr>\n",
       "    <tr>\n",
       "      <th>214</th>\n",
       "      <td>Flight to Mars</td>\n",
       "      <td>1950</td>\n",
       "    </tr>\n",
       "    <tr>\n",
       "      <th>216</th>\n",
       "      <td>Flying Disc Man from Mars (serial)</td>\n",
       "      <td>1950</td>\n",
       "    </tr>\n",
       "    <tr>\n",
       "      <th>447</th>\n",
       "      <td>Rocketship X-M</td>\n",
       "      <td>1950</td>\n",
       "    </tr>\n",
       "    <tr>\n",
       "      <th>157</th>\n",
       "      <td>The Day the Earth Stood Still</td>\n",
       "      <td>1951</td>\n",
       "    </tr>\n",
       "    <tr>\n",
       "      <th>...</th>\n",
       "      <td>...</td>\n",
       "      <td>...</td>\n",
       "    </tr>\n",
       "    <tr>\n",
       "      <th>379</th>\n",
       "      <td>New Mutants</td>\n",
       "      <td>2020</td>\n",
       "    </tr>\n",
       "    <tr>\n",
       "      <th>405</th>\n",
       "      <td>Phineas and Ferb the Movie: Candace Against th...</td>\n",
       "      <td>2020</td>\n",
       "    </tr>\n",
       "    <tr>\n",
       "      <th>629</th>\n",
       "      <td>Zack Snyder's Justice League</td>\n",
       "      <td>2021</td>\n",
       "    </tr>\n",
       "    <tr>\n",
       "      <th>593</th>\n",
       "      <td>Venom: Let There Be Carnage</td>\n",
       "      <td>2021</td>\n",
       "    </tr>\n",
       "    <tr>\n",
       "      <th>434</th>\n",
       "      <td>A Quiet Place Part II</td>\n",
       "      <td>2021</td>\n",
       "    </tr>\n",
       "  </tbody>\n",
       "</table>\n",
       "<p>550 rows × 2 columns</p>\n",
       "</div>"
      ],
      "text/plain": [
       "                                                 Title  Year\n",
       "617              When the Man in the Moon Seeks a Wife  1908\n",
       "214                                     Flight to Mars  1950\n",
       "216                 Flying Disc Man from Mars (serial)  1950\n",
       "447                                     Rocketship X-M  1950\n",
       "157                      The Day the Earth Stood Still  1951\n",
       "..                                                 ...   ...\n",
       "379                                        New Mutants  2020\n",
       "405  Phineas and Ferb the Movie: Candace Against th...  2020\n",
       "629                       Zack Snyder's Justice League  2021\n",
       "593                        Venom: Let There Be Carnage  2021\n",
       "434                              A Quiet Place Part II  2021\n",
       "\n",
       "[550 rows x 2 columns]"
      ]
     },
     "execution_count": 75,
     "metadata": {},
     "output_type": "execute_result"
    }
   ],
   "source": [
    "sorted"
   ]
  },
  {
   "cell_type": "code",
   "execution_count": 73,
   "id": "5ec5b17a",
   "metadata": {},
   "outputs": [
    {
     "data": {
      "text/html": [
       "<div>\n",
       "<style scoped>\n",
       "    .dataframe tbody tr th:only-of-type {\n",
       "        vertical-align: middle;\n",
       "    }\n",
       "\n",
       "    .dataframe tbody tr th {\n",
       "        vertical-align: top;\n",
       "    }\n",
       "\n",
       "    .dataframe thead th {\n",
       "        text-align: right;\n",
       "    }\n",
       "</style>\n",
       "<table border=\"1\" class=\"dataframe\">\n",
       "  <thead>\n",
       "    <tr style=\"text-align: right;\">\n",
       "      <th></th>\n",
       "      <th>Title</th>\n",
       "      <th>Year</th>\n",
       "    </tr>\n",
       "  </thead>\n",
       "  <tbody>\n",
       "    <tr>\n",
       "      <th>6</th>\n",
       "      <td>The 5th Wave</td>\n",
       "      <td>2016</td>\n",
       "    </tr>\n",
       "    <tr>\n",
       "      <th>12</th>\n",
       "      <td>The Adventures of Buckaroo Banzai Across the 8...</td>\n",
       "      <td>1984</td>\n",
       "    </tr>\n",
       "    <tr>\n",
       "      <th>24</th>\n",
       "      <td>Alien Apocalypse</td>\n",
       "      <td>2005</td>\n",
       "    </tr>\n",
       "    <tr>\n",
       "      <th>30</th>\n",
       "      <td>Alien Invasion Arizona</td>\n",
       "      <td>2005</td>\n",
       "    </tr>\n",
       "    <tr>\n",
       "      <th>35</th>\n",
       "      <td>Alien Siege</td>\n",
       "      <td>2005</td>\n",
       "    </tr>\n",
       "    <tr>\n",
       "      <th>...</th>\n",
       "      <td>...</td>\n",
       "      <td>...</td>\n",
       "    </tr>\n",
       "    <tr>\n",
       "      <th>631</th>\n",
       "      <td>Zathura: A Space Adventure</td>\n",
       "      <td>2005</td>\n",
       "    </tr>\n",
       "    <tr>\n",
       "      <th>632</th>\n",
       "      <td>Zenon: The Zequel</td>\n",
       "      <td>2001</td>\n",
       "    </tr>\n",
       "    <tr>\n",
       "      <th>634</th>\n",
       "      <td>Zombies of the Stratosphere</td>\n",
       "      <td>1952</td>\n",
       "    </tr>\n",
       "    <tr>\n",
       "      <th>635</th>\n",
       "      <td>Zone Troopers</td>\n",
       "      <td>1985</td>\n",
       "    </tr>\n",
       "    <tr>\n",
       "      <th>636</th>\n",
       "      <td>Zontar, the Thing from Venus</td>\n",
       "      <td>1966</td>\n",
       "    </tr>\n",
       "  </tbody>\n",
       "</table>\n",
       "<p>550 rows × 2 columns</p>\n",
       "</div>"
      ],
      "text/plain": [
       "                                                 Title  Year\n",
       "6                                         The 5th Wave  2016\n",
       "12   The Adventures of Buckaroo Banzai Across the 8...  1984\n",
       "24                                    Alien Apocalypse  2005\n",
       "30                              Alien Invasion Arizona  2005\n",
       "35                                         Alien Siege  2005\n",
       "..                                                 ...   ...\n",
       "631                         Zathura: A Space Adventure  2005\n",
       "632                                  Zenon: The Zequel  2001\n",
       "634                        Zombies of the Stratosphere  1952\n",
       "635                                      Zone Troopers  1985\n",
       "636                       Zontar, the Thing from Venus  1966\n",
       "\n",
       "[550 rows x 2 columns]"
      ]
     },
     "metadata": {},
     "output_type": "display_data"
    }
   ],
   "source": [
    "display(duplicate)"
   ]
  },
  {
   "cell_type": "code",
   "execution_count": 66,
   "id": "4df597e4",
   "metadata": {},
   "outputs": [
    {
     "data": {
      "text/html": [
       "<div>\n",
       "<style scoped>\n",
       "    .dataframe tbody tr th:only-of-type {\n",
       "        vertical-align: middle;\n",
       "    }\n",
       "\n",
       "    .dataframe tbody tr th {\n",
       "        vertical-align: top;\n",
       "    }\n",
       "\n",
       "    .dataframe thead th {\n",
       "        text-align: right;\n",
       "    }\n",
       "</style>\n",
       "<table border=\"1\" class=\"dataframe\">\n",
       "  <thead>\n",
       "    <tr style=\"text-align: right;\">\n",
       "      <th></th>\n",
       "      <th>Title</th>\n",
       "      <th>Year</th>\n",
       "    </tr>\n",
       "  </thead>\n",
       "  <tbody>\n",
       "    <tr>\n",
       "      <th>0</th>\n",
       "      <td>10 Cloverfield Lane</td>\n",
       "      <td>2016</td>\n",
       "    </tr>\n",
       "    <tr>\n",
       "      <th>1</th>\n",
       "      <td>Kalai Arasi</td>\n",
       "      <td>1963</td>\n",
       "    </tr>\n",
       "    <tr>\n",
       "      <th>2</th>\n",
       "      <td>20 Million Miles to Earth</td>\n",
       "      <td>1957</td>\n",
       "    </tr>\n",
       "    <tr>\n",
       "      <th>3</th>\n",
       "      <td>2001: A Space Odyssey</td>\n",
       "      <td>1968</td>\n",
       "    </tr>\n",
       "    <tr>\n",
       "      <th>4</th>\n",
       "      <td>2001: A Space Travesty</td>\n",
       "      <td>2000</td>\n",
       "    </tr>\n",
       "    <tr>\n",
       "      <th>...</th>\n",
       "      <td>...</td>\n",
       "      <td>...</td>\n",
       "    </tr>\n",
       "    <tr>\n",
       "      <th>632</th>\n",
       "      <td>Zenon: The Zequel</td>\n",
       "      <td>2001</td>\n",
       "    </tr>\n",
       "    <tr>\n",
       "      <th>633</th>\n",
       "      <td>Zeta One</td>\n",
       "      <td>1969</td>\n",
       "    </tr>\n",
       "    <tr>\n",
       "      <th>634</th>\n",
       "      <td>Zombies of the Stratosphere</td>\n",
       "      <td>1952</td>\n",
       "    </tr>\n",
       "    <tr>\n",
       "      <th>635</th>\n",
       "      <td>Zone Troopers</td>\n",
       "      <td>1985</td>\n",
       "    </tr>\n",
       "    <tr>\n",
       "      <th>636</th>\n",
       "      <td>Zontar, the Thing from Venus</td>\n",
       "      <td>1966</td>\n",
       "    </tr>\n",
       "  </tbody>\n",
       "</table>\n",
       "<p>637 rows × 2 columns</p>\n",
       "</div>"
      ],
      "text/plain": [
       "                            Title  Year\n",
       "0             10 Cloverfield Lane  2016\n",
       "1                     Kalai Arasi  1963\n",
       "2       20 Million Miles to Earth  1957\n",
       "3           2001: A Space Odyssey  1968\n",
       "4          2001: A Space Travesty  2000\n",
       "..                            ...   ...\n",
       "632             Zenon: The Zequel  2001\n",
       "633                      Zeta One  1969\n",
       "634   Zombies of the Stratosphere  1952\n",
       "635                 Zone Troopers  1985\n",
       "636  Zontar, the Thing from Venus  1966\n",
       "\n",
       "[637 rows x 2 columns]"
      ]
     },
     "execution_count": 66,
     "metadata": {},
     "output_type": "execute_result"
    }
   ],
   "source": [
    "alienfilms"
   ]
  },
  {
   "cell_type": "code",
   "execution_count": 63,
   "id": "56e7f7b2",
   "metadata": {},
   "outputs": [],
   "source": [
    "alienfilms.to_csv(\"F_films.csv\",index=False)"
   ]
  }
 ],
 "metadata": {
  "kernelspec": {
   "display_name": "Python 3",
   "language": "python",
   "name": "python3"
  },
  "language_info": {
   "codemirror_mode": {
    "name": "ipython",
    "version": 3
   },
   "file_extension": ".py",
   "mimetype": "text/x-python",
   "name": "python",
   "nbconvert_exporter": "python",
   "pygments_lexer": "ipython3",
   "version": "3.8.8"
  }
 },
 "nbformat": 4,
 "nbformat_minor": 5
}
