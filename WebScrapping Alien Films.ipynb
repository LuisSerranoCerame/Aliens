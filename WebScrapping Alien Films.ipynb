{
 "cells": [
  {
   "cell_type": "code",
   "execution_count": 1,
   "id": "d5995e0e",
   "metadata": {},
   "outputs": [],
   "source": [
    "from selenium import webdriver\n",
    "from selenium.webdriver.chrome.options import Options\n",
    "import time\n",
    "import pandas as pd\n",
    "from selenium.webdriver.support.ui import Select\n",
    "from webdriver_manager.chrome import ChromeDriverManager\n",
    "from selenium.webdriver.chrome.service import Service\n",
    "from webdriver_manager.chrome import ChromeDriverManager\n",
    "from selenium.webdriver.common.by import By"
   ]
  },
  {
   "cell_type": "code",
   "execution_count": 2,
   "id": "8319e266",
   "metadata": {},
   "outputs": [],
   "source": [
    "opciones=Options()\n",
    "opciones.add_experimental_option('excludeSwitches', ['enable-automation'])\n",
    "opciones.add_experimental_option('useAutomationExtension', False)\n",
    "opciones.headless=False    # si True, no aperece la ventana (headless=no visible)\n",
    "opciones.add_argument('--start-maximized')         # comienza maximizado\n",
    "#opciones.add_argument('user-data-dir=selenium')    # mantiene las cookies\n",
    "#opciones.add_extension('driver_folder/adblock.crx')       # adblocker\n",
    "opciones.add_argument('--incognito')              # incognito"
   ]
  },
  {
   "cell_type": "code",
   "execution_count": 39,
   "id": "57a445b6",
   "metadata": {},
   "outputs": [
    {
     "name": "stderr",
     "output_type": "stream",
     "text": [
      "<ipython-input-39-732122dab3d3>:6: DeprecationWarning: executable_path has been deprecated, please pass in a Service object\n",
      "  driver = webdriver.Chrome(driver, options = opciones)\n",
      "<ipython-input-39-732122dab3d3>:10: DeprecationWarning: find_element_by_* commands are deprecated. Please use find_element() instead\n",
      "  title.append(driver.find_element_by_xpath(f'//*[@id=\"content\"]/table/tbody/tr[{i}]/td[1]').text)\n",
      "<ipython-input-39-732122dab3d3>:11: DeprecationWarning: find_element_by_* commands are deprecated. Please use find_element() instead\n",
      "  year.append(driver.find_element_by_xpath(f'//*[@id=\"content\"]/table/tbody/tr[{i}]/td[2]').text)\n"
     ]
    },
    {
     "data": {
      "text/plain": [
       "'\\n//*[@id=\"content\"]/table/tbody/tr[2]/td[2]\\n//*[@id=\"content\"]/table/tbody/tr[2]/td[1]/i/a\\n//*[@id=\"content\"]/table/tbody/tr[2]/td[1]/i/a\\n/html/body/div[4]/div[2]/div[4]/div[2]/div/div/div[10]/table/tbody/tr[2]/td[1]/i/a\\nid = []\\ndate = []\\nplace = []\\nstate = []\\nshape = []\\nduration = []\\nsummary = []\\ndriver = \"./chromedriver.exe\"\\ndriver = webdriver.Chrome(driver, options = opciones)\\ndriver.get(\"http://www.nuforc.org/webreports/ndxl.html\")\\ndate = []\\nplace1 = []\\n\\nfor i in range(1,10):\\n    #date.append(driver.find_element_by_xpath(f\\'/html/body/p/table/tbody/tr[{i}]/td[1]/font/a\\').text)\\n    \\n    #place.append(driver.find_element_by_xpath(f\\'/html/body/font[2]/p/font/table/tbody/tr[{i}]/td[2]/font\\').text)\\n    #place.append(driver.find_element_by_xpath(f\\'/html/body/p/table/tbody/tr[1]/td[2]\\').text)\\n    \\n    #/html/body/p/table/tbody/tr[1]/td[2]/font\\n    #/html/body/p/table/tbody/tr[1]/td[2]/font\\n    #/html/body/p/table/tbody/tr[1]/td[2]/font\\n    #/html/body/p/table/tbody/tr[1]/td[2]\\n    #state.append(driver.find_elements_by_xpath(f\"/html/body/p/table/tbody/tr[{i}]/td[3]/font\").text)\\n    #shape.append(driver.find_elements_by_xpath(f\"/html/body/p/table/tbody/tr[{i}]/td[4]/font\").text)\\n    #duration.append(driver.find_elements_by_xpath(f\"/html/body/p/table/tbody/tr[{i}]/td[5]/font\").text)                                                   \\n    summary.append(driver.find_elements_by_xpath(f\"/html/body/p/table/tbody/tr[{i}]/td[6]/font/text()\"))\\n    id.append(i+1)\\n    '"
      ]
     },
     "execution_count": 39,
     "metadata": {},
     "output_type": "execute_result"
    }
   ],
   "source": [
    "id = []\n",
    "title = []\n",
    "year = []\n",
    "\n",
    "driver = \"./chromedriver.exe\"\n",
    "driver = webdriver.Chrome(driver, options = opciones)\n",
    "driver.get(\"https://wiki2.org/en/List_of_films_featuring_extraterrestrials\")\n",
    "\n",
    "for i in range(2,639):\n",
    "    title.append(driver.find_element_by_xpath(f'//*[@id=\"content\"]/table/tbody/tr[{i}]/td[1]').text)\n",
    "    year.append(driver.find_element_by_xpath(f'//*[@id=\"content\"]/table/tbody/tr[{i}]/td[2]').text)\n",
    "    id.append(i-1)\n",
    "'''\n",
    "for i in range(1,638):\n",
    "    title.append(driver.find_elements_by_xpath(f'/html/body/div[4]/div[2]/div[4]/div[2]/div/div/div[10]/table/tbody/tr[{i}]/td[1]/i')[0].text)  \n",
    "    #year.append(driver.find_elements_by_xpath(f'/html/body/div[4]/div[2]/div[4]/div[2]/div/div/div[10]/table/tbody/tr[{i}]/td[2]').text)\n",
    "    id.append(i)\n",
    "'''\n",
    "'''\n",
    "//*[@id=\"content\"]/table/tbody/tr[2]/td[2]\n",
    "//*[@id=\"content\"]/table/tbody/tr[2]/td[1]/i/a\n",
    "//*[@id=\"content\"]/table/tbody/tr[2]/td[1]/i/a\n",
    "/html/body/div[4]/div[2]/div[4]/div[2]/div/div/div[10]/table/tbody/tr[2]/td[1]/i/a\n",
    "id = []\n",
    "date = []\n",
    "place = []\n",
    "state = []\n",
    "shape = []\n",
    "duration = []\n",
    "summary = []\n",
    "driver = \"./chromedriver.exe\"\n",
    "driver = webdriver.Chrome(driver, options = opciones)\n",
    "driver.get(\"http://www.nuforc.org/webreports/ndxl.html\")\n",
    "date = []\n",
    "place1 = []\n",
    "\n",
    "for i in range(1,10):\n",
    "    #date.append(driver.find_element_by_xpath(f'/html/body/p/table/tbody/tr[{i}]/td[1]/font/a').text)\n",
    "    \n",
    "    #place.append(driver.find_element_by_xpath(f'/html/body/font[2]/p/font/table/tbody/tr[{i}]/td[2]/font').text)\n",
    "    #place.append(driver.find_element_by_xpath(f'/html/body/p/table/tbody/tr[1]/td[2]').text)\n",
    "    \n",
    "    #/html/body/p/table/tbody/tr[1]/td[2]/font\n",
    "    #/html/body/p/table/tbody/tr[1]/td[2]/font\n",
    "    #/html/body/p/table/tbody/tr[1]/td[2]/font\n",
    "    #/html/body/p/table/tbody/tr[1]/td[2]\n",
    "    #state.append(driver.find_elements_by_xpath(f\"/html/body/p/table/tbody/tr[{i}]/td[3]/font\").text)\n",
    "    #shape.append(driver.find_elements_by_xpath(f\"/html/body/p/table/tbody/tr[{i}]/td[4]/font\").text)\n",
    "    #duration.append(driver.find_elements_by_xpath(f\"/html/body/p/table/tbody/tr[{i}]/td[5]/font\").text)                                                   \n",
    "    summary.append(driver.find_elements_by_xpath(f\"/html/body/p/table/tbody/tr[{i}]/td[6]/font/text()\"))\n",
    "    id.append(i+1)\n",
    "    '''"
   ]
  },
  {
   "cell_type": "code",
   "execution_count": 55,
   "id": "f9f92875",
   "metadata": {},
   "outputs": [
    {
     "data": {
      "text/plain": [
       "637"
      ]
     },
     "execution_count": 55,
     "metadata": {},
     "output_type": "execute_result"
    }
   ],
   "source": [
    "len(year)"
   ]
  },
  {
   "cell_type": "code",
   "execution_count": 44,
   "id": "ba169ce9",
   "metadata": {},
   "outputs": [
    {
     "ename": "SyntaxError",
     "evalue": "unexpected EOF while parsing (<ipython-input-44-738631c2501e>, line 1)",
     "output_type": "error",
     "traceback": [
      "\u001b[0;36m  File \u001b[0;32m\"<ipython-input-44-738631c2501e>\"\u001b[0;36m, line \u001b[0;32m1\u001b[0m\n\u001b[0;31m    alienfilms = list(zip(title,year)\u001b[0m\n\u001b[0m                                     ^\u001b[0m\n\u001b[0;31mSyntaxError\u001b[0m\u001b[0;31m:\u001b[0m unexpected EOF while parsing\n"
     ]
    }
   ],
   "source": [
    "alienfilms = list(zip(title,year)"
   ]
  },
  {
   "cell_type": "code",
   "execution_count": 114,
   "id": "2d329ff3",
   "metadata": {},
   "outputs": [],
   "source": [
    "alienfilms = pd.DataFrame(list(zip(title,year)), columns = ['Title','Year'])"
   ]
  },
  {
   "cell_type": "code",
   "execution_count": 67,
   "id": "2b5b0e9d",
   "metadata": {},
   "outputs": [],
   "source": [
    "duplicate = alienfilms[alienfilms.duplicated('Year')]"
   ]
  },
  {
   "cell_type": "code",
   "execution_count": 74,
   "id": "85823621",
   "metadata": {},
   "outputs": [],
   "source": [
    "sorted = duplicate.sort_values(['Year'])"
   ]
  },
  {
   "cell_type": "code",
   "execution_count": 75,
   "id": "a39fefb1",
   "metadata": {},
   "outputs": [
    {
     "data": {
      "text/html": [
       "<div>\n",
       "<style scoped>\n",
       "    .dataframe tbody tr th:only-of-type {\n",
       "        vertical-align: middle;\n",
       "    }\n",
       "\n",
       "    .dataframe tbody tr th {\n",
       "        vertical-align: top;\n",
       "    }\n",
       "\n",
       "    .dataframe thead th {\n",
       "        text-align: right;\n",
       "    }\n",
       "</style>\n",
       "<table border=\"1\" class=\"dataframe\">\n",
       "  <thead>\n",
       "    <tr style=\"text-align: right;\">\n",
       "      <th></th>\n",
       "      <th>Title</th>\n",
       "      <th>Year</th>\n",
       "    </tr>\n",
       "  </thead>\n",
       "  <tbody>\n",
       "    <tr>\n",
       "      <th>617</th>\n",
       "      <td>When the Man in the Moon Seeks a Wife</td>\n",
       "      <td>1908</td>\n",
       "    </tr>\n",
       "    <tr>\n",
       "      <th>214</th>\n",
       "      <td>Flight to Mars</td>\n",
       "      <td>1950</td>\n",
       "    </tr>\n",
       "    <tr>\n",
       "      <th>216</th>\n",
       "      <td>Flying Disc Man from Mars (serial)</td>\n",
       "      <td>1950</td>\n",
       "    </tr>\n",
       "    <tr>\n",
       "      <th>447</th>\n",
       "      <td>Rocketship X-M</td>\n",
       "      <td>1950</td>\n",
       "    </tr>\n",
       "    <tr>\n",
       "      <th>157</th>\n",
       "      <td>The Day the Earth Stood Still</td>\n",
       "      <td>1951</td>\n",
       "    </tr>\n",
       "    <tr>\n",
       "      <th>...</th>\n",
       "      <td>...</td>\n",
       "      <td>...</td>\n",
       "    </tr>\n",
       "    <tr>\n",
       "      <th>379</th>\n",
       "      <td>New Mutants</td>\n",
       "      <td>2020</td>\n",
       "    </tr>\n",
       "    <tr>\n",
       "      <th>405</th>\n",
       "      <td>Phineas and Ferb the Movie: Candace Against th...</td>\n",
       "      <td>2020</td>\n",
       "    </tr>\n",
       "    <tr>\n",
       "      <th>629</th>\n",
       "      <td>Zack Snyder's Justice League</td>\n",
       "      <td>2021</td>\n",
       "    </tr>\n",
       "    <tr>\n",
       "      <th>593</th>\n",
       "      <td>Venom: Let There Be Carnage</td>\n",
       "      <td>2021</td>\n",
       "    </tr>\n",
       "    <tr>\n",
       "      <th>434</th>\n",
       "      <td>A Quiet Place Part II</td>\n",
       "      <td>2021</td>\n",
       "    </tr>\n",
       "  </tbody>\n",
       "</table>\n",
       "<p>550 rows × 2 columns</p>\n",
       "</div>"
      ],
      "text/plain": [
       "                                                 Title  Year\n",
       "617              When the Man in the Moon Seeks a Wife  1908\n",
       "214                                     Flight to Mars  1950\n",
       "216                 Flying Disc Man from Mars (serial)  1950\n",
       "447                                     Rocketship X-M  1950\n",
       "157                      The Day the Earth Stood Still  1951\n",
       "..                                                 ...   ...\n",
       "379                                        New Mutants  2020\n",
       "405  Phineas and Ferb the Movie: Candace Against th...  2020\n",
       "629                       Zack Snyder's Justice League  2021\n",
       "593                        Venom: Let There Be Carnage  2021\n",
       "434                              A Quiet Place Part II  2021\n",
       "\n",
       "[550 rows x 2 columns]"
      ]
     },
     "execution_count": 75,
     "metadata": {},
     "output_type": "execute_result"
    }
   ],
   "source": [
    "sorted"
   ]
  },
  {
   "cell_type": "code",
   "execution_count": 73,
   "id": "50af7c1c",
   "metadata": {},
   "outputs": [
    {
     "data": {
      "text/html": [
       "<div>\n",
       "<style scoped>\n",
       "    .dataframe tbody tr th:only-of-type {\n",
       "        vertical-align: middle;\n",
       "    }\n",
       "\n",
       "    .dataframe tbody tr th {\n",
       "        vertical-align: top;\n",
       "    }\n",
       "\n",
       "    .dataframe thead th {\n",
       "        text-align: right;\n",
       "    }\n",
       "</style>\n",
       "<table border=\"1\" class=\"dataframe\">\n",
       "  <thead>\n",
       "    <tr style=\"text-align: right;\">\n",
       "      <th></th>\n",
       "      <th>Title</th>\n",
       "      <th>Year</th>\n",
       "    </tr>\n",
       "  </thead>\n",
       "  <tbody>\n",
       "    <tr>\n",
       "      <th>6</th>\n",
       "      <td>The 5th Wave</td>\n",
       "      <td>2016</td>\n",
       "    </tr>\n",
       "    <tr>\n",
       "      <th>12</th>\n",
       "      <td>The Adventures of Buckaroo Banzai Across the 8...</td>\n",
       "      <td>1984</td>\n",
       "    </tr>\n",
       "    <tr>\n",
       "      <th>24</th>\n",
       "      <td>Alien Apocalypse</td>\n",
       "      <td>2005</td>\n",
       "    </tr>\n",
       "    <tr>\n",
       "      <th>30</th>\n",
       "      <td>Alien Invasion Arizona</td>\n",
       "      <td>2005</td>\n",
       "    </tr>\n",
       "    <tr>\n",
       "      <th>35</th>\n",
       "      <td>Alien Siege</td>\n",
       "      <td>2005</td>\n",
       "    </tr>\n",
       "    <tr>\n",
       "      <th>...</th>\n",
       "      <td>...</td>\n",
       "      <td>...</td>\n",
       "    </tr>\n",
       "    <tr>\n",
       "      <th>631</th>\n",
       "      <td>Zathura: A Space Adventure</td>\n",
       "      <td>2005</td>\n",
       "    </tr>\n",
       "    <tr>\n",
       "      <th>632</th>\n",
       "      <td>Zenon: The Zequel</td>\n",
       "      <td>2001</td>\n",
       "    </tr>\n",
       "    <tr>\n",
       "      <th>634</th>\n",
       "      <td>Zombies of the Stratosphere</td>\n",
       "      <td>1952</td>\n",
       "    </tr>\n",
       "    <tr>\n",
       "      <th>635</th>\n",
       "      <td>Zone Troopers</td>\n",
       "      <td>1985</td>\n",
       "    </tr>\n",
       "    <tr>\n",
       "      <th>636</th>\n",
       "      <td>Zontar, the Thing from Venus</td>\n",
       "      <td>1966</td>\n",
       "    </tr>\n",
       "  </tbody>\n",
       "</table>\n",
       "<p>550 rows × 2 columns</p>\n",
       "</div>"
      ],
      "text/plain": [
       "                                                 Title  Year\n",
       "6                                         The 5th Wave  2016\n",
       "12   The Adventures of Buckaroo Banzai Across the 8...  1984\n",
       "24                                    Alien Apocalypse  2005\n",
       "30                              Alien Invasion Arizona  2005\n",
       "35                                         Alien Siege  2005\n",
       "..                                                 ...   ...\n",
       "631                         Zathura: A Space Adventure  2005\n",
       "632                                  Zenon: The Zequel  2001\n",
       "634                        Zombies of the Stratosphere  1952\n",
       "635                                      Zone Troopers  1985\n",
       "636                       Zontar, the Thing from Venus  1966\n",
       "\n",
       "[550 rows x 2 columns]"
      ]
     },
     "metadata": {},
     "output_type": "display_data"
    }
   ],
   "source": [
    "display(duplicate)"
   ]
  },
  {
   "cell_type": "code",
   "execution_count": 115,
   "id": "4f494399",
   "metadata": {},
   "outputs": [
    {
     "name": "stdout",
     "output_type": "stream",
     "text": [
      "<class 'pandas.core.frame.DataFrame'>\n",
      "RangeIndex: 637 entries, 0 to 636\n",
      "Data columns (total 2 columns):\n",
      " #   Column  Non-Null Count  Dtype \n",
      "---  ------  --------------  ----- \n",
      " 0   Title   637 non-null    object\n",
      " 1   Year    637 non-null    object\n",
      "dtypes: object(2)\n",
      "memory usage: 10.1+ KB\n"
     ]
    }
   ],
   "source": [
    "alienfilms.info()"
   ]
  },
  {
   "cell_type": "code",
   "execution_count": 96,
   "id": "17223b75",
   "metadata": {},
   "outputs": [],
   "source": [
    "alienfilms2007 = alienfilms[(alienfilms.Year==\"2008\")]"
   ]
  },
  {
   "cell_type": "code",
   "execution_count": 97,
   "id": "c008ab28",
   "metadata": {
    "collapsed": true
   },
   "outputs": [
    {
     "data": {
      "text/html": [
       "<div>\n",
       "<style scoped>\n",
       "    .dataframe tbody tr th:only-of-type {\n",
       "        vertical-align: middle;\n",
       "    }\n",
       "\n",
       "    .dataframe tbody tr th {\n",
       "        vertical-align: top;\n",
       "    }\n",
       "\n",
       "    .dataframe thead th {\n",
       "        text-align: right;\n",
       "    }\n",
       "</style>\n",
       "<table border=\"1\" class=\"dataframe\">\n",
       "  <thead>\n",
       "    <tr style=\"text-align: right;\">\n",
       "      <th></th>\n",
       "      <th>Title</th>\n",
       "      <th>Year</th>\n",
       "    </tr>\n",
       "  </thead>\n",
       "  <tbody>\n",
       "    <tr>\n",
       "      <th>33</th>\n",
       "      <td>Alien Raiders</td>\n",
       "      <td>2008</td>\n",
       "    </tr>\n",
       "    <tr>\n",
       "      <th>123</th>\n",
       "      <td>Christmas on Mars</td>\n",
       "      <td>2008</td>\n",
       "    </tr>\n",
       "    <tr>\n",
       "      <th>125</th>\n",
       "      <td>CJ7</td>\n",
       "      <td>2008</td>\n",
       "    </tr>\n",
       "    <tr>\n",
       "      <th>127</th>\n",
       "      <td>Cloverfield</td>\n",
       "      <td>2008</td>\n",
       "    </tr>\n",
       "    <tr>\n",
       "      <th>158</th>\n",
       "      <td>The Day the Earth Stood Still</td>\n",
       "      <td>2008</td>\n",
       "    </tr>\n",
       "    <tr>\n",
       "      <th>159</th>\n",
       "      <td>The Day the Earth Stopped</td>\n",
       "      <td>2008</td>\n",
       "    </tr>\n",
       "    <tr>\n",
       "      <th>226</th>\n",
       "      <td>Futurama: The Beast with a Billion Backs (TV)</td>\n",
       "      <td>2008</td>\n",
       "    </tr>\n",
       "    <tr>\n",
       "      <th>279</th>\n",
       "      <td>Indiana Jones and the Kingdom of the Crystal S...</td>\n",
       "      <td>2008</td>\n",
       "    </tr>\n",
       "    <tr>\n",
       "      <th>280</th>\n",
       "      <td>Infected (TV)</td>\n",
       "      <td>2008</td>\n",
       "    </tr>\n",
       "    <tr>\n",
       "      <th>317</th>\n",
       "      <td>Justice League: The New Frontier</td>\n",
       "      <td>2008</td>\n",
       "    </tr>\n",
       "    <tr>\n",
       "      <th>353</th>\n",
       "      <td>Meet Dave</td>\n",
       "      <td>2008</td>\n",
       "    </tr>\n",
       "    <tr>\n",
       "      <th>369</th>\n",
       "      <td>Monster X Strikes Back: Attack the G8 Summit</td>\n",
       "      <td>2008</td>\n",
       "    </tr>\n",
       "    <tr>\n",
       "      <th>394</th>\n",
       "      <td>Outlander</td>\n",
       "      <td>2008</td>\n",
       "    </tr>\n",
       "    <tr>\n",
       "      <th>491</th>\n",
       "      <td>Starship Troopers 3: Marauder</td>\n",
       "      <td>2008</td>\n",
       "    </tr>\n",
       "    <tr>\n",
       "      <th>516</th>\n",
       "      <td>Star Wars: The Clone Wars</td>\n",
       "      <td>2008</td>\n",
       "    </tr>\n",
       "    <tr>\n",
       "      <th>608</th>\n",
       "      <td>War of the Worlds 2: The Next Wave</td>\n",
       "      <td>2008</td>\n",
       "    </tr>\n",
       "    <tr>\n",
       "      <th>623</th>\n",
       "      <td>The X-Files: I Want to Believe</td>\n",
       "      <td>2008</td>\n",
       "    </tr>\n",
       "  </tbody>\n",
       "</table>\n",
       "</div>"
      ],
      "text/plain": [
       "                                                 Title  Year\n",
       "33                                       Alien Raiders  2008\n",
       "123                                  Christmas on Mars  2008\n",
       "125                                                CJ7  2008\n",
       "127                                        Cloverfield  2008\n",
       "158                      The Day the Earth Stood Still  2008\n",
       "159                          The Day the Earth Stopped  2008\n",
       "226      Futurama: The Beast with a Billion Backs (TV)  2008\n",
       "279  Indiana Jones and the Kingdom of the Crystal S...  2008\n",
       "280                                      Infected (TV)  2008\n",
       "317                   Justice League: The New Frontier  2008\n",
       "353                                          Meet Dave  2008\n",
       "369       Monster X Strikes Back: Attack the G8 Summit  2008\n",
       "394                                          Outlander  2008\n",
       "491                      Starship Troopers 3: Marauder  2008\n",
       "516                          Star Wars: The Clone Wars  2008\n",
       "608                 War of the Worlds 2: The Next Wave  2008\n",
       "623                     The X-Files: I Want to Believe  2008"
      ]
     },
     "execution_count": 97,
     "metadata": {},
     "output_type": "execute_result"
    }
   ],
   "source": [
    "alienfilms2007"
   ]
  },
  {
   "cell_type": "code",
   "execution_count": 99,
   "id": "5d3d6dca",
   "metadata": {},
   "outputs": [],
   "source": [
    "import seaborn as sns\n",
    "sns.set_context(\"poster\")\n",
    "sns.set(rc={\"figure.figsize\": (12.,6.)})\n",
    "sns.set_style(\"whitegrid\")"
   ]
  },
  {
   "cell_type": "code",
   "execution_count": 116,
   "id": "c6b1c4e5",
   "metadata": {},
   "outputs": [],
   "source": [
    "alienfilms[\"Year\"] = alienfilms[\"Year\"].astype(str).astype(int)"
   ]
  },
  {
   "cell_type": "code",
   "execution_count": 118,
   "id": "f3fe3a95",
   "metadata": {},
   "outputs": [],
   "source": [
    "alienfilms['Decades'] = (10 * (alienfilms['Year'] // 10))"
   ]
  },
  {
   "cell_type": "code",
   "execution_count": 120,
   "id": "fbfb708f",
   "metadata": {},
   "outputs": [
    {
     "data": {
      "text/plain": [
       "<pandas.core.groupby.generic.DataFrameGroupBy object at 0x7f6585f62e50>"
      ]
     },
     "execution_count": 120,
     "metadata": {},
     "output_type": "execute_result"
    }
   ],
   "source": [
    "alienfilms.groupby(\"Decades\")"
   ]
  },
  {
   "cell_type": "code",
   "execution_count": 121,
   "id": "7eaac66d",
   "metadata": {},
   "outputs": [
    {
     "data": {
      "text/html": [
       "<div>\n",
       "<style scoped>\n",
       "    .dataframe tbody tr th:only-of-type {\n",
       "        vertical-align: middle;\n",
       "    }\n",
       "\n",
       "    .dataframe tbody tr th {\n",
       "        vertical-align: top;\n",
       "    }\n",
       "\n",
       "    .dataframe thead th {\n",
       "        text-align: right;\n",
       "    }\n",
       "</style>\n",
       "<table border=\"1\" class=\"dataframe\">\n",
       "  <thead>\n",
       "    <tr style=\"text-align: right;\">\n",
       "      <th></th>\n",
       "      <th>Title</th>\n",
       "      <th>Year</th>\n",
       "      <th>Decades</th>\n",
       "    </tr>\n",
       "  </thead>\n",
       "  <tbody>\n",
       "    <tr>\n",
       "      <th>0</th>\n",
       "      <td>10 Cloverfield Lane</td>\n",
       "      <td>2016</td>\n",
       "      <td>2010</td>\n",
       "    </tr>\n",
       "    <tr>\n",
       "      <th>1</th>\n",
       "      <td>Kalai Arasi</td>\n",
       "      <td>1963</td>\n",
       "      <td>1960</td>\n",
       "    </tr>\n",
       "    <tr>\n",
       "      <th>2</th>\n",
       "      <td>20 Million Miles to Earth</td>\n",
       "      <td>1957</td>\n",
       "      <td>1950</td>\n",
       "    </tr>\n",
       "    <tr>\n",
       "      <th>3</th>\n",
       "      <td>2001: A Space Odyssey</td>\n",
       "      <td>1968</td>\n",
       "      <td>1960</td>\n",
       "    </tr>\n",
       "    <tr>\n",
       "      <th>4</th>\n",
       "      <td>2001: A Space Travesty</td>\n",
       "      <td>2000</td>\n",
       "      <td>2000</td>\n",
       "    </tr>\n",
       "    <tr>\n",
       "      <th>...</th>\n",
       "      <td>...</td>\n",
       "      <td>...</td>\n",
       "      <td>...</td>\n",
       "    </tr>\n",
       "    <tr>\n",
       "      <th>632</th>\n",
       "      <td>Zenon: The Zequel</td>\n",
       "      <td>2001</td>\n",
       "      <td>2000</td>\n",
       "    </tr>\n",
       "    <tr>\n",
       "      <th>633</th>\n",
       "      <td>Zeta One</td>\n",
       "      <td>1969</td>\n",
       "      <td>1960</td>\n",
       "    </tr>\n",
       "    <tr>\n",
       "      <th>634</th>\n",
       "      <td>Zombies of the Stratosphere</td>\n",
       "      <td>1952</td>\n",
       "      <td>1950</td>\n",
       "    </tr>\n",
       "    <tr>\n",
       "      <th>635</th>\n",
       "      <td>Zone Troopers</td>\n",
       "      <td>1985</td>\n",
       "      <td>1980</td>\n",
       "    </tr>\n",
       "    <tr>\n",
       "      <th>636</th>\n",
       "      <td>Zontar, the Thing from Venus</td>\n",
       "      <td>1966</td>\n",
       "      <td>1960</td>\n",
       "    </tr>\n",
       "  </tbody>\n",
       "</table>\n",
       "<p>637 rows × 3 columns</p>\n",
       "</div>"
      ],
      "text/plain": [
       "                            Title  Year  Decades\n",
       "0             10 Cloverfield Lane  2016     2010\n",
       "1                     Kalai Arasi  1963     1960\n",
       "2       20 Million Miles to Earth  1957     1950\n",
       "3           2001: A Space Odyssey  1968     1960\n",
       "4          2001: A Space Travesty  2000     2000\n",
       "..                            ...   ...      ...\n",
       "632             Zenon: The Zequel  2001     2000\n",
       "633                      Zeta One  1969     1960\n",
       "634   Zombies of the Stratosphere  1952     1950\n",
       "635                 Zone Troopers  1985     1980\n",
       "636  Zontar, the Thing from Venus  1966     1960\n",
       "\n",
       "[637 rows x 3 columns]"
      ]
     },
     "execution_count": 121,
     "metadata": {},
     "output_type": "execute_result"
    }
   ],
   "source": [
    "alienfilms"
   ]
  },
  {
   "cell_type": "code",
   "execution_count": 110,
   "id": "ce22e155",
   "metadata": {},
   "outputs": [
    {
     "data": {
      "text/html": [
       "<div>\n",
       "<style scoped>\n",
       "    .dataframe tbody tr th:only-of-type {\n",
       "        vertical-align: middle;\n",
       "    }\n",
       "\n",
       "    .dataframe tbody tr th {\n",
       "        vertical-align: top;\n",
       "    }\n",
       "\n",
       "    .dataframe thead th {\n",
       "        text-align: right;\n",
       "    }\n",
       "</style>\n",
       "<table border=\"1\" class=\"dataframe\">\n",
       "  <thead>\n",
       "    <tr style=\"text-align: right;\">\n",
       "      <th></th>\n",
       "      <th>Title</th>\n",
       "    </tr>\n",
       "    <tr>\n",
       "      <th>Year</th>\n",
       "      <th></th>\n",
       "    </tr>\n",
       "  </thead>\n",
       "  <tbody>\n",
       "    <tr>\n",
       "      <th>2016</th>\n",
       "      <td>10 Cloverfield Lane</td>\n",
       "    </tr>\n",
       "    <tr>\n",
       "      <th>1963</th>\n",
       "      <td>Kalai Arasi</td>\n",
       "    </tr>\n",
       "    <tr>\n",
       "      <th>1957</th>\n",
       "      <td>20 Million Miles to Earth</td>\n",
       "    </tr>\n",
       "    <tr>\n",
       "      <th>1968</th>\n",
       "      <td>2001: A Space Odyssey</td>\n",
       "    </tr>\n",
       "    <tr>\n",
       "      <th>2000</th>\n",
       "      <td>2001: A Space Travesty</td>\n",
       "    </tr>\n",
       "    <tr>\n",
       "      <th>...</th>\n",
       "      <td>...</td>\n",
       "    </tr>\n",
       "    <tr>\n",
       "      <th>2001</th>\n",
       "      <td>Zenon: The Zequel</td>\n",
       "    </tr>\n",
       "    <tr>\n",
       "      <th>1969</th>\n",
       "      <td>Zeta One</td>\n",
       "    </tr>\n",
       "    <tr>\n",
       "      <th>1952</th>\n",
       "      <td>Zombies of the Stratosphere</td>\n",
       "    </tr>\n",
       "    <tr>\n",
       "      <th>1985</th>\n",
       "      <td>Zone Troopers</td>\n",
       "    </tr>\n",
       "    <tr>\n",
       "      <th>1966</th>\n",
       "      <td>Zontar, the Thing from Venus</td>\n",
       "    </tr>\n",
       "  </tbody>\n",
       "</table>\n",
       "<p>637 rows × 1 columns</p>\n",
       "</div>"
      ],
      "text/plain": [
       "                             Title\n",
       "Year                              \n",
       "2016           10 Cloverfield Lane\n",
       "1963                   Kalai Arasi\n",
       "1957     20 Million Miles to Earth\n",
       "1968         2001: A Space Odyssey\n",
       "2000        2001: A Space Travesty\n",
       "...                            ...\n",
       "2001             Zenon: The Zequel\n",
       "1969                      Zeta One\n",
       "1952   Zombies of the Stratosphere\n",
       "1985                 Zone Troopers\n",
       "1966  Zontar, the Thing from Venus\n",
       "\n",
       "[637 rows x 1 columns]"
      ]
     },
     "execution_count": 110,
     "metadata": {},
     "output_type": "execute_result"
    }
   ],
   "source": [
    "alienfilms.set_index('Year')"
   ]
  },
  {
   "cell_type": "code",
   "execution_count": 113,
   "id": "0b782460",
   "metadata": {},
   "outputs": [
    {
     "ename": "AttributeError",
     "evalue": "'RangeIndex' object has no attribute 'year'",
     "output_type": "error",
     "traceback": [
      "\u001b[0;31m---------------------------------------------------------------------------\u001b[0m",
      "\u001b[0;31mAttributeError\u001b[0m                            Traceback (most recent call last)",
      "\u001b[0;32m<ipython-input-113-01f0ba9b0cce>\u001b[0m in \u001b[0;36m<module>\u001b[0;34m\u001b[0m\n\u001b[0;32m----> 1\u001b[0;31m \u001b[0maliensgroupby\u001b[0m \u001b[0;34m=\u001b[0m \u001b[0malienfilms\u001b[0m\u001b[0;34m.\u001b[0m\u001b[0mgroupby\u001b[0m\u001b[0;34m(\u001b[0m\u001b[0malienfilms\u001b[0m\u001b[0;34m.\u001b[0m\u001b[0mindex\u001b[0m\u001b[0;34m.\u001b[0m\u001b[0myear\u001b[0m \u001b[0;34m//\u001b[0m \u001b[0;36m10\u001b[0m \u001b[0;34m*\u001b[0m \u001b[0;36m10\u001b[0m\u001b[0;34m)\u001b[0m\u001b[0;34m.\u001b[0m\u001b[0mmean\u001b[0m\u001b[0;34m(\u001b[0m\u001b[0;34m)\u001b[0m\u001b[0;34m\u001b[0m\u001b[0;34m\u001b[0m\u001b[0m\n\u001b[0m",
      "\u001b[0;31mAttributeError\u001b[0m: 'RangeIndex' object has no attribute 'year'"
     ]
    }
   ],
   "source": [
    "aliensgroupby = alienfilms.groupby(alienfilms.index.year // 10 * 10).mean()"
   ]
  },
  {
   "cell_type": "code",
   "execution_count": 112,
   "id": "85a6ad53",
   "metadata": {},
   "outputs": [
    {
     "data": {
      "text/html": [
       "<div>\n",
       "<style scoped>\n",
       "    .dataframe tbody tr th:only-of-type {\n",
       "        vertical-align: middle;\n",
       "    }\n",
       "\n",
       "    .dataframe tbody tr th {\n",
       "        vertical-align: top;\n",
       "    }\n",
       "\n",
       "    .dataframe thead th {\n",
       "        text-align: right;\n",
       "    }\n",
       "</style>\n",
       "<table border=\"1\" class=\"dataframe\">\n",
       "  <thead>\n",
       "    <tr style=\"text-align: right;\">\n",
       "      <th></th>\n",
       "      <th>Year</th>\n",
       "    </tr>\n",
       "    <tr>\n",
       "      <th>Year</th>\n",
       "      <th></th>\n",
       "    </tr>\n",
       "  </thead>\n",
       "  <tbody>\n",
       "    <tr>\n",
       "      <th>1900</th>\n",
       "      <td>1906.000000</td>\n",
       "    </tr>\n",
       "    <tr>\n",
       "      <th>1910</th>\n",
       "      <td>1915.500000</td>\n",
       "    </tr>\n",
       "    <tr>\n",
       "      <th>1920</th>\n",
       "      <td>1922.000000</td>\n",
       "    </tr>\n",
       "    <tr>\n",
       "      <th>1930</th>\n",
       "      <td>1935.750000</td>\n",
       "    </tr>\n",
       "    <tr>\n",
       "      <th>1940</th>\n",
       "      <td>1944.000000</td>\n",
       "    </tr>\n",
       "    <tr>\n",
       "      <th>1950</th>\n",
       "      <td>1955.134615</td>\n",
       "    </tr>\n",
       "    <tr>\n",
       "      <th>1960</th>\n",
       "      <td>1964.826923</td>\n",
       "    </tr>\n",
       "    <tr>\n",
       "      <th>1970</th>\n",
       "      <td>1975.675000</td>\n",
       "    </tr>\n",
       "    <tr>\n",
       "      <th>1980</th>\n",
       "      <td>1984.777778</td>\n",
       "    </tr>\n",
       "    <tr>\n",
       "      <th>1990</th>\n",
       "      <td>1995.231707</td>\n",
       "    </tr>\n",
       "    <tr>\n",
       "      <th>2000</th>\n",
       "      <td>2005.203252</td>\n",
       "    </tr>\n",
       "    <tr>\n",
       "      <th>2010</th>\n",
       "      <td>2014.641509</td>\n",
       "    </tr>\n",
       "    <tr>\n",
       "      <th>2020</th>\n",
       "      <td>2020.400000</td>\n",
       "    </tr>\n",
       "  </tbody>\n",
       "</table>\n",
       "</div>"
      ],
      "text/plain": [
       "             Year\n",
       "Year             \n",
       "1900  1906.000000\n",
       "1910  1915.500000\n",
       "1920  1922.000000\n",
       "1930  1935.750000\n",
       "1940  1944.000000\n",
       "1950  1955.134615\n",
       "1960  1964.826923\n",
       "1970  1975.675000\n",
       "1980  1984.777778\n",
       "1990  1995.231707\n",
       "2000  2005.203252\n",
       "2010  2014.641509\n",
       "2020  2020.400000"
      ]
     },
     "execution_count": 112,
     "metadata": {},
     "output_type": "execute_result"
    }
   ],
   "source": [
    "aliensgroupby"
   ]
  },
  {
   "cell_type": "markdown",
   "id": "7ea1e26d",
   "metadata": {},
   "source": [
    "## Películas por década"
   ]
  },
  {
   "cell_type": "code",
   "execution_count": 122,
   "id": "bbc65192",
   "metadata": {},
   "outputs": [
    {
     "data": {
      "text/plain": [
       "<AxesSubplot:xlabel='Decades', ylabel='count'>"
      ]
     },
     "execution_count": 122,
     "metadata": {},
     "output_type": "execute_result"
    },
    {
     "data": {
      "image/png": "[encoded data removed]",
      "text/plain": [
       "<Figure size 864x432 with 1 Axes>"
      ]
     },
     "metadata": {},
     "output_type": "display_data"
    }
   ],
   "source": [
    "sns.countplot(x='Decades', data=alienfilms)"
   ]
  },
  {
   "cell_type": "code",
   "execution_count": 63,
   "id": "12e051cf",
   "metadata": {},
   "outputs": [],
   "source": [
    "alienfilms.to_csv(\"F_films.csv\",index=False)"
   ]
  }
 ],
 "metadata": {
  "kernelspec": {
   "display_name": "Python 3",
   "language": "python",
   "name": "python3"
  },
  "language_info": {
   "codemirror_mode": {
    "name": "ipython",
    "version": 3
   },
   "file_extension": ".py",
   "mimetype": "text/x-python",
   "name": "python",
   "nbconvert_exporter": "python",
   "pygments_lexer": "ipython3",
   "version": "3.8.8"
  }
 },
 "nbformat": 4,
 "nbformat_minor": 5
}
