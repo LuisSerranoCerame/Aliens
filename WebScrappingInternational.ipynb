{
 "cells": [
  {
   "cell_type": "code",
   "execution_count": 1,
   "id": "43345eac",
   "metadata": {},
   "outputs": [],
   "source": [
    "from selenium import webdriver\n",
    "from selenium.webdriver.chrome.options import Options\n",
    "import time\n",
    "import pandas as pd\n",
    "from selenium.webdriver.support.ui import Select\n",
    "from webdriver_manager.chrome import ChromeDriverManager\n",
    "from selenium.webdriver.chrome.service import Service\n",
    "from webdriver_manager.chrome import ChromeDriverManager\n",
    "from selenium.webdriver.common.by import By"
   ]
  },
  {
   "cell_type": "code",
   "execution_count": 2,
   "id": "5451ba0b",
   "metadata": {},
   "outputs": [],
   "source": [
    "opciones=Options()\n",
    "opciones.add_experimental_option('excludeSwitches', ['enable-automation'])\n",
    "opciones.add_experimental_option('useAutomationExtension', False)\n",
    "opciones.headless=False    # si True, no aperece la ventana (headless=no visible)\n",
    "opciones.add_argument('--start-maximized')         # comienza maximizado\n",
    "#opciones.add_argument('user-data-dir=selenium')    # mantiene las cookies\n",
    "#opciones.add_extension('driver_folder/adblock.crx')       # adblocker\n",
    "opciones.add_argument('--incognito')              # incognito"
   ]
  },
  {
   "cell_type": "code",
   "execution_count": 37,
   "id": "d1fe8b55",
   "metadata": {},
   "outputs": [
    {
     "name": "stderr",
     "output_type": "stream",
     "text": [
      "<ipython-input-37-9e17d957f1e6>:2: DeprecationWarning: executable_path has been deprecated, please pass in a Service object\n",
      "  driver = webdriver.Chrome(driver, options = opciones)\n",
      "<ipython-input-37-9e17d957f1e6>:9: DeprecationWarning: find_element_by_* commands are deprecated. Please use find_element() instead\n",
      "  place1.append(driver.find_element_by_xpath('/html/body/font[2]/p/font/table/tbody/tr[1]/td[2]/font').text)\n"
     ]
    }
   ],
   "source": [
    "driver = \"./chromedriver.exe\"\n",
    "driver = webdriver.Chrome(driver, options = opciones)\n",
    "driver.get(\"http://www.nuforc.org/webreports/ndxl.html\")\n",
    "date = []\n",
    "place1 = []\n",
    "\n",
    "\n",
    "\n",
    "place1.append(driver.find_element_by_xpath('/html/body/font[2]/p/font/table/tbody/tr[1]/td[2]/font').text)"
   ]
  },
  {
   "cell_type": "code",
   "execution_count": 38,
   "id": "2c40eb28",
   "metadata": {
    "scrolled": false
   },
   "outputs": [
    {
     "data": {
      "text/plain": [
       "['Gloucestershire (UK/England)']"
      ]
     },
     "execution_count": 38,
     "metadata": {},
     "output_type": "execute_result"
    }
   ],
   "source": [
    "place1"
   ]
  },
  {
   "cell_type": "code",
   "execution_count": null,
   "id": "e7d45a44",
   "metadata": {},
   "outputs": [],
   "source": [
    "date = []\n",
    "place = []\n",
    "state = []\n",
    "shape = []\n",
    "duration = []\n",
    "summary = []"
   ]
  },
  {
   "cell_type": "code",
   "execution_count": 43,
   "id": "2272e79f",
   "metadata": {},
   "outputs": [
    {
     "data": {
      "text/plain": [
       "[]"
      ]
     },
     "execution_count": 43,
     "metadata": {},
     "output_type": "execute_result"
    }
   ],
   "source": [
    "summary"
   ]
  },
  {
   "cell_type": "code",
   "execution_count": null,
   "id": "b08d6dc4",
   "metadata": {},
   "outputs": [],
   "source": [
    "/html/body/p/table/tbody/tr[1]/td[1]/font"
   ]
  },
  {
   "cell_type": "code",
   "execution_count": 63,
   "id": "1cda74f5",
   "metadata": {},
   "outputs": [
    {
     "name": "stderr",
     "output_type": "stream",
     "text": [
      "<ipython-input-63-bd47622e03c8>:9: DeprecationWarning: executable_path has been deprecated, please pass in a Service object\n",
      "  driver = webdriver.Chrome(driver, options = opciones)\n",
      "<ipython-input-63-bd47622e03c8>:27: DeprecationWarning: find_elements_by_* commands are deprecated. Please use find_elements() instead\n",
      "  summary.append(driver.find_elements_by_xpath(f\"/html/body/p/table/tbody/tr[{i}]/td[6]/font/text()\"))\n"
     ]
    }
   ],
   "source": [
    "id = []\n",
    "date = []\n",
    "place = []\n",
    "state = []\n",
    "shape = []\n",
    "duration = []\n",
    "summary = []\n",
    "driver = \"./chromedriver.exe\"\n",
    "driver = webdriver.Chrome(driver, options = opciones)\n",
    "driver.get(\"http://www.nuforc.org/webreports/ndxl.html\")\n",
    "date = []\n",
    "place1 = []\n",
    "\n",
    "for i in range(1,10):\n",
    "    #date.append(driver.find_element_by_xpath(f'/html/body/p/table/tbody/tr[{i}]/td[1]/font/a').text)\n",
    "    \n",
    "    #place.append(driver.find_element_by_xpath(f'/html/body/font[2]/p/font/table/tbody/tr[{i}]/td[2]/font').text)\n",
    "    #place.append(driver.find_element_by_xpath(f'/html/body/p/table/tbody/tr[1]/td[2]').text)\n",
    "    \n",
    "    #/html/body/p/table/tbody/tr[1]/td[2]/font\n",
    "    #/html/body/p/table/tbody/tr[1]/td[2]/font\n",
    "    #/html/body/p/table/tbody/tr[1]/td[2]/font\n",
    "    #/html/body/p/table/tbody/tr[1]/td[2]\n",
    "    #state.append(driver.find_elements_by_xpath(f\"/html/body/p/table/tbody/tr[{i}]/td[3]/font\").text)\n",
    "    #shape.append(driver.find_elements_by_xpath(f\"/html/body/p/table/tbody/tr[{i}]/td[4]/font\").text)\n",
    "    #duration.append(driver.find_elements_by_xpath(f\"/html/body/p/table/tbody/tr[{i}]/td[5]/font\").text)                                                   \n",
    "    summary.append(driver.find_elements_by_xpath(f\"/html/body/p/table/tbody/tr[{i}]/td[6]/font/text()\"))\n",
    "    id.append(i+1)"
   ]
  },
  {
   "cell_type": "code",
   "execution_count": 64,
   "id": "80dffc8b",
   "metadata": {},
   "outputs": [
    {
     "data": {
      "text/plain": [
       "[[], [], [], [], [], [], [], [], []]"
      ]
     },
     "execution_count": 64,
     "metadata": {},
     "output_type": "execute_result"
    }
   ],
   "source": [
    "summary"
   ]
  },
  {
   "cell_type": "code",
   "execution_count": null,
   "id": "102e3168",
   "metadata": {},
   "outputs": [],
   "source": [
    "for i in range(1,10):\n",
    "    driver.find_element_by_css_selector(f\"body > div.layout-content-1.layout-item-3-1.grid-limit > div.layout-body > div.widget-item > div.table.matches > div.table-rows > div:nth-child({i}) > div:nth-child(4) > div > div:nth-child(3)\").click()\n",
    "                                    #body > div.layout-content-1.layout-item-3-1.grid-limit > div.layout-body > div.widget-item > div.table.matches > div.table-rows > div:nth-child(2) > div:nth-child(4) > div > div:nth-child(3) > div.info-de-tabla-trigger\n",
    "    dia.append(driver.find_elements_by_xpath(f\"/html/body/div[8]/div[1]/div[3]/div[2]/div[2]/div[{i}]/div[4]/div/div[1]/div[2]/div[1]\")[0].text)\n",
    "                                    #/html/body/div[8]/div[1]/div[3]/div[2]/div[2]/div[2]/div[4]/div/div[1]/div[2]/div[1]\n",
    "    hora.append(driver.find_elements_by_xpath(f\"/html/body/div[8]/div[1]/div[3]/div[2]/div[2]/div[{i}]/div[4]/div/div[1]/div[2]/div[2]\")[0].text)\n",
    "                                    #/html/body/div[8]/div[1]/div[3]/div[2]/div[2]/div[2]/div[4]/div/div[1]/div[2]/div[2]\n",
    "    lugar.append(driver.find_elements_by_xpath(f\"/html/body/div[8]/div[1]/div[3]/div[2]/div[2]/div[{i}]/div[4]/div/div[1]/div[2]/div[3]\")[0].text)\n",
    "    driver.find_element_by_css_selector(f\"body > div.layout-content-1.layout-item-3-1.grid-limit > div.layout-body > div.widget-item > div.table.matches > div.table-rows > div:nth-child({i}) > div:nth-child(4) > div > div:nth-child(3)\").click()\n",
    "    equipo1.append(driver.find_elements_by_xpath(f\"/html/body/div[8]/div[1]/div[3]/div[2]/div[2]/div[{i}]/div[1]/div/div/p/a\")[0].text)                                                   \n",
    "    equipo2.append(driver.find_elements_by_xpath(f\"/html/body/div[8]/div[1]/div[3]/div[2]/div[2]/div[{i}]/div[3]/div/div/p/a\")[0].text)\n",
    "              "
   ]
  },
  {
   "cell_type": "code",
   "execution_count": 28,
   "id": "0e057f00",
   "metadata": {},
   "outputs": [
    {
     "name": "stderr",
     "output_type": "stream",
     "text": [
      "<ipython-input-28-bbfec197b487>:2: DeprecationWarning: executable_path has been deprecated, please pass in a Service object\n",
      "  driver = webdriver.Chrome(driver, options = opciones)\n",
      "<ipython-input-28-bbfec197b487>:10: DeprecationWarning: find_element_by_* commands are deprecated. Please use find_element() instead\n",
      "  el = driver.find_element_by_xpath('/html/body/font[2]/p/font/table/tbody/tr[1]/td[2]/font')\n"
     ]
    },
    {
     "ename": "SyntaxError",
     "evalue": "'return' outside function (<ipython-input-28-bbfec197b487>, line 13)",
     "output_type": "error",
     "traceback": [
      "\u001b[0;36m  File \u001b[0;32m\"<ipython-input-28-bbfec197b487>\"\u001b[0;36m, line \u001b[0;32m13\u001b[0m\n\u001b[0;31m    return driver.find_element_by_xpath('/html/body/font[2]/p/font/table/tbody/tr[1]/td[2]/font')\u001b[0m\n\u001b[0m    ^\u001b[0m\n\u001b[0;31mSyntaxError\u001b[0m\u001b[0;31m:\u001b[0m 'return' outside function\n"
     ]
    }
   ],
   "source": [
    "driver = \"./chromedriver.exe\"\n",
    "driver = webdriver.Chrome(driver, options = opciones)\n",
    "driver.get(\"http://www.nuforc.org/webreports/ndxl.html\")\n",
    "date = []\n",
    "place = []\n",
    "\n",
    "\n",
    "\n",
    "\n",
    "el = driver.find_element_by_xpath('/html/body/font[2]/p/font/table/tbody/tr[1]/td[2]/font')\n",
    "\n",
    "if el.text == 'Gloucestershire (UK/England)':\n",
    "    return driver.find_element_by_xpath('/html/body/font[2]/p/font/table/tbody/tr[1]/td[2]/font')\n",
    "\n",
    "\n",
    "#lace.append(driver.find_element_by_css_selector(\"#body> p > table > tbody > tr:nth-child(1) > td:nth-child(2)\").text)\n",
    "#lace.append(driver.find_element_by_xpath(\"/html/body/p/table/tbody/tr[1]/td[2]/font\").text)\n",
    "#ate.append(driver.find_element_by_xpath(\"/html/body/p/table/tbody/tr[1]/td[2]\").text)\n",
    "#place.append(find_element_by_css_selector(\"#body > p > table > tbody > tr:nth-child(1) > td:nth-child(2)\").text)"
   ]
  },
  {
   "cell_type": "code",
   "execution_count": 17,
   "id": "9fe18aa8",
   "metadata": {},
   "outputs": [
    {
     "data": {
      "text/plain": [
       "[[]]"
      ]
     },
     "execution_count": 17,
     "metadata": {},
     "output_type": "execute_result"
    }
   ],
   "source": [
    "date"
   ]
  },
  {
   "cell_type": "code",
   "execution_count": null,
   "id": "0376fe74",
   "metadata": {},
   "outputs": [],
   "source": [
    "tabla = /html/body/p/table\n",
    "row = /html/body/p/table/tbody/tr[1]\n",
    "row = /html/body/p/table/tbody/tr[2]\n",
    "date = /html/body/p/table/tbody/tr[1]/td[1]\n",
    "place = body > p > table > tbody > tr:nth-child(1) > td:nth-child(2)"
   ]
  }
 ],
 "metadata": {
  "kernelspec": {
   "display_name": "Python 3",
   "language": "python",
   "name": "python3"
  },
  "language_info": {
   "codemirror_mode": {
    "name": "ipython",
    "version": 3
   },
   "file_extension": ".py",
   "mimetype": "text/x-python",
   "name": "python",
   "nbconvert_exporter": "python",
   "pygments_lexer": "ipython3",
   "version": "3.8.8"
  }
 },
 "nbformat": 4,
 "nbformat_minor": 5
}
